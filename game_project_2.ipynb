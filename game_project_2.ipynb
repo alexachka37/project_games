{
 "cells": [
  {
   "cell_type": "markdown",
   "metadata": {},
   "source": [
    "# Исследование данных о продажах игр.\n",
    "\n",
    "Мы имеем данные до 2016 года о продажах игр, оценках пользователей и экспертов, жанрах и платформах. \n",
    "\n",
    "<b> Цель:</b>  \n",
    "выявить закономерности, определяющие успешность компьютерной игры.\n",
    "\n",
    "<b> Задачи: </b>\n",
    "\n",
    "- провести предобработку данных\n",
    "\n",
    "- провести исследовательский анализ данных: определить срок жизни платформы, потенциально прибыльные платформы,  выяснить, влияют ли отзывы пользователей и критиков на продажи, определить прибыльные жанры\n",
    "\n",
    "- составить портрет пользователей каждого региона\n",
    "\n",
    "- проверить две гипотезы: средние пользовательские рейтинги платформ Xbox One и PC одинаковые; средние пользовательские рейтинги жанров Action и Sports разные.\n",
    "\n",
    "<b> Описание данных: </b>\n",
    "\n",
    "Name — название игры\n",
    "\n",
    "Platform — платформа\n",
    "\n",
    "Year_of_Release — год выпуска\n",
    "\n",
    "Genre — жанр игры\n",
    "\n",
    "NA_sales — продажи в Северной Америке (миллионы проданных копий)\n",
    "\n",
    "EU_sales — продажи в Европе (миллионы проданных копий)\n",
    "\n",
    "JP_sales — продажи в Японии (миллионы проданных копий)\n",
    "\n",
    "Other_sales — продажи в других странах (миллионы проданных копий)\n",
    "\n",
    "Critic_Score — оценка критиков (максимум 100)\n",
    "\n",
    "User_Score — оценка пользователей (максимум 10)\n",
    "\n",
    "Rating — рейтинг от организации ESRB (англ. Entertainment Software Rating Board). Эта ассоциация определяет рейтинг компьютерных игр и присваивает им подходящую возрастную категорию."
   ]
  },
  {
   "cell_type": "markdown",
   "metadata": {},
   "source": [
    "### Откроем файл с данными и изучим общую информацию. "
   ]
  },
  {
   "cell_type": "code",
   "execution_count": 190,
   "metadata": {},
   "outputs": [],
   "source": [
    "import pandas as pd\n",
    "import matplotlib.pyplot as plt\n",
    "import numpy as np\n",
    "import seaborn as sns\n",
    "from scipy import stats as st"
   ]
  },
  {
   "cell_type": "code",
   "execution_count": 191,
   "metadata": {},
   "outputs": [],
   "source": [
    "data = pd.read_csv('/datasets/games.csv')"
   ]
  },
  {
   "cell_type": "code",
   "execution_count": 192,
   "metadata": {},
   "outputs": [
    {
     "data": {
      "text/html": [
       "<div>\n",
       "<style scoped>\n",
       "    .dataframe tbody tr th:only-of-type {\n",
       "        vertical-align: middle;\n",
       "    }\n",
       "\n",
       "    .dataframe tbody tr th {\n",
       "        vertical-align: top;\n",
       "    }\n",
       "\n",
       "    .dataframe thead th {\n",
       "        text-align: right;\n",
       "    }\n",
       "</style>\n",
       "<table border=\"1\" class=\"dataframe\">\n",
       "  <thead>\n",
       "    <tr style=\"text-align: right;\">\n",
       "      <th></th>\n",
       "      <th>Name</th>\n",
       "      <th>Platform</th>\n",
       "      <th>Year_of_Release</th>\n",
       "      <th>Genre</th>\n",
       "      <th>NA_sales</th>\n",
       "      <th>EU_sales</th>\n",
       "      <th>JP_sales</th>\n",
       "      <th>Other_sales</th>\n",
       "      <th>Critic_Score</th>\n",
       "      <th>User_Score</th>\n",
       "      <th>Rating</th>\n",
       "    </tr>\n",
       "  </thead>\n",
       "  <tbody>\n",
       "    <tr>\n",
       "      <th>0</th>\n",
       "      <td>Wii Sports</td>\n",
       "      <td>Wii</td>\n",
       "      <td>2006.0</td>\n",
       "      <td>Sports</td>\n",
       "      <td>41.36</td>\n",
       "      <td>28.96</td>\n",
       "      <td>3.77</td>\n",
       "      <td>8.45</td>\n",
       "      <td>76.0</td>\n",
       "      <td>8</td>\n",
       "      <td>E</td>\n",
       "    </tr>\n",
       "    <tr>\n",
       "      <th>1</th>\n",
       "      <td>Super Mario Bros.</td>\n",
       "      <td>NES</td>\n",
       "      <td>1985.0</td>\n",
       "      <td>Platform</td>\n",
       "      <td>29.08</td>\n",
       "      <td>3.58</td>\n",
       "      <td>6.81</td>\n",
       "      <td>0.77</td>\n",
       "      <td>NaN</td>\n",
       "      <td>NaN</td>\n",
       "      <td>NaN</td>\n",
       "    </tr>\n",
       "    <tr>\n",
       "      <th>2</th>\n",
       "      <td>Mario Kart Wii</td>\n",
       "      <td>Wii</td>\n",
       "      <td>2008.0</td>\n",
       "      <td>Racing</td>\n",
       "      <td>15.68</td>\n",
       "      <td>12.76</td>\n",
       "      <td>3.79</td>\n",
       "      <td>3.29</td>\n",
       "      <td>82.0</td>\n",
       "      <td>8.3</td>\n",
       "      <td>E</td>\n",
       "    </tr>\n",
       "    <tr>\n",
       "      <th>3</th>\n",
       "      <td>Wii Sports Resort</td>\n",
       "      <td>Wii</td>\n",
       "      <td>2009.0</td>\n",
       "      <td>Sports</td>\n",
       "      <td>15.61</td>\n",
       "      <td>10.93</td>\n",
       "      <td>3.28</td>\n",
       "      <td>2.95</td>\n",
       "      <td>80.0</td>\n",
       "      <td>8</td>\n",
       "      <td>E</td>\n",
       "    </tr>\n",
       "    <tr>\n",
       "      <th>4</th>\n",
       "      <td>Pokemon Red/Pokemon Blue</td>\n",
       "      <td>GB</td>\n",
       "      <td>1996.0</td>\n",
       "      <td>Role-Playing</td>\n",
       "      <td>11.27</td>\n",
       "      <td>8.89</td>\n",
       "      <td>10.22</td>\n",
       "      <td>1.00</td>\n",
       "      <td>NaN</td>\n",
       "      <td>NaN</td>\n",
       "      <td>NaN</td>\n",
       "    </tr>\n",
       "    <tr>\n",
       "      <th>5</th>\n",
       "      <td>Tetris</td>\n",
       "      <td>GB</td>\n",
       "      <td>1989.0</td>\n",
       "      <td>Puzzle</td>\n",
       "      <td>23.20</td>\n",
       "      <td>2.26</td>\n",
       "      <td>4.22</td>\n",
       "      <td>0.58</td>\n",
       "      <td>NaN</td>\n",
       "      <td>NaN</td>\n",
       "      <td>NaN</td>\n",
       "    </tr>\n",
       "    <tr>\n",
       "      <th>6</th>\n",
       "      <td>New Super Mario Bros.</td>\n",
       "      <td>DS</td>\n",
       "      <td>2006.0</td>\n",
       "      <td>Platform</td>\n",
       "      <td>11.28</td>\n",
       "      <td>9.14</td>\n",
       "      <td>6.50</td>\n",
       "      <td>2.88</td>\n",
       "      <td>89.0</td>\n",
       "      <td>8.5</td>\n",
       "      <td>E</td>\n",
       "    </tr>\n",
       "    <tr>\n",
       "      <th>7</th>\n",
       "      <td>Wii Play</td>\n",
       "      <td>Wii</td>\n",
       "      <td>2006.0</td>\n",
       "      <td>Misc</td>\n",
       "      <td>13.96</td>\n",
       "      <td>9.18</td>\n",
       "      <td>2.93</td>\n",
       "      <td>2.84</td>\n",
       "      <td>58.0</td>\n",
       "      <td>6.6</td>\n",
       "      <td>E</td>\n",
       "    </tr>\n",
       "    <tr>\n",
       "      <th>8</th>\n",
       "      <td>New Super Mario Bros. Wii</td>\n",
       "      <td>Wii</td>\n",
       "      <td>2009.0</td>\n",
       "      <td>Platform</td>\n",
       "      <td>14.44</td>\n",
       "      <td>6.94</td>\n",
       "      <td>4.70</td>\n",
       "      <td>2.24</td>\n",
       "      <td>87.0</td>\n",
       "      <td>8.4</td>\n",
       "      <td>E</td>\n",
       "    </tr>\n",
       "    <tr>\n",
       "      <th>9</th>\n",
       "      <td>Duck Hunt</td>\n",
       "      <td>NES</td>\n",
       "      <td>1984.0</td>\n",
       "      <td>Shooter</td>\n",
       "      <td>26.93</td>\n",
       "      <td>0.63</td>\n",
       "      <td>0.28</td>\n",
       "      <td>0.47</td>\n",
       "      <td>NaN</td>\n",
       "      <td>NaN</td>\n",
       "      <td>NaN</td>\n",
       "    </tr>\n",
       "  </tbody>\n",
       "</table>\n",
       "</div>"
      ],
      "text/plain": [
       "                        Name Platform  Year_of_Release         Genre  \\\n",
       "0                 Wii Sports      Wii           2006.0        Sports   \n",
       "1          Super Mario Bros.      NES           1985.0      Platform   \n",
       "2             Mario Kart Wii      Wii           2008.0        Racing   \n",
       "3          Wii Sports Resort      Wii           2009.0        Sports   \n",
       "4   Pokemon Red/Pokemon Blue       GB           1996.0  Role-Playing   \n",
       "5                     Tetris       GB           1989.0        Puzzle   \n",
       "6      New Super Mario Bros.       DS           2006.0      Platform   \n",
       "7                   Wii Play      Wii           2006.0          Misc   \n",
       "8  New Super Mario Bros. Wii      Wii           2009.0      Platform   \n",
       "9                  Duck Hunt      NES           1984.0       Shooter   \n",
       "\n",
       "   NA_sales  EU_sales  JP_sales  Other_sales  Critic_Score User_Score Rating  \n",
       "0     41.36     28.96      3.77         8.45          76.0          8      E  \n",
       "1     29.08      3.58      6.81         0.77           NaN        NaN    NaN  \n",
       "2     15.68     12.76      3.79         3.29          82.0        8.3      E  \n",
       "3     15.61     10.93      3.28         2.95          80.0          8      E  \n",
       "4     11.27      8.89     10.22         1.00           NaN        NaN    NaN  \n",
       "5     23.20      2.26      4.22         0.58           NaN        NaN    NaN  \n",
       "6     11.28      9.14      6.50         2.88          89.0        8.5      E  \n",
       "7     13.96      9.18      2.93         2.84          58.0        6.6      E  \n",
       "8     14.44      6.94      4.70         2.24          87.0        8.4      E  \n",
       "9     26.93      0.63      0.28         0.47           NaN        NaN    NaN  "
      ]
     },
     "execution_count": 192,
     "metadata": {},
     "output_type": "execute_result"
    }
   ],
   "source": [
    "data.head(10)"
   ]
  },
  {
   "cell_type": "code",
   "execution_count": 193,
   "metadata": {},
   "outputs": [
    {
     "name": "stdout",
     "output_type": "stream",
     "text": [
      "<class 'pandas.core.frame.DataFrame'>\n",
      "RangeIndex: 16715 entries, 0 to 16714\n",
      "Data columns (total 11 columns):\n",
      " #   Column           Non-Null Count  Dtype  \n",
      "---  ------           --------------  -----  \n",
      " 0   Name             16713 non-null  object \n",
      " 1   Platform         16715 non-null  object \n",
      " 2   Year_of_Release  16446 non-null  float64\n",
      " 3   Genre            16713 non-null  object \n",
      " 4   NA_sales         16715 non-null  float64\n",
      " 5   EU_sales         16715 non-null  float64\n",
      " 6   JP_sales         16715 non-null  float64\n",
      " 7   Other_sales      16715 non-null  float64\n",
      " 8   Critic_Score     8137 non-null   float64\n",
      " 9   User_Score       10014 non-null  object \n",
      " 10  Rating           9949 non-null   object \n",
      "dtypes: float64(6), object(5)\n",
      "memory usage: 1.4+ MB\n"
     ]
    }
   ],
   "source": [
    "data.info()"
   ]
  },
  {
   "cell_type": "markdown",
   "metadata": {},
   "source": [
    "<b> Вывод: </b> В данном разделе мы загрузили данные из csv-файла в датафрейм. Используя метод head(), ознакомились с первыми строками таблицы. Метод info() позволил нам определить, количество строк в таблице (16715), названия столбцов таблицы, тип данных в столбцах, а также наличие большого количества пропущенных значений (40-50%) в столбцах 'Сritic_Score\", 'User_Score', 'Rating'."
   ]
  },
  {
   "cell_type": "markdown",
   "metadata": {},
   "source": [
    "### Предобработка данных"
   ]
  },
  {
   "cell_type": "code",
   "execution_count": 194,
   "metadata": {},
   "outputs": [],
   "source": [
    "data.columns = [x.lower() for x in data.columns] #переведем названия всех столбцов в змеиный регистр"
   ]
  },
  {
   "cell_type": "code",
   "execution_count": 195,
   "metadata": {},
   "outputs": [
    {
     "data": {
      "text/plain": [
       "critic_score       8578\n",
       "rating             6766\n",
       "user_score         6701\n",
       "year_of_release     269\n",
       "name                  2\n",
       "genre                 2\n",
       "platform              0\n",
       "na_sales              0\n",
       "eu_sales              0\n",
       "jp_sales              0\n",
       "other_sales           0\n",
       "dtype: int64"
      ]
     },
     "execution_count": 195,
     "metadata": {},
     "output_type": "execute_result"
    }
   ],
   "source": [
    "data.isna().sum().sort_values(ascending=False) #определим количество пропущенный значений в столбцах датафрейма"
   ]
  },
  {
   "cell_type": "code",
   "execution_count": 196,
   "metadata": {},
   "outputs": [
    {
     "data": {
      "text/html": [
       "<style  type=\"text/css\" >\n",
       "#T_bfaab_row0_col0,#T_bfaab_row1_col0,#T_bfaab_row3_col0,#T_bfaab_row4_col0,#T_bfaab_row5_col0,#T_bfaab_row6_col0,#T_bfaab_row7_col0{\n",
       "            background-color:  #3b4cc0;\n",
       "            color:  #f1f1f1;\n",
       "        }#T_bfaab_row2_col0{\n",
       "            background-color:  #445acc;\n",
       "            color:  #f1f1f1;\n",
       "        }#T_bfaab_row8_col0{\n",
       "            background-color:  #b40426;\n",
       "            color:  #f1f1f1;\n",
       "        }#T_bfaab_row9_col0{\n",
       "            background-color:  #f18d6f;\n",
       "            color:  #000000;\n",
       "        }#T_bfaab_row10_col0{\n",
       "            background-color:  #f08a6c;\n",
       "            color:  #000000;\n",
       "        }</style><table id=\"T_bfaab_\" ><thead>    <tr>        <th class=\"blank level0\" ></th>        <th class=\"col_heading level0 col0\" >0</th>    </tr></thead><tbody>\n",
       "                <tr>\n",
       "                        <th id=\"T_bfaab_level0_row0\" class=\"row_heading level0 row0\" >name</th>\n",
       "                        <td id=\"T_bfaab_row0_col0\" class=\"data row0 col0\" >0.011965</td>\n",
       "            </tr>\n",
       "            <tr>\n",
       "                        <th id=\"T_bfaab_level0_row1\" class=\"row_heading level0 row1\" >platform</th>\n",
       "                        <td id=\"T_bfaab_row1_col0\" class=\"data row1 col0\" >0.000000</td>\n",
       "            </tr>\n",
       "            <tr>\n",
       "                        <th id=\"T_bfaab_level0_row2\" class=\"row_heading level0 row2\" >year_of_release</th>\n",
       "                        <td id=\"T_bfaab_row2_col0\" class=\"data row2 col0\" >1.609333</td>\n",
       "            </tr>\n",
       "            <tr>\n",
       "                        <th id=\"T_bfaab_level0_row3\" class=\"row_heading level0 row3\" >genre</th>\n",
       "                        <td id=\"T_bfaab_row3_col0\" class=\"data row3 col0\" >0.011965</td>\n",
       "            </tr>\n",
       "            <tr>\n",
       "                        <th id=\"T_bfaab_level0_row4\" class=\"row_heading level0 row4\" >na_sales</th>\n",
       "                        <td id=\"T_bfaab_row4_col0\" class=\"data row4 col0\" >0.000000</td>\n",
       "            </tr>\n",
       "            <tr>\n",
       "                        <th id=\"T_bfaab_level0_row5\" class=\"row_heading level0 row5\" >eu_sales</th>\n",
       "                        <td id=\"T_bfaab_row5_col0\" class=\"data row5 col0\" >0.000000</td>\n",
       "            </tr>\n",
       "            <tr>\n",
       "                        <th id=\"T_bfaab_level0_row6\" class=\"row_heading level0 row6\" >jp_sales</th>\n",
       "                        <td id=\"T_bfaab_row6_col0\" class=\"data row6 col0\" >0.000000</td>\n",
       "            </tr>\n",
       "            <tr>\n",
       "                        <th id=\"T_bfaab_level0_row7\" class=\"row_heading level0 row7\" >other_sales</th>\n",
       "                        <td id=\"T_bfaab_row7_col0\" class=\"data row7 col0\" >0.000000</td>\n",
       "            </tr>\n",
       "            <tr>\n",
       "                        <th id=\"T_bfaab_level0_row8\" class=\"row_heading level0 row8\" >critic_score</th>\n",
       "                        <td id=\"T_bfaab_row8_col0\" class=\"data row8 col0\" >51.319174</td>\n",
       "            </tr>\n",
       "            <tr>\n",
       "                        <th id=\"T_bfaab_level0_row9\" class=\"row_heading level0 row9\" >user_score</th>\n",
       "                        <td id=\"T_bfaab_row9_col0\" class=\"data row9 col0\" >40.089740</td>\n",
       "            </tr>\n",
       "            <tr>\n",
       "                        <th id=\"T_bfaab_level0_row10\" class=\"row_heading level0 row10\" >rating</th>\n",
       "                        <td id=\"T_bfaab_row10_col0\" class=\"data row10 col0\" >40.478612</td>\n",
       "            </tr>\n",
       "    </tbody></table>"
      ],
      "text/plain": [
       "<pandas.io.formats.style.Styler at 0x7f13b7866c70>"
      ]
     },
     "execution_count": 196,
     "metadata": {},
     "output_type": "execute_result"
    }
   ],
   "source": [
    "pd.DataFrame(round(data.isna().mean()*100,10)).style.background_gradient('coolwarm')\n",
    "#Определим количество пропусков в %:"
   ]
  },
  {
   "cell_type": "code",
   "execution_count": 197,
   "metadata": {},
   "outputs": [],
   "source": [
    "#удалим строки с пропущенными значениями в столбце 'year_of_release'\n",
    "data = data.dropna(subset=['year_of_release'])"
   ]
  },
  {
   "cell_type": "markdown",
   "metadata": {},
   "source": [
    "Заменим типы данных в столбцах 'year_of_release', 'critic_score' нa целочисленный тип, так как год выпуска игры и рейтинг критиков - целые числа от 0 до 100."
   ]
  },
  {
   "cell_type": "code",
   "execution_count": 198,
   "metadata": {},
   "outputs": [],
   "source": [
    "data['year_of_release'] = pd.to_numeric(data['year_of_release'], errors='coerce').astype('int')\n",
    "data['critic_score'] = pd.to_numeric(data['critic_score'], downcast='integer')"
   ]
  },
  {
   "cell_type": "code",
   "execution_count": 199,
   "metadata": {},
   "outputs": [
    {
     "data": {
      "text/plain": [
       "[13.0,\n",
       " 17.0,\n",
       " 19.0,\n",
       " 20.0,\n",
       " 21.0,\n",
       " 23.0,\n",
       " 24.0,\n",
       " 25.0,\n",
       " 26.0,\n",
       " 27.0,\n",
       " 28.0,\n",
       " 29.0,\n",
       " 30.0,\n",
       " 31.0,\n",
       " 32.0,\n",
       " 33.0,\n",
       " 34.0,\n",
       " 35.0,\n",
       " 36.0,\n",
       " 37.0,\n",
       " 38.0,\n",
       " 39.0,\n",
       " 40.0,\n",
       " 41.0,\n",
       " 42.0,\n",
       " 43.0,\n",
       " 44.0,\n",
       " 45.0,\n",
       " 46.0,\n",
       " 47.0,\n",
       " 48.0,\n",
       " 50.0,\n",
       " 51.0,\n",
       " 52.0,\n",
       " 53.0,\n",
       " 54.0,\n",
       " 55.0,\n",
       " 57.0,\n",
       " 63.0,\n",
       " 65.0,\n",
       " 69.0,\n",
       " 76.0,\n",
       " nan,\n",
       " 49.0,\n",
       " 56.0,\n",
       " 58.0,\n",
       " 59.0,\n",
       " 60.0,\n",
       " 61.0,\n",
       " 62.0,\n",
       " 64.0,\n",
       " 66.0,\n",
       " 67.0,\n",
       " 68.0,\n",
       " 70.0,\n",
       " 71.0,\n",
       " 72.0,\n",
       " 73.0,\n",
       " 74.0,\n",
       " 75.0,\n",
       " 77.0,\n",
       " 78.0,\n",
       " 79.0,\n",
       " 80.0,\n",
       " 81.0,\n",
       " 82.0,\n",
       " 83.0,\n",
       " 84.0,\n",
       " 85.0,\n",
       " 86.0,\n",
       " 87.0,\n",
       " 88.0,\n",
       " 89.0,\n",
       " 90.0,\n",
       " 91.0,\n",
       " 92.0,\n",
       " 93.0,\n",
       " 94.0,\n",
       " 95.0,\n",
       " 96.0,\n",
       " 97.0,\n",
       " 98.0]"
      ]
     },
     "execution_count": 199,
     "metadata": {},
     "output_type": "execute_result"
    }
   ],
   "source": [
    "sorted(data['critic_score'].unique()) \n",
    "#отсортируем список уникальных значений столбца 'critic_score', видим что нестандартных значений нет \n"
   ]
  },
  {
   "cell_type": "code",
   "execution_count": 200,
   "metadata": {},
   "outputs": [
    {
     "data": {
      "text/plain": [
       "array(['8', nan, '8.3', '8.5', '6.6', '8.4', '8.6', '7.7', '6.3', '7.4',\n",
       "       '8.2', '9', '7.9', '8.1', '8.7', '7.1', '3.4', '5.3', '4.8', '3.2',\n",
       "       '8.9', '6.4', '7.8', '7.5', '2.6', '7.2', '9.2', '7', '7.3', '4.3',\n",
       "       '7.6', '5.7', '5', '9.1', '6.5', 'tbd', '8.8', '6.9', '9.4', '6.8',\n",
       "       '6.1', '6.7', '5.4', '4', '4.9', '4.5', '9.3', '6.2', '4.2', '6',\n",
       "       '3.7', '4.1', '5.8', '5.6', '5.5', '4.4', '4.6', '5.9', '3.9',\n",
       "       '3.1', '2.9', '5.2', '3.3', '4.7', '5.1', '3.5', '2.5', '1.9', '3',\n",
       "       '2.7', '2.2', '2', '9.5', '2.1', '3.6', '2.8', '1.8', '3.8', '0',\n",
       "       '1.6', '9.6', '2.4', '1.7', '1.1', '0.3', '1.5', '0.7', '1.2',\n",
       "       '2.3', '0.5', '1.3', '0.2', '0.6', '1.4', '0.9', '1', '9.7'],\n",
       "      dtype=object)"
      ]
     },
     "execution_count": 200,
     "metadata": {},
     "output_type": "execute_result"
    }
   ],
   "source": [
    "data['user_score'].unique()"
   ]
  },
  {
   "cell_type": "markdown",
   "metadata": {},
   "source": [
    "В столбце 'user_score' присутствует значение 'tbd', что в терминологии игр обозначает \"будет определено\", значит в данном случае рейтинг не известен, т.е. можно заменить его на значение Nan.  "
   ]
  },
  {
   "cell_type": "code",
   "execution_count": 201,
   "metadata": {},
   "outputs": [],
   "source": [
    "data['user_score'] = data['user_score'].replace('tbd', np.nan)"
   ]
  },
  {
   "cell_type": "markdown",
   "metadata": {},
   "source": [
    "Заполнять пропущенные значения в столбцах 'user_score' и 'critic_score' мы не будем, так как их большое количество и они могут исказить корреляцию. Даже оценки одной и той же игры на разных платформах могут значительно отличаться. Такое большое количество пропущенных значений в столбцах  можно объяснить отсутствием продуманного механизма сбора оценок (программными недоработками), или сбоями выгрузки данных. "
   ]
  },
  {
   "cell_type": "code",
   "execution_count": 202,
   "metadata": {},
   "outputs": [],
   "source": [
    "# теперь можно изменить тип в столбце 'user_score' со строкового на вещественный,\n",
    "# поскольку оценки пользователей лежат в диапазоне от 0 до 10 \n",
    "data['user_score'] = pd.to_numeric(data['user_score'], errors=\"coerce\")"
   ]
  },
  {
   "cell_type": "code",
   "execution_count": 203,
   "metadata": {},
   "outputs": [],
   "source": [
    "#удалим строки с пропущенными значениями в столбце 'genre', таких строки всего 2.\n",
    "data = data.dropna(subset=['genre'])"
   ]
  },
  {
   "cell_type": "code",
   "execution_count": 204,
   "metadata": {},
   "outputs": [
    {
     "data": {
      "text/plain": [
       "array(['E', nan, 'M', 'T', 'E10+', 'K-A', 'AO', 'EC', 'RP'], dtype=object)"
      ]
     },
     "execution_count": 204,
     "metadata": {},
     "output_type": "execute_result"
    }
   ],
   "source": [
    "data['rating'].unique() #выведем уникальные значения в столбце rating и изучим их, воспользуясь интернет-ресурсами.\n",
    " "
   ]
  },
  {
   "cell_type": "code",
   "execution_count": 205,
   "metadata": {},
   "outputs": [],
   "source": [
    "#выясняем, что рейтинг 'RP' означает 'не определен'. Поэтому мы все значения nan и 'RP' заменим на 'unkown'\n",
    "data['rating'] = data['rating'].fillna('unkown')\n",
    "data['rating'] = data['rating'].replace('RP', 'unkown')"
   ]
  },
  {
   "cell_type": "code",
   "execution_count": 206,
   "metadata": {},
   "outputs": [
    {
     "name": "stdout",
     "output_type": "stream",
     "text": [
      "<class 'pandas.core.frame.DataFrame'>\n",
      "Int64Index: 16444 entries, 0 to 16714\n",
      "Data columns (total 11 columns):\n",
      " #   Column           Non-Null Count  Dtype  \n",
      "---  ------           --------------  -----  \n",
      " 0   name             16444 non-null  object \n",
      " 1   platform         16444 non-null  object \n",
      " 2   year_of_release  16444 non-null  int64  \n",
      " 3   genre            16444 non-null  object \n",
      " 4   na_sales         16444 non-null  float64\n",
      " 5   eu_sales         16444 non-null  float64\n",
      " 6   jp_sales         16444 non-null  float64\n",
      " 7   other_sales      16444 non-null  float64\n",
      " 8   critic_score     7983 non-null   float64\n",
      " 9   user_score       7463 non-null   float64\n",
      " 10  rating           16444 non-null  object \n",
      "dtypes: float64(6), int64(1), object(4)\n",
      "memory usage: 1.5+ MB\n"
     ]
    }
   ],
   "source": [
    "data.info()"
   ]
  },
  {
   "cell_type": "code",
   "execution_count": 207,
   "metadata": {},
   "outputs": [
    {
     "data": {
      "text/plain": [
       "0"
      ]
     },
     "execution_count": 207,
     "metadata": {},
     "output_type": "execute_result"
    }
   ],
   "source": [
    "#проверим датафрейм на наличие дубликатов\n",
    "data.duplicated().sum()"
   ]
  },
  {
   "cell_type": "code",
   "execution_count": 208,
   "metadata": {},
   "outputs": [],
   "source": [
    "# создадим столбец 'sum_sales', в котором вычислим суммарный объем продаж (в миллионах копий) каждой игры \n",
    "data['sum_sales'] =  data['na_sales'] + data['eu_sales'] + data['jp_sales'] + data['other_sales']\n"
   ]
  },
  {
   "cell_type": "markdown",
   "metadata": {},
   "source": [
    "Выводы: данном разделе мы провели предобработку данных, и именно:\n",
    "\n",
    "- перевели названия столбцов в змеиный регистр;\n",
    "\n",
    "- удалили 271 строку с пропущенными значениями в столбцах year_of_release, name, genre (1,6% от всего датасета)\n",
    "\n",
    "- заменили пропущенные значения в столбцах 'rating'\n",
    "\n",
    "- исправили некоторые неподходящие значения в столбце 'user_score'\n",
    "\n",
    "- заменили тип данных в столбцах year_of_release, 'critic_score' на целочисленный, в столбце 'user_score' на вещественный.\n",
    "\n",
    "- создали столбец 'sum_sales' для отображения суммарных продаж по каждой игре.\n"
   ]
  },
  {
   "cell_type": "markdown",
   "metadata": {},
   "source": [
    "### Исследовательский анализ данных"
   ]
  },
  {
   "cell_type": "markdown",
   "metadata": {},
   "source": [
    "Определим количество игр, выпускаемых в разные годы. "
   ]
  },
  {
   "cell_type": "code",
   "execution_count": 209,
   "metadata": {},
   "outputs": [
    {
     "data": {
      "image/png": "[encoded data removed]",
      "text/plain": [
       "<Figure size 720x720 with 1 Axes>"
      ]
     },
     "metadata": {
      "needs_background": "light"
     },
     "output_type": "display_data"
    }
   ],
   "source": [
    "(\n",
    "    data.pivot_table(index='year_of_release', values='sum_sales', aggfunc='count')\n",
    "    .plot(kind='bar', grid=True, figsize=(10, 10), title='Распределение игр по годам выпуска')\n",
    ")\n",
    "plt.xlabel(\"Год выпуска игры\")\n",
    "plt.ylabel(\"Количество игр\")\n",
    "plt.show();"
   ]
  },
  {
   "cell_type": "markdown",
   "metadata": {},
   "source": [
    "По данному графику делаем вывод, что максимальное количество игр выпускалось в 2008, 2009 году (более 1400 игр). Бурный рост игровой индустрии начался в 2002 году и продолжался до 2009. Начиная с 2009 количество игр падает. Возможная причина - переход на мобильные платформы.  "
   ]
  },
  {
   "cell_type": "markdown",
   "metadata": {},
   "source": [
    "Выясним, как менялись продажи по платформам."
   ]
  },
  {
   "cell_type": "code",
   "execution_count": 210,
   "metadata": {},
   "outputs": [
    {
     "data": {
      "image/png": "[encoded data removed]",
      "text/plain": [
       "<Figure size 720x720 with 1 Axes>"
      ]
     },
     "metadata": {
      "needs_background": "light"
     },
     "output_type": "display_data"
    }
   ],
   "source": [
    "(\n",
    "   data.pivot_table(index= 'platform', values = 'sum_sales', aggfunc='sum')\n",
    "    .sort_values(by='sum_sales', ascending=False)\n",
    "    .plot(grid=True, kind = 'bar', title='Объем продаж в разрезе платформ', figsize=(10, 10))\n",
    ")\n",
    "plt.xlabel(\"Игровая платформа\")\n",
    "plt.ylabel(\"Суммарные продажи (млн. копий)\")\n",
    "plt.show();"
   ]
  },
  {
   "cell_type": "markdown",
   "metadata": {},
   "source": [
    "Построим распределения по годам для платформ с наибольшими суммарными  продажами, и именно PS2, PS3, X360, Wii, DS, PS."
   ]
  },
  {
   "cell_type": "code",
   "execution_count": 211,
   "metadata": {},
   "outputs": [
    {
     "data": {
      "image/png": "[encoded data removed]",
      "text/plain": [
       "<Figure size 504x360 with 1 Axes>"
      ]
     },
     "metadata": {
      "needs_background": "light"
     },
     "output_type": "display_data"
    },
    {
     "data": {
      "image/png": "[encoded data removed]",
      "text/plain": [
       "<Figure size 504x360 with 1 Axes>"
      ]
     },
     "metadata": {
      "needs_background": "light"
     },
     "output_type": "display_data"
    },
    {
     "data": {
      "image/png": "[encoded data removed]",
      "text/plain": [
       "<Figure size 504x360 with 1 Axes>"
      ]
     },
     "metadata": {
      "needs_background": "light"
     },
     "output_type": "display_data"
    },
    {
     "data": {
      "image/png": "[encoded data removed]",
      "text/plain": [
       "<Figure size 504x360 with 1 Axes>"
      ]
     },
     "metadata": {
      "needs_background": "light"
     },
     "output_type": "display_data"
    },
    {
     "data": {
      "image/png": "[encoded data removed]",
      "text/plain": [
       "<Figure size 504x360 with 1 Axes>"
      ]
     },
     "metadata": {
      "needs_background": "light"
     },
     "output_type": "display_data"
    },
    {
     "data": {
      "image/png": "[encoded data removed]",
      "text/plain": [
       "<Figure size 504x360 with 1 Axes>"
      ]
     },
     "metadata": {
      "needs_background": "light"
     },
     "output_type": "display_data"
    },
    {
     "data": {
      "image/png": "[encoded data removed]",
      "text/plain": [
       "<Figure size 504x360 with 1 Axes>"
      ]
     },
     "metadata": {
      "needs_background": "light"
     },
     "output_type": "display_data"
    }
   ],
   "source": [
    "def sales(data,x):\n",
    "    message = f\"Pаспределения продаж по годам на платформе {x}\"\n",
    "    (\n",
    "        data[data['platform'] == x]\n",
    "        .pivot_table(index= 'year_of_release', values = 'sum_sales', aggfunc='sum')\n",
    "        .plot(grid=True, kind = 'bar', figsize=(7, 5))\n",
    "    )\n",
    "    plt.title(message)\n",
    "    plt.xlabel('Год выпуска игры')\n",
    "    plt.ylabel('Суммарные продажи (млн. копий)')\n",
    "    plt.show();\n",
    "for k in ['PS2','PS3','PS4','X360','Wii','DS','PS']:\n",
    "    sales(data,k)\n",
    "    "
   ]
  },
  {
   "cell_type": "markdown",
   "metadata": {},
   "source": [
    "Проанализировав эти графики, можно сделать вывод, что среднее время \"жизни\" платформы около 10-12 лет. Пик продаж по данных платформам в среднем приходится на 5-6 год внедрения.  Поэтому имеет смысл  определить \"молодые\" (потенциально прибыльные) платформы, которые появились за последние 4-5 лет и имеют потенциал для развития."
   ]
  },
  {
   "cell_type": "code",
   "execution_count": 212,
   "metadata": {},
   "outputs": [],
   "source": [
    "data_2012 = data.query('year_of_release >= 2012') \n",
    "#Сделаем срез нашего датасета, поместив в него игры с 2012 года"
   ]
  },
  {
   "cell_type": "code",
   "execution_count": 213,
   "metadata": {},
   "outputs": [
    {
     "data": {
      "image/png": "[encoded data removed]",
      "text/plain": [
       "<Figure size 1440x720 with 1 Axes>"
      ]
     },
     "metadata": {
      "needs_background": "light"
     },
     "output_type": "display_data"
    }
   ],
   "source": [
    "#построим график распределения продаж по годам для платформ, начиная с 2012 года\n",
    "(\n",
    "    data_2012\n",
    "    .pivot_table(index=['year_of_release'], columns = ['platform'], values='sum_sales', aggfunc='sum')\n",
    "    .plot(kind='bar', figsize=(20,10), width=0.7, title='Распределение продаж по годам для платформ с 2012 года')\n",
    ")\n",
    "plt.xlabel(\"Год выпуска игры\")\n",
    "plt.ylabel(\"Суммарные продажи (млн. копий)\")\n",
    "plt.show();"
   ]
  },
  {
   "cell_type": "markdown",
   "metadata": {},
   "source": [
    "Как видно по графику, платформы PS4 (фиолетовая) и XOne(синяя) были внедрены только в 2013 году, их продажи идут по нарастающей и \"проживут\" эти платформы до 2023 - 2025 года. Пик популярности платформ  PS3 и X360 уже пройден, на смену им приходят платформы PS4 и XOne. "
   ]
  },
  {
   "cell_type": "markdown",
   "metadata": {},
   "source": [
    "Для уточнения данных по платформам WiiU и 3DS построим столбчатые диаграммы."
   ]
  },
  {
   "cell_type": "code",
   "execution_count": 214,
   "metadata": {},
   "outputs": [
    {
     "data": {
      "image/png": "[encoded data removed]",
      "text/plain": [
       "<Figure size 504x360 with 1 Axes>"
      ]
     },
     "metadata": {
      "needs_background": "light"
     },
     "output_type": "display_data"
    },
    {
     "data": {
      "image/png": "[encoded data removed]",
      "text/plain": [
       "<Figure size 504x360 with 1 Axes>"
      ]
     },
     "metadata": {
      "needs_background": "light"
     },
     "output_type": "display_data"
    }
   ],
   "source": [
    "for k in ['WiiU','3DS']:\n",
    "    sales(data,k)"
   ]
  },
  {
   "cell_type": "markdown",
   "metadata": {},
   "source": [
    "Платформы 3DS и WiiU были внедрены немного раньше (в 2011 и 2012 годах соответственно), и судя по графикам, пик продаж у них пройден в 2013-2014 годам."
   ]
  },
  {
   "cell_type": "markdown",
   "metadata": {},
   "source": [
    "Резюмируя вышеизложенное, можно выделить 2 потенциально прибыльные, \"молодые\" платформы PS4, XOne, выпущенные в 2013 году, но и платформы 3DS и WiiU еще рано списывать со счетов. Разумным будет анализировать данные с 2013 года. Данные за 2016 год не полные, поэтому суммы продаж за этот год необъективны."
   ]
  },
  {
   "cell_type": "markdown",
   "metadata": {},
   "source": [
    "Определим самые прибыльные платформы с 2013 по 2016 год"
   ]
  },
  {
   "cell_type": "code",
   "execution_count": 215,
   "metadata": {},
   "outputs": [],
   "source": [
    "data_2013 = data.query('year_of_release >= 2013')"
   ]
  },
  {
   "cell_type": "code",
   "execution_count": 216,
   "metadata": {},
   "outputs": [
    {
     "data": {
      "text/html": [
       "<div>\n",
       "<style scoped>\n",
       "    .dataframe tbody tr th:only-of-type {\n",
       "        vertical-align: middle;\n",
       "    }\n",
       "\n",
       "    .dataframe tbody tr th {\n",
       "        vertical-align: top;\n",
       "    }\n",
       "\n",
       "    .dataframe thead th {\n",
       "        text-align: right;\n",
       "    }\n",
       "</style>\n",
       "<table border=\"1\" class=\"dataframe\">\n",
       "  <thead>\n",
       "    <tr style=\"text-align: right;\">\n",
       "      <th></th>\n",
       "      <th>sum_sales</th>\n",
       "      <th>Процент</th>\n",
       "    </tr>\n",
       "    <tr>\n",
       "      <th>platform</th>\n",
       "      <th></th>\n",
       "      <th></th>\n",
       "    </tr>\n",
       "  </thead>\n",
       "  <tbody>\n",
       "    <tr>\n",
       "      <th>PS4</th>\n",
       "      <td>314.14</td>\n",
       "      <td>28.80%</td>\n",
       "    </tr>\n",
       "    <tr>\n",
       "      <th>PS3</th>\n",
       "      <td>181.43</td>\n",
       "      <td>16.63%</td>\n",
       "    </tr>\n",
       "    <tr>\n",
       "      <th>XOne</th>\n",
       "      <td>159.32</td>\n",
       "      <td>14.61%</td>\n",
       "    </tr>\n",
       "    <tr>\n",
       "      <th>3DS</th>\n",
       "      <td>143.25</td>\n",
       "      <td>13.13%</td>\n",
       "    </tr>\n",
       "    <tr>\n",
       "      <th>X360</th>\n",
       "      <td>136.80</td>\n",
       "      <td>12.54%</td>\n",
       "    </tr>\n",
       "    <tr>\n",
       "      <th>WiiU</th>\n",
       "      <td>64.63</td>\n",
       "      <td>5.93%</td>\n",
       "    </tr>\n",
       "    <tr>\n",
       "      <th>PC</th>\n",
       "      <td>39.43</td>\n",
       "      <td>3.62%</td>\n",
       "    </tr>\n",
       "    <tr>\n",
       "      <th>PSV</th>\n",
       "      <td>32.99</td>\n",
       "      <td>3.02%</td>\n",
       "    </tr>\n",
       "    <tr>\n",
       "      <th>Wii</th>\n",
       "      <td>13.66</td>\n",
       "      <td>1.25%</td>\n",
       "    </tr>\n",
       "    <tr>\n",
       "      <th>PSP</th>\n",
       "      <td>3.50</td>\n",
       "      <td>0.32%</td>\n",
       "    </tr>\n",
       "    <tr>\n",
       "      <th>DS</th>\n",
       "      <td>1.54</td>\n",
       "      <td>0.14%</td>\n",
       "    </tr>\n",
       "  </tbody>\n",
       "</table>\n",
       "</div>"
      ],
      "text/plain": [
       "          sum_sales Процент\n",
       "platform                   \n",
       "PS4          314.14  28.80%\n",
       "PS3          181.43  16.63%\n",
       "XOne         159.32  14.61%\n",
       "3DS          143.25  13.13%\n",
       "X360         136.80  12.54%\n",
       "WiiU          64.63   5.93%\n",
       "PC            39.43   3.62%\n",
       "PSV           32.99   3.02%\n",
       "Wii           13.66   1.25%\n",
       "PSP            3.50   0.32%\n",
       "DS             1.54   0.14%"
      ]
     },
     "execution_count": 216,
     "metadata": {},
     "output_type": "execute_result"
    }
   ],
   "source": [
    "data_top_plat = data_2013.pivot_table(index='platform', values='sum_sales', aggfunc='sum').sort_values(by='sum_sales',\n",
    "                                                                                                       ascending=False)\n",
    "data_top_plat['Процент'] = (data_top_plat['sum_sales']/data_2013['sum_sales'].sum()).apply(lambda x: format(x, '.2%'))\n",
    "data_top_plat"
   ]
  },
  {
   "cell_type": "markdown",
   "metadata": {},
   "source": [
    "Самые прибыльные платформы PS4, PS3, XOne, 3DS, X360. На их долю приходится более 80% от суммарных продаж за период.  "
   ]
  },
  {
   "cell_type": "markdown",
   "metadata": {},
   "source": [
    "Построим график \"яшик с усами\" для платформ c 2013 года"
   ]
  },
  {
   "cell_type": "code",
   "execution_count": 217,
   "metadata": {},
   "outputs": [
    {
     "data": {
      "image/png": "[encoded data removed]",
      "text/plain": [
       "<Figure size 1440x720 with 1 Axes>"
      ]
     },
     "metadata": {
      "needs_background": "light"
     },
     "output_type": "display_data"
    }
   ],
   "source": [
    "fig, ax = plt.subplots(figsize=(20, 10))\n",
    "platform = data_2013['platform']\n",
    "sns.boxplot(x=data_2013['sum_sales'], y=platform, ax=ax)\n",
    "plt.title('Диаграмма размаха продаж для платформ с 2013 года')\n",
    "plt.xlabel('Продажи (млн. копий)')\n",
    "plt.ylabel('Платформы')\n",
    "plt.show();\n"
   ]
  },
  {
   "cell_type": "code",
   "execution_count": 218,
   "metadata": {},
   "outputs": [
    {
     "data": {
      "image/png": "[encoded data removed]",
      "text/plain": [
       "<Figure size 1440x720 with 1 Axes>"
      ]
     },
     "metadata": {
      "needs_background": "light"
     },
     "output_type": "display_data"
    }
   ],
   "source": [
    "fig, ax = plt.subplots(figsize=(20, 10))\n",
    "sns.boxplot(x=data_2013['sum_sales'], y=platform, ax=ax)\n",
    "plt.xlim(0, 3)\n",
    "plt.title('Диаграмма размаха продаж для платформ с 2013 года')\n",
    "plt.xlabel('Продажи (млн. копий)')\n",
    "plt.ylabel('Платформы')\n",
    "plt.show();"
   ]
  },
  {
   "cell_type": "markdown",
   "metadata": {},
   "source": [
    " По данным графикам мы видим, что есть определенное количество суперпопулярных игр (выбросов) на платформах PS3, PS4, X360, 3DS, число копий которых превышает 8 миллионов. По длинным усам и длинным ящикам платформ PS3, PS4, X360, XOne, Wii, WiiU можно сделать вывод, что платформах присутствует значительный разброс продаж и для 75% игр продажи составляют до 800 тысяч копий. У платформы 3DS усы и ящик значительно короче при значительном количестве выбросов, значит разброс продаж не велик и медианное значение продаж всего лишь около 100 тыс. копий, а значит итоговое 4 место по суммарным продажам данная платформа занимает за счет небольшого количества игр с аномальными продажами. "
   ]
  },
  {
   "cell_type": "markdown",
   "metadata": {},
   "source": [
    "Рассмотрим, как влияют на продажи внутри платформы PS4 отзывы пользователей и критиков."
   ]
  },
  {
   "cell_type": "code",
   "execution_count": 219,
   "metadata": {},
   "outputs": [
    {
     "data": {
      "image/png": "[encoded data removed]",
      "text/plain": [
       "<Figure size 864x432 with 1 Axes>"
      ]
     },
     "metadata": {
      "needs_background": "light"
     },
     "output_type": "display_data"
    }
   ],
   "source": [
    "(\n",
    "    data_2013\n",
    "    .query('platform == \"PS4\"')\n",
    "    .plot(x='sum_sales',\n",
    "          y='user_score',\n",
    "          style='o',\n",
    "          grid=True,\n",
    "          xlim=(0, 5),\n",
    "          figsize=(12,6),\n",
    "          alpha=0.5)\n",
    ")\n",
    "plt.title('Зависимость продаж от оценок пользователей')\n",
    "plt.xlabel('Суммарные продажи (млн. копий)')\n",
    "plt.ylabel('Оценки пользователей')\n",
    "plt.show();"
   ]
  },
  {
   "cell_type": "code",
   "execution_count": 220,
   "metadata": {},
   "outputs": [
    {
     "data": {
      "text/plain": [
       "-0.031957110204556376"
      ]
     },
     "execution_count": 220,
     "metadata": {},
     "output_type": "execute_result"
    }
   ],
   "source": [
    "data_2013.query('platform == \"PS4\"')['user_score'].corr(data_2013['sum_sales'])"
   ]
  },
  {
   "cell_type": "code",
   "execution_count": 221,
   "metadata": {},
   "outputs": [
    {
     "data": {
      "image/png": "[encoded data removed]",
      "text/plain": [
       "<Figure size 864x432 with 1 Axes>"
      ]
     },
     "metadata": {
      "needs_background": "light"
     },
     "output_type": "display_data"
    }
   ],
   "source": [
    "(\n",
    "    data_2013\n",
    "    .query('platform == \"PS4\"')\n",
    "    .plot(x='sum_sales',\n",
    "          y='critic_score',\n",
    "          style='o',\n",
    "          grid=True,\n",
    "          xlim=(0, 5),\n",
    "          figsize=(12,6),\n",
    "          alpha=0.5)\n",
    ")\n",
    "plt.title('Зависимость продаж от оценок критиков')\n",
    "plt.xlabel('Суммарные продажи (млн. копий)')\n",
    "plt.ylabel('Оценки критиков')\n",
    "plt.show();"
   ]
  },
  {
   "cell_type": "code",
   "execution_count": 222,
   "metadata": {},
   "outputs": [
    {
     "data": {
      "text/plain": [
       "0.40656790206178095"
      ]
     },
     "execution_count": 222,
     "metadata": {},
     "output_type": "execute_result"
    }
   ],
   "source": [
    "data_2013.query('platform == \"PS4\"')['critic_score'].corr(data_2013['sum_sales'])"
   ]
  },
  {
   "cell_type": "code",
   "execution_count": 223,
   "metadata": {},
   "outputs": [
    {
     "name": "stdout",
     "output_type": "stream",
     "text": [
      "{'PS3': 0.0023944027357566925, 'X360': -0.011742185147181342, 'XOne': -0.06892505328279414, '3DS': 0.24150411773563016, 'WiiU': 0.4193304819266187}\n"
     ]
    }
   ],
   "source": [
    "cor_user={}\n",
    "for k in ['PS3','X360', 'XOne','3DS','WiiU']:\n",
    "    data_plat = data_2013[data_2013['platform'] == k]\n",
    "    m = data_plat['user_score'].corr(data_plat['sum_sales'])\n",
    "    cor_user[k] = m\n",
    "print(cor_user)   "
   ]
  },
  {
   "cell_type": "code",
   "execution_count": 224,
   "metadata": {},
   "outputs": [
    {
     "name": "stdout",
     "output_type": "stream",
     "text": [
      "{'PS3': 0.3342853393371919, 'X360': 0.3503445460228664, 'XOne': 0.4169983280084017, '3DS': 0.3570566142288103, 'WiiU': 0.3764149065423912}\n"
     ]
    }
   ],
   "source": [
    "cor_critic={}\n",
    "for k in ['PS3','X360', 'XOne','3DS','WiiU']:\n",
    "    data_plat = data_2013[data_2013['platform'] == k]\n",
    "    m = data_plat['critic_score'].corr(data_plat['sum_sales'])\n",
    "    cor_critic[k] = m\n",
    "print(cor_critic)   "
   ]
  },
  {
   "cell_type": "markdown",
   "metadata": {},
   "source": [
    "По коэффициентам корреляции видим, что  у платформ PS3, PS4, X360, XOne есть прямая зависимость между продажами и оценками критиков. Чем выше оценка критиков, тем выше продажи. Зависимости между продажами и оценками пользователей отсутствует у платформ PS3, PS4, X360, XOne, зато есть прямая зависимость продаж от оценок пользователей есть у платформы WiiU. "
   ]
  },
  {
   "cell_type": "markdown",
   "metadata": {},
   "source": [
    "Построим общее распределение игр по жанрам."
   ]
  },
  {
   "cell_type": "code",
   "execution_count": 225,
   "metadata": {},
   "outputs": [
    {
     "data": {
      "image/png": "[encoded data removed]",
      "text/plain": [
       "<Figure size 864x432 with 1 Axes>"
      ]
     },
     "metadata": {
      "needs_background": "light"
     },
     "output_type": "display_data"
    }
   ],
   "source": [
    "(\n",
    "    data_2013\n",
    "    .pivot_table(index='genre', values = 'sum_sales', aggfunc='count')\n",
    "    .sort_values(by='sum_sales', ascending=False)\n",
    "    .plot(kind = 'bar',\n",
    "          figsize=(12,6),\n",
    "          title = 'Распределение игр по жанрам')\n",
    ") \n",
    "plt.xlabel('Жанры')\n",
    "plt.ylabel('Количество игр')\n",
    "plt.show();"
   ]
  },
  {
   "cell_type": "markdown",
   "metadata": {},
   "source": [
    "По графику видно, что наибольшее количество игр выпущено в жанре \"Action\" (более 700), наименьшее в жанре \"Puzzle\" "
   ]
  },
  {
   "cell_type": "code",
   "execution_count": 226,
   "metadata": {},
   "outputs": [
    {
     "data": {
      "image/png": "[encoded data removed]",
      "text/plain": [
       "<Figure size 864x432 with 1 Axes>"
      ]
     },
     "metadata": {
      "needs_background": "light"
     },
     "output_type": "display_data"
    }
   ],
   "source": [
    "(\n",
    "    data_2013\n",
    "    .pivot_table(index='genre', values = 'sum_sales', aggfunc='sum')\n",
    "    .sort_values(by='sum_sales', ascending=False)\n",
    "    .plot(kind = 'bar',\n",
    "          figsize=(12,6),\n",
    "          title = 'Распределение продаж игр по жанрам')\n",
    ")\n",
    "plt.xlabel('Жанры')\n",
    "plt.ylabel('Суммарные продажи (млн. копий)')\n",
    "plt.show();"
   ]
  },
  {
   "cell_type": "markdown",
   "metadata": {},
   "source": [
    "Первое место по количеству проданных копий занимает жанр \"Action\", второе \"Shooter\", на третьем и четвертом соответсвенно - \"Sports\" и \"Role-Playing\"."
   ]
  },
  {
   "cell_type": "markdown",
   "metadata": {},
   "source": [
    "Построим диаграмму размаха продаж для жанров"
   ]
  },
  {
   "cell_type": "code",
   "execution_count": 227,
   "metadata": {},
   "outputs": [
    {
     "data": {
      "image/png": "[encoded data removed]",
      "text/plain": [
       "<Figure size 1440x720 with 1 Axes>"
      ]
     },
     "metadata": {
      "needs_background": "light"
     },
     "output_type": "display_data"
    }
   ],
   "source": [
    "fig, ax = plt.subplots(figsize=(20, 10))\n",
    "genre = data_2013['genre']\n",
    "sns.boxplot(x=data_2013['sum_sales'], y=genre, ax=ax)\n",
    "plt.title('Диаграмма размаха продаж для жанров')\n",
    "plt.xlabel('Продажи (млн. копий)')\n",
    "plt.ylabel('Жанры')\n",
    "plt.show();"
   ]
  },
  {
   "cell_type": "code",
   "execution_count": 228,
   "metadata": {},
   "outputs": [
    {
     "data": {
      "image/png": "[encoded data removed]",
      "text/plain": [
       "<Figure size 1440x720 with 1 Axes>"
      ]
     },
     "metadata": {
      "needs_background": "light"
     },
     "output_type": "display_data"
    }
   ],
   "source": [
    "fig, ax = plt.subplots(figsize=(20, 10))\n",
    "genre = data_2013['genre']\n",
    "sns.boxplot(x=data_2013['sum_sales'], y=genre, ax=ax)\n",
    "plt.title('Диаграмма размаха продаж для жанров')\n",
    "plt.xlabel('Продажи (млн. копий)')\n",
    "plt.ylabel('Жанры')\n",
    "plt.xlim(0, 4)\n",
    "plt.show();"
   ]
  },
  {
   "cell_type": "code",
   "execution_count": 229,
   "metadata": {},
   "outputs": [
    {
     "data": {
      "text/html": [
       "<div>\n",
       "<style scoped>\n",
       "    .dataframe tbody tr th:only-of-type {\n",
       "        vertical-align: middle;\n",
       "    }\n",
       "\n",
       "    .dataframe tbody tr th {\n",
       "        vertical-align: top;\n",
       "    }\n",
       "\n",
       "    .dataframe thead th {\n",
       "        text-align: right;\n",
       "    }\n",
       "</style>\n",
       "<table border=\"1\" class=\"dataframe\">\n",
       "  <thead>\n",
       "    <tr style=\"text-align: right;\">\n",
       "      <th></th>\n",
       "      <th>name</th>\n",
       "      <th>platform</th>\n",
       "      <th>year_of_release</th>\n",
       "      <th>genre</th>\n",
       "      <th>na_sales</th>\n",
       "      <th>eu_sales</th>\n",
       "      <th>jp_sales</th>\n",
       "      <th>other_sales</th>\n",
       "      <th>critic_score</th>\n",
       "      <th>user_score</th>\n",
       "      <th>rating</th>\n",
       "      <th>sum_sales</th>\n",
       "    </tr>\n",
       "  </thead>\n",
       "  <tbody>\n",
       "    <tr>\n",
       "      <th>16</th>\n",
       "      <td>Grand Theft Auto V</td>\n",
       "      <td>PS3</td>\n",
       "      <td>2013</td>\n",
       "      <td>Action</td>\n",
       "      <td>7.02</td>\n",
       "      <td>9.09</td>\n",
       "      <td>0.98</td>\n",
       "      <td>3.96</td>\n",
       "      <td>97.0</td>\n",
       "      <td>8.2</td>\n",
       "      <td>M</td>\n",
       "      <td>21.05</td>\n",
       "    </tr>\n",
       "    <tr>\n",
       "      <th>23</th>\n",
       "      <td>Grand Theft Auto V</td>\n",
       "      <td>X360</td>\n",
       "      <td>2013</td>\n",
       "      <td>Action</td>\n",
       "      <td>9.66</td>\n",
       "      <td>5.14</td>\n",
       "      <td>0.06</td>\n",
       "      <td>1.41</td>\n",
       "      <td>97.0</td>\n",
       "      <td>8.1</td>\n",
       "      <td>M</td>\n",
       "      <td>16.27</td>\n",
       "    </tr>\n",
       "    <tr>\n",
       "      <th>42</th>\n",
       "      <td>Grand Theft Auto V</td>\n",
       "      <td>PS4</td>\n",
       "      <td>2014</td>\n",
       "      <td>Action</td>\n",
       "      <td>3.96</td>\n",
       "      <td>6.31</td>\n",
       "      <td>0.38</td>\n",
       "      <td>1.97</td>\n",
       "      <td>97.0</td>\n",
       "      <td>8.3</td>\n",
       "      <td>M</td>\n",
       "      <td>12.62</td>\n",
       "    </tr>\n",
       "    <tr>\n",
       "      <th>149</th>\n",
       "      <td>The Last of Us</td>\n",
       "      <td>PS3</td>\n",
       "      <td>2013</td>\n",
       "      <td>Action</td>\n",
       "      <td>2.41</td>\n",
       "      <td>2.18</td>\n",
       "      <td>0.28</td>\n",
       "      <td>0.99</td>\n",
       "      <td>95.0</td>\n",
       "      <td>9.1</td>\n",
       "      <td>M</td>\n",
       "      <td>5.86</td>\n",
       "    </tr>\n",
       "    <tr>\n",
       "      <th>165</th>\n",
       "      <td>Grand Theft Auto V</td>\n",
       "      <td>XOne</td>\n",
       "      <td>2014</td>\n",
       "      <td>Action</td>\n",
       "      <td>2.81</td>\n",
       "      <td>2.19</td>\n",
       "      <td>0.00</td>\n",
       "      <td>0.47</td>\n",
       "      <td>97.0</td>\n",
       "      <td>7.9</td>\n",
       "      <td>M</td>\n",
       "      <td>5.47</td>\n",
       "    </tr>\n",
       "    <tr>\n",
       "      <th>225</th>\n",
       "      <td>The Last of Us</td>\n",
       "      <td>PS4</td>\n",
       "      <td>2014</td>\n",
       "      <td>Action</td>\n",
       "      <td>1.88</td>\n",
       "      <td>2.00</td>\n",
       "      <td>0.07</td>\n",
       "      <td>0.77</td>\n",
       "      <td>NaN</td>\n",
       "      <td>NaN</td>\n",
       "      <td>unkown</td>\n",
       "      <td>4.72</td>\n",
       "    </tr>\n",
       "    <tr>\n",
       "      <th>231</th>\n",
       "      <td>Uncharted: The Nathan Drake Collection</td>\n",
       "      <td>PS4</td>\n",
       "      <td>2015</td>\n",
       "      <td>Action</td>\n",
       "      <td>2.07</td>\n",
       "      <td>1.71</td>\n",
       "      <td>0.08</td>\n",
       "      <td>0.76</td>\n",
       "      <td>86.0</td>\n",
       "      <td>8.1</td>\n",
       "      <td>T</td>\n",
       "      <td>4.62</td>\n",
       "    </tr>\n",
       "    <tr>\n",
       "      <th>235</th>\n",
       "      <td>Luigi's Mansion: Dark Moon</td>\n",
       "      <td>3DS</td>\n",
       "      <td>2013</td>\n",
       "      <td>Action</td>\n",
       "      <td>1.80</td>\n",
       "      <td>1.39</td>\n",
       "      <td>1.11</td>\n",
       "      <td>0.29</td>\n",
       "      <td>86.0</td>\n",
       "      <td>8.4</td>\n",
       "      <td>E</td>\n",
       "      <td>4.59</td>\n",
       "    </tr>\n",
       "    <tr>\n",
       "      <th>295</th>\n",
       "      <td>Watch Dogs</td>\n",
       "      <td>PS4</td>\n",
       "      <td>2014</td>\n",
       "      <td>Action</td>\n",
       "      <td>1.40</td>\n",
       "      <td>1.90</td>\n",
       "      <td>0.11</td>\n",
       "      <td>0.64</td>\n",
       "      <td>80.0</td>\n",
       "      <td>6.3</td>\n",
       "      <td>M</td>\n",
       "      <td>4.05</td>\n",
       "    </tr>\n",
       "    <tr>\n",
       "      <th>304</th>\n",
       "      <td>Assassin's Creed: Unity</td>\n",
       "      <td>PS4</td>\n",
       "      <td>2014</td>\n",
       "      <td>Action</td>\n",
       "      <td>1.19</td>\n",
       "      <td>2.07</td>\n",
       "      <td>0.08</td>\n",
       "      <td>0.62</td>\n",
       "      <td>70.0</td>\n",
       "      <td>4.9</td>\n",
       "      <td>M</td>\n",
       "      <td>3.96</td>\n",
       "    </tr>\n",
       "  </tbody>\n",
       "</table>\n",
       "</div>"
      ],
      "text/plain": [
       "                                       name platform  year_of_release   genre  \\\n",
       "16                       Grand Theft Auto V      PS3             2013  Action   \n",
       "23                       Grand Theft Auto V     X360             2013  Action   \n",
       "42                       Grand Theft Auto V      PS4             2014  Action   \n",
       "149                          The Last of Us      PS3             2013  Action   \n",
       "165                      Grand Theft Auto V     XOne             2014  Action   \n",
       "225                          The Last of Us      PS4             2014  Action   \n",
       "231  Uncharted: The Nathan Drake Collection      PS4             2015  Action   \n",
       "235              Luigi's Mansion: Dark Moon      3DS             2013  Action   \n",
       "295                              Watch Dogs      PS4             2014  Action   \n",
       "304                 Assassin's Creed: Unity      PS4             2014  Action   \n",
       "\n",
       "     na_sales  eu_sales  jp_sales  other_sales  critic_score  user_score  \\\n",
       "16       7.02      9.09      0.98         3.96          97.0         8.2   \n",
       "23       9.66      5.14      0.06         1.41          97.0         8.1   \n",
       "42       3.96      6.31      0.38         1.97          97.0         8.3   \n",
       "149      2.41      2.18      0.28         0.99          95.0         9.1   \n",
       "165      2.81      2.19      0.00         0.47          97.0         7.9   \n",
       "225      1.88      2.00      0.07         0.77           NaN         NaN   \n",
       "231      2.07      1.71      0.08         0.76          86.0         8.1   \n",
       "235      1.80      1.39      1.11         0.29          86.0         8.4   \n",
       "295      1.40      1.90      0.11         0.64          80.0         6.3   \n",
       "304      1.19      2.07      0.08         0.62          70.0         4.9   \n",
       "\n",
       "     rating  sum_sales  \n",
       "16        M      21.05  \n",
       "23        M      16.27  \n",
       "42        M      12.62  \n",
       "149       M       5.86  \n",
       "165       M       5.47  \n",
       "225  unkown       4.72  \n",
       "231       T       4.62  \n",
       "235       E       4.59  \n",
       "295       M       4.05  \n",
       "304       M       3.96  "
      ]
     },
     "execution_count": 229,
     "metadata": {},
     "output_type": "execute_result"
    }
   ],
   "source": [
    "data_2013.query('genre==\"Action\"').sort_values(by='sum_sales', ascending=False).head(10)"
   ]
  },
  {
   "cell_type": "code",
   "execution_count": 230,
   "metadata": {},
   "outputs": [
    {
     "data": {
      "text/plain": [
       "0.1757852549165812"
      ]
     },
     "execution_count": 230,
     "metadata": {},
     "output_type": "execute_result"
    }
   ],
   "source": [
    "data_2013.query('name == \"Grand Theft Auto V\"')['sum_sales'].sum()/data_2013.query('genre == \"Action\"')['sum_sales'].sum()"
   ]
  },
  {
   "cell_type": "markdown",
   "metadata": {},
   "source": [
    "На данном графике обращает на себя внимание ящик с усами для жанра Shooter. По нему можно видеть, что 50% игр раскупается в количестве от 1.3 млн экземпляров, количество игр с аномально высокими продажами невелико, а медианная продажа составляет около 400 млн. копий. Также довольно высокие медианные продажи у жанров Sports и Platform. Совершенно иная ситуация у жанра Action. Здесь можно увидеть, что медианная продажа составляет около 100 тыс. копий, что в четыре раза меньше, чем у Shooter, то есть высокие суммарные продажи Action позволяющие занимать ему 1 место объясняются продажами небольшого количества сверхпопулярных игр. Продажи только одной игры Grand Theft Auto V составили 18% от суммарных продаж. Тот самый случай когда количество не перешло в качество."
   ]
  },
  {
   "cell_type": "code",
   "execution_count": 231,
   "metadata": {},
   "outputs": [
    {
     "data": {
      "image/png": "[encoded data removed]",
      "text/plain": [
       "<Figure size 1440x720 with 1 Axes>"
      ]
     },
     "metadata": {
      "needs_background": "light"
     },
     "output_type": "display_data"
    }
   ],
   "source": [
    "#построим график распределения продаж по годам для жанров, начиная с 2013 года\n",
    "(\n",
    "    data_2013\n",
    "    .pivot_table(index=['year_of_release'], columns=['genre'], values='sum_sales', aggfunc='sum')\n",
    "    .plot(figsize=(20,10), style='-o', title='График распределения продаж по годам для жанров')\n",
    ")\n",
    "plt.xlabel('Год выпуска')\n",
    "plt.ylabel('Суммарные продажи (млн. копий)')\n",
    "plt.legend(title='Жанры')\n",
    "plt.show();"
   ]
  },
  {
   "cell_type": "markdown",
   "metadata": {},
   "source": [
    "Продажи Action падают из года в год, зато продажи Shooter, Role-Playing, Sports на удивление стабильны."
   ]
  },
  {
   "cell_type": "markdown",
   "metadata": {},
   "source": [
    "Выводы: средний срок жизни платформы 8-10 лет, к платформам, находящимся в расцвете сил, можно отнести PS4 и XOne, \"бальзаковский\" возраст у платформ WiiU и 3DS, а вот платформы X360 и PS3 уходят с арены. Между продажами на всех популярных платформах и оценками критиков есть прямая зависимость, а вот зависимости продаж от оценок пользователей не наблюдается. Среди пользователей в разрезе медианных продаж популярными являются жанры Shooter, Sports и Platform, а вот по сумме продаж четверка лидеров Action, Shooter, Role-Playing и Sports."
   ]
  },
  {
   "cell_type": "markdown",
   "metadata": {},
   "source": [
    "### Составим портрет пользователя каждого региона ."
   ]
  },
  {
   "cell_type": "markdown",
   "metadata": {},
   "source": [
    "Определим самые популярные платформы для пользователей из Северной Америки, Европы и Японии. Для этого определим суммарные продажи для каждой платформы в регионе, выделим топ-5, остальные платформы объединим в категорию 'Другие' и построим круговые диаграммы."
   ]
  },
  {
   "cell_type": "code",
   "execution_count": 232,
   "metadata": {},
   "outputs": [
    {
     "data": {
      "image/png": "[encoded data removed]",
      "text/plain": [
       "<Figure size 504x504 with 1 Axes>"
      ]
     },
     "metadata": {},
     "output_type": "display_data"
    },
    {
     "data": {
      "image/png": "[encoded data removed]",
      "text/plain": [
       "<Figure size 504x504 with 1 Axes>"
      ]
     },
     "metadata": {},
     "output_type": "display_data"
    },
    {
     "data": {
      "image/png": "[encoded data removed]",
      "text/plain": [
       "<Figure size 504x504 with 1 Axes>"
      ]
     },
     "metadata": {},
     "output_type": "display_data"
    }
   ],
   "source": [
    "regiоns={'na_sales':'Доля продаж по платформам в Северной Америке ',\n",
    "         'eu_sales':'Доля продаж по платформам в Европе',\n",
    "         'jp_sales':'Доля продаж по платформам в Японии'}\n",
    "regions_items = regiоns.items()\n",
    "for key, value in regions_items:\n",
    "    data_top = data_2013.pivot_table(index='platform', values=key, aggfunc='sum')\\\n",
    "    .sort_values(by=key, ascending=False)\n",
    "    sum_low=data_top[key][5:].sum()\n",
    "    data_top_5=data_top.reset_index().head()\n",
    "    data_top_5.columns=['Платформа', 'Суммарные продажи']\n",
    "    data_top_5.loc[len(data_top_5.index)] = ['Другие', sum_low]\n",
    "    data_top_5 = data_top_5.set_index('Платформа')\n",
    "    data_top_5.plot(title=value, kind='pie', y='Суммарные продажи', autopct='%1.1f%%', legend=None, figsize=(7,7))    "
   ]
  },
  {
   "cell_type": "markdown",
   "metadata": {},
   "source": [
    "ТОП-5 популярных платформ в Северной Америке в порядке убывания популярности: PS4, XOne, X360, PS3, 3DS.\n",
    "    \n",
    "ТОП-5 популярных платформ в Европе в порядке убывания популярности: PS4, PS3, XOne, X360, 3DS. \n",
    "Замечаем, что список платформ один и тот же, с той лишь разницей, что PS4 и PS3 в Европе значительно популярней, чем в Северной Америке. С платформами XOne, X360 все наоборот, в Северной Америке они значительно популярней, чем в Европе. Это легко объясняется тем, что данные платформы разработала американская компания Microsoft, и конечно же самые высокие продажи будут в стране разработки. \n",
    "ТОП-5 популярных платформ в Японии в порядке убывания популярности: 3DS, PS3, PSV, PS4, WiiU. Практически половину продаж составляет местная японская платформа 3DS от Nintendo. Также замечаем, что все 5 популярных платформ  - японские. В стране настолько развита игровая индустрия, что она не нуждается в чужих разработках. "
   ]
  },
  {
   "cell_type": "markdown",
   "metadata": {},
   "source": [
    "Определим самые популярные жанры для пользователей из Северной Америки, Европы и Японии."
   ]
  },
  {
   "cell_type": "code",
   "execution_count": 233,
   "metadata": {},
   "outputs": [
    {
     "data": {
      "image/png": "[encoded data removed]",
      "text/plain": [
       "<Figure size 504x504 with 1 Axes>"
      ]
     },
     "metadata": {
      "needs_background": "light"
     },
     "output_type": "display_data"
    },
    {
     "data": {
      "image/png": "[encoded data removed]",
      "text/plain": [
       "<Figure size 504x504 with 1 Axes>"
      ]
     },
     "metadata": {
      "needs_background": "light"
     },
     "output_type": "display_data"
    },
    {
     "data": {
      "image/png": "[encoded data removed]",
      "text/plain": [
       "<Figure size 504x504 with 1 Axes>"
      ]
     },
     "metadata": {
      "needs_background": "light"
     },
     "output_type": "display_data"
    }
   ],
   "source": [
    "regiоns1={'na_sales':'ТОП-5 жанров в Северной Америке ',\n",
    "         'eu_sales':'ТОП-5 жанров в Европе',\n",
    "         'jp_sales':'ТОП-5 жанров в Японии'}\n",
    "regions1_items = regiоns1.items()\n",
    "for key, value in regions1_items:\n",
    "    data_regions = data_2013.pivot_table(index='genre', values=key, aggfunc='median')\\\n",
    "    .sort_values(by=key, ascending=False)\\\n",
    "    .head().plot(title=value, kind='bar', xlabel='Жанры', ylabel='Медианное значение продаж', y=key, figsize=(7,7))"
   ]
  },
  {
   "cell_type": "markdown",
   "metadata": {},
   "source": [
    "ТОП-5 популярных жанров в Северной Америке в порядке убывания популярности: Shooter, Platform, Sports, Fighting, Racing.\n",
    "    \n",
    "ТОП-5 популярных платформ в Европе в порядке убывания популярности: Shooter, Platform, Sports, Racing, Simulation. \n",
    "Замечаем, что список платформ один практически один и тот же, т.е. предпочтения у североамериканцев и европейцев схожи. Shooter впереди со значительным отрывом. \n",
    "\n",
    "ТОП-5 популярных платформ в Японии в порядке убывания популярности: Role-Playing, Fighting, Misc, Puzzle, Action. В отличие от североамериканцев и европейцев, которые предпочитают шутеры, японцам больше нравятся ролевые игры.   "
   ]
  },
  {
   "cell_type": "markdown",
   "metadata": {},
   "source": [
    "Определим, как влияет рейтинг ESRB на продажи в регионах."
   ]
  },
  {
   "cell_type": "markdown",
   "metadata": {},
   "source": [
    "«EC» («Early childhood») — «Для детей младшего возраста»\n",
    "\n",
    "«E» («Everyone») — «Для всех»: \n",
    "\n",
    "«E10+» («Everyone 10 and older») — «Для всех старше 10 лет»: \n",
    "\n",
    "«T» («Teen») — «Подросткам 13—16 лет»\n",
    "\n",
    "«M» («Mature») — «От 17 лет»: \n"
   ]
  },
  {
   "cell_type": "code",
   "execution_count": 234,
   "metadata": {},
   "outputs": [
    {
     "data": {
      "image/png": "[encoded data removed]",
      "text/plain": [
       "<Figure size 720x360 with 1 Axes>"
      ]
     },
     "metadata": {
      "needs_background": "light"
     },
     "output_type": "display_data"
    }
   ],
   "source": [
    "(\n",
    "    data_2012\n",
    "    .pivot_table(index='rating', values=['na_sales', 'eu_sales', 'jp_sales'], aggfunc='sum')\n",
    "    .plot(kind='bar', figsize=(10,5), title='Зависимость рейтинга ESRB и продаж по регионам')\n",
    ")\n",
    "plt.xlabel('рейтинг ESRB')\n",
    "plt.ylabel('Суммарные продажи (млн. копий)')\n",
    "plt.show();"
   ]
  },
  {
   "cell_type": "markdown",
   "metadata": {},
   "source": [
    "Вывод: Типичный североамериканский  и европейский пользователь имеет возраст от 17 лет, предпочитает играть в игры жанров Shooter, Platform и Sports на приставках PS4, PS3, XOne, X360. \n",
    "\n",
    "Типичный японский пользователь предпочитает игры жанрoв Role-Playing и Fighting на портативной консоли 3DS производства Nintendo. К сожалению, нельзя определить возрастную категорию большинства игр в Японии, т.к. рейтинг ESRB распространяется только на игры разработанные в США и Канаде, рейтингами японских игр занимается местная компания CERO. \n",
    "  \n"
   ]
  },
  {
   "cell_type": "markdown",
   "metadata": {},
   "source": [
    "### Проверка гипотез.\n"
   ]
  },
  {
   "cell_type": "markdown",
   "metadata": {},
   "source": [
    "Проверяем гипотезу: средние пользовательские рейтинги платформ Xbox One и PC одинаковые.\n",
    "    Нулевая гипотеза: средние пользовательские рейтинги платформ Xbox One и PC равны.\n",
    "    Альтернативная гипотеза: средние пользовательские рейтинги платформ Xbox One и PC равны. "
   ]
  },
  {
   "cell_type": "code",
   "execution_count": 237,
   "metadata": {},
   "outputs": [
    {
     "data": {
      "text/plain": [
       "182"
      ]
     },
     "execution_count": 237,
     "metadata": {},
     "output_type": "execute_result"
    }
   ],
   "source": [
    "#сформируем выборки из датасета, удаляем при этом пропущенные значения:\n",
    "score_xone = data_2013.query('platform == \"XOne\"').dropna(subset=['user_score'])['user_score']\n",
    "len(score_xone)"
   ]
  },
  {
   "cell_type": "code",
   "execution_count": 238,
   "metadata": {},
   "outputs": [
    {
     "data": {
      "text/plain": [
       "155"
      ]
     },
     "execution_count": 238,
     "metadata": {},
     "output_type": "execute_result"
    }
   ],
   "source": [
    "score_pc = data_2013.query('platform == \"PC\"').dropna(subset=['user_score'])['user_score']\n",
    "len(score_pc)"
   ]
  },
  {
   "cell_type": "code",
   "execution_count": 240,
   "metadata": {},
   "outputs": [
    {
     "name": "stdout",
     "output_type": "stream",
     "text": [
      "0.14759594013430463\n",
      "Не получилось отвергнуть нулевую гипотезу\n"
     ]
    }
   ],
   "source": [
    "#если имеем выборки разного размера, то при использовании метода st.ttest_ind указываем значение параметра equal_var=False\n",
    "results = st.ttest_ind(score_xone, score_pc, equal_var=False)\n",
    "alpha = 0.05 # alpha = задаем значение уровня значимости\n",
    "print(results.pvalue)\n",
    "if results.pvalue < alpha:\n",
    "    print('Отвергаем нулевую гипотезу')\n",
    "else:\n",
    "    print('Не получилось отвергнуть нулевую гипотезу')"
   ]
  },
  {
   "cell_type": "markdown",
   "metadata": {},
   "source": [
    "Вывод: при уровне значимости равном 0.05 не получилось отвергнуть нулевую гипотезу, а значит что с большой долей вероятности средние пользовательские рейтинги платформ XOne и PC не имеют статистически значимых отличий."
   ]
  },
  {
   "cell_type": "markdown",
   "metadata": {},
   "source": [
    "Проверяем гипотезу: Средние пользовательские рейтинги жанров Action и Sports разные.\n",
    "    Нулевая гипотеза: средние пользовательские рейтинги жанров Action и Sports равны.\n",
    "    Альтернативная гипотеза: средние пользовательские рейтинги жанров Action и Sports не равны. "
   ]
  },
  {
   "cell_type": "code",
   "execution_count": 241,
   "metadata": {},
   "outputs": [
    {
     "data": {
      "text/plain": [
       "389"
      ]
     },
     "execution_count": 241,
     "metadata": {},
     "output_type": "execute_result"
    }
   ],
   "source": [
    "score_action = data_2013.query('genre == \"Action\"').dropna(subset=['user_score'])['user_score']\n",
    "len(score_action)"
   ]
  },
  {
   "cell_type": "code",
   "execution_count": 242,
   "metadata": {},
   "outputs": [
    {
     "data": {
      "text/plain": [
       "160"
      ]
     },
     "execution_count": 242,
     "metadata": {},
     "output_type": "execute_result"
    }
   ],
   "source": [
    "score_sports = data_2013.query('genre == \"Sports\"').dropna(subset=['user_score'])['user_score']\n",
    "len(score_sports)"
   ]
  },
  {
   "cell_type": "code",
   "execution_count": 243,
   "metadata": {},
   "outputs": [
    {
     "name": "stdout",
     "output_type": "stream",
     "text": [
      "1.4460039700704315e-20\n",
      "Отвергаем нулевую гипотезу\n"
     ]
    }
   ],
   "source": [
    "#если имеем выборки разного размера, то при использовании метода st.ttest_ind указываем значение параметра equal_var=False  \n",
    "results = st.ttest_ind(score_action, score_sports, equal_var=False) \n",
    "alpha = 0.05 # alpha = задаем значение уровня значимости\n",
    "print(results.pvalue)\n",
    "if results.pvalue < alpha:\n",
    "    print('Отвергаем нулевую гипотезу')\n",
    "else:\n",
    "    print('Не получилось отвергнуть нулевую гипотезу')"
   ]
  },
  {
   "cell_type": "markdown",
   "metadata": {},
   "source": [
    "Вывод: при уровне значимости равном 0.05 отвергаем нулевую гипотезу, а значит средние пользовательские рейтинги жанров Action и Sports с большой вероятностью имеют статистически значимые отличия."
   ]
  },
  {
   "cell_type": "markdown",
   "metadata": {},
   "source": [
    "Общий вывод: В данном проекте была произведена работа по анализу данных о продажах игр, оценках пользователей и экспертов, жанрах и платформах. Наша цель состояла в выявлении закономерностей успешности компьютерных игр. В первой части проекта мы изучили предоставленные данные. Далее была выполнена предобработка данных, а именно переименованы столбцы, обработаны пропущенные значения, удалены строки с пропущенными данными. Во второй части проекта мы изучили параметры данных, используя гистограммы, ящики с усами и сводные таблицы. Эти методы позволили нам определить факторы, которые влияют на продажи игры. Получили следующие выводы:\n",
    " Потенциально популярная игра -  это:\n",
    " - игра, разработанная для современных платформ PS4, XOne, 3DS, Wiiu;\n",
    " - игра с высокой оценкой критиков,\n",
    " - игра в жанре Shooter, Sports, Platform, Role-Playing.\n",
    " - игра в жанре Action, являющаяся продолжением суперпопулярной игры. \n",
    " \n",
    "Также мы составили портреты пользователей из Северной Америки, Европы и Японии.\n",
    "Типичный североамериканский и европейский пользователи имеют возраст от 17 лет, предпочитают играть в игры жанров Shooter, Platform и Sports на приставках PS4, PS3, XOne, X360.\n",
    "\n",
    "Типичный японский пользователь предпочитает игры жанрoв Role-Playing и Fighting на портативной консоли 3DS производства Nintendo. \n",
    " \n",
    "Рекомендации: усовершенствовать механизм сбора данных по оценкам критиков, пользователей, возрастного рейтинга. Включить в датасет возрастной рейтинг японской компании CERO"
   ]
  },
  {
   "cell_type": "code",
   "execution_count": null,
   "metadata": {},
   "outputs": [],
   "source": []
  }
 ],
 "metadata": {
  "ExecuteTimeLog": [
   {
    "duration": 734,
    "start_time": "2023-03-13T08:03:19.407Z"
   },
   {
    "duration": 202,
    "start_time": "2023-03-13T08:03:22.217Z"
   },
   {
    "duration": 20,
    "start_time": "2023-03-13T08:03:33.217Z"
   },
   {
    "duration": 20,
    "start_time": "2023-03-13T08:03:56.455Z"
   },
   {
    "duration": 15,
    "start_time": "2023-03-13T08:04:29.052Z"
   },
   {
    "duration": 696,
    "start_time": "2023-03-13T08:08:38.170Z"
   },
   {
    "duration": 763,
    "start_time": "2023-03-13T08:09:34.062Z"
   },
   {
    "duration": 953,
    "start_time": "2023-03-13T08:20:01.396Z"
   },
   {
    "duration": 1035,
    "start_time": "2023-03-13T08:20:32.194Z"
   },
   {
    "duration": 4,
    "start_time": "2023-03-13T08:21:51.129Z"
   },
   {
    "duration": 3,
    "start_time": "2023-03-13T08:22:03.117Z"
   },
   {
    "duration": 3,
    "start_time": "2023-03-13T08:22:20.341Z"
   },
   {
    "duration": 2,
    "start_time": "2023-03-13T08:23:49.402Z"
   },
   {
    "duration": 4,
    "start_time": "2023-03-13T08:29:40.346Z"
   },
   {
    "duration": 15,
    "start_time": "2023-03-13T08:30:01.487Z"
   },
   {
    "duration": 99,
    "start_time": "2023-03-13T08:38:24.690Z"
   },
   {
    "duration": 8,
    "start_time": "2023-03-13T08:40:42.939Z"
   },
   {
    "duration": 67,
    "start_time": "2023-03-13T08:40:49.644Z"
   },
   {
    "duration": 16,
    "start_time": "2023-03-13T08:47:35.090Z"
   },
   {
    "duration": 23,
    "start_time": "2023-03-13T08:47:52.160Z"
   },
   {
    "duration": 7,
    "start_time": "2023-03-13T08:48:17.788Z"
   },
   {
    "duration": 7,
    "start_time": "2023-03-13T08:48:20.752Z"
   },
   {
    "duration": 14,
    "start_time": "2023-03-13T08:48:32.336Z"
   },
   {
    "duration": 5,
    "start_time": "2023-03-13T08:49:50.583Z"
   },
   {
    "duration": 13,
    "start_time": "2023-03-13T08:50:17.618Z"
   },
   {
    "duration": 4,
    "start_time": "2023-03-13T08:56:52.251Z"
   },
   {
    "duration": 12,
    "start_time": "2023-03-13T09:01:24.313Z"
   },
   {
    "duration": 6,
    "start_time": "2023-03-13T09:10:07.208Z"
   },
   {
    "duration": 5,
    "start_time": "2023-03-13T09:11:10.695Z"
   },
   {
    "duration": 12,
    "start_time": "2023-03-13T09:19:19.473Z"
   },
   {
    "duration": 3,
    "start_time": "2023-03-13T09:19:51.603Z"
   },
   {
    "duration": 5,
    "start_time": "2023-03-13T09:19:57.494Z"
   },
   {
    "duration": 5,
    "start_time": "2023-03-13T09:20:11.618Z"
   },
   {
    "duration": 9,
    "start_time": "2023-03-13T09:22:12.297Z"
   },
   {
    "duration": 7,
    "start_time": "2023-03-13T09:22:36.269Z"
   },
   {
    "duration": 15,
    "start_time": "2023-03-13T09:22:39.711Z"
   },
   {
    "duration": 7,
    "start_time": "2023-03-13T09:27:15.501Z"
   },
   {
    "duration": 13,
    "start_time": "2023-03-13T09:27:17.533Z"
   },
   {
    "duration": 8,
    "start_time": "2023-03-13T09:27:57.958Z"
   },
   {
    "duration": 15,
    "start_time": "2023-03-13T09:30:55.045Z"
   },
   {
    "duration": 222,
    "start_time": "2023-03-13T09:35:33.797Z"
   },
   {
    "duration": 14,
    "start_time": "2023-03-13T09:35:44.852Z"
   },
   {
    "duration": 6,
    "start_time": "2023-03-13T09:38:04.871Z"
   },
   {
    "duration": 5,
    "start_time": "2023-03-13T09:41:03.662Z"
   },
   {
    "duration": 13,
    "start_time": "2023-03-13T09:41:44.041Z"
   },
   {
    "duration": 24,
    "start_time": "2023-03-13T09:41:48.757Z"
   },
   {
    "duration": 11,
    "start_time": "2023-03-13T09:42:53.385Z"
   },
   {
    "duration": 4,
    "start_time": "2023-03-13T09:44:54.009Z"
   },
   {
    "duration": 9,
    "start_time": "2023-03-13T09:45:16.575Z"
   },
   {
    "duration": 7,
    "start_time": "2023-03-13T09:45:26.436Z"
   },
   {
    "duration": 4,
    "start_time": "2023-03-13T09:45:33.096Z"
   },
   {
    "duration": 140,
    "start_time": "2023-03-13T09:48:07.400Z"
   },
   {
    "duration": 148,
    "start_time": "2023-03-13T09:48:16.094Z"
   },
   {
    "duration": 145,
    "start_time": "2023-03-13T09:48:27.722Z"
   },
   {
    "duration": 5,
    "start_time": "2023-03-13T09:48:49.998Z"
   },
   {
    "duration": 9,
    "start_time": "2023-03-13T09:49:20.374Z"
   },
   {
    "duration": 10,
    "start_time": "2023-03-13T09:49:33.615Z"
   },
   {
    "duration": 4,
    "start_time": "2023-03-13T09:49:38.948Z"
   },
   {
    "duration": 174,
    "start_time": "2023-03-13T09:50:01.409Z"
   },
   {
    "duration": 168,
    "start_time": "2023-03-13T09:54:13.277Z"
   },
   {
    "duration": 171,
    "start_time": "2023-03-13T09:54:33.256Z"
   },
   {
    "duration": 172,
    "start_time": "2023-03-13T09:54:50.106Z"
   },
   {
    "duration": 277,
    "start_time": "2023-03-13T09:57:38.583Z"
   },
   {
    "duration": 1568,
    "start_time": "2023-03-13T10:01:49.427Z"
   },
   {
    "duration": 1002,
    "start_time": "2023-03-13T10:02:03.419Z"
   },
   {
    "duration": 591,
    "start_time": "2023-03-13T10:02:35.974Z"
   },
   {
    "duration": 483,
    "start_time": "2023-03-13T10:02:47.615Z"
   },
   {
    "duration": 283,
    "start_time": "2023-03-13T10:03:02.504Z"
   },
   {
    "duration": 186,
    "start_time": "2023-03-13T10:03:08.849Z"
   },
   {
    "duration": 7,
    "start_time": "2023-03-13T10:07:51.920Z"
   },
   {
    "duration": 11,
    "start_time": "2023-03-13T10:08:08.576Z"
   },
   {
    "duration": 7,
    "start_time": "2023-03-13T10:08:32.571Z"
   },
   {
    "duration": 11,
    "start_time": "2023-03-13T10:08:35.626Z"
   },
   {
    "duration": 239,
    "start_time": "2023-03-13T10:12:44.751Z"
   },
   {
    "duration": 140,
    "start_time": "2023-03-13T10:13:30.474Z"
   },
   {
    "duration": 3550,
    "start_time": "2023-03-13T10:14:37.521Z"
   },
   {
    "duration": 271,
    "start_time": "2023-03-13T10:14:59.673Z"
   },
   {
    "duration": 161,
    "start_time": "2023-03-13T10:15:36.637Z"
   },
   {
    "duration": 16,
    "start_time": "2023-03-13T10:17:35.278Z"
   },
   {
    "duration": 19,
    "start_time": "2023-03-13T10:17:48.202Z"
   },
   {
    "duration": 6,
    "start_time": "2023-03-13T10:18:26.273Z"
   },
   {
    "duration": 11,
    "start_time": "2023-03-13T10:18:28.031Z"
   },
   {
    "duration": 310,
    "start_time": "2023-03-13T10:18:30.322Z"
   },
   {
    "duration": 157,
    "start_time": "2023-03-13T10:18:33.674Z"
   },
   {
    "duration": 256,
    "start_time": "2023-03-13T10:18:56.980Z"
   },
   {
    "duration": 9,
    "start_time": "2023-03-13T10:19:02.613Z"
   },
   {
    "duration": 13,
    "start_time": "2023-03-13T10:19:04.039Z"
   },
   {
    "duration": 269,
    "start_time": "2023-03-13T10:19:07.295Z"
   },
   {
    "duration": 152,
    "start_time": "2023-03-13T10:19:11.595Z"
   },
   {
    "duration": 16,
    "start_time": "2023-03-13T10:19:29.591Z"
   },
   {
    "duration": 827,
    "start_time": "2023-03-14T06:07:35.052Z"
   },
   {
    "duration": 191,
    "start_time": "2023-03-14T06:07:35.882Z"
   },
   {
    "duration": 27,
    "start_time": "2023-03-14T06:07:36.106Z"
   },
   {
    "duration": 22,
    "start_time": "2023-03-14T06:07:36.727Z"
   },
   {
    "duration": 1124,
    "start_time": "2023-03-14T06:07:37.303Z"
   },
   {
    "duration": 4,
    "start_time": "2023-03-14T06:07:39.607Z"
   },
   {
    "duration": 56,
    "start_time": "2023-03-14T06:07:40.135Z"
   },
   {
    "duration": 7,
    "start_time": "2023-03-14T06:07:40.738Z"
   },
   {
    "duration": 5,
    "start_time": "2023-03-14T06:07:42.510Z"
   },
   {
    "duration": 6,
    "start_time": "2023-03-14T06:07:42.958Z"
   },
   {
    "duration": 6,
    "start_time": "2023-03-14T06:07:43.498Z"
   },
   {
    "duration": 6,
    "start_time": "2023-03-14T06:07:44.367Z"
   },
   {
    "duration": 5,
    "start_time": "2023-03-14T06:07:45.303Z"
   },
   {
    "duration": 6,
    "start_time": "2023-03-14T06:07:45.751Z"
   },
   {
    "duration": 11,
    "start_time": "2023-03-14T06:07:46.207Z"
   },
   {
    "duration": 12,
    "start_time": "2023-03-14T06:07:46.656Z"
   },
   {
    "duration": 24,
    "start_time": "2023-03-14T06:07:47.096Z"
   },
   {
    "duration": 15,
    "start_time": "2023-03-14T06:07:47.638Z"
   },
   {
    "duration": 250,
    "start_time": "2023-03-14T06:07:48.159Z"
   },
   {
    "duration": 15,
    "start_time": "2023-03-14T06:07:49.017Z"
   },
   {
    "duration": 12,
    "start_time": "2023-03-14T06:07:50.103Z"
   },
   {
    "duration": 5,
    "start_time": "2023-03-14T06:07:50.736Z"
   },
   {
    "duration": 5,
    "start_time": "2023-03-14T06:07:51.656Z"
   },
   {
    "duration": 26,
    "start_time": "2023-03-14T06:07:52.196Z"
   },
   {
    "duration": 226,
    "start_time": "2023-03-14T06:07:53.395Z"
   },
   {
    "duration": 7,
    "start_time": "2023-03-14T06:07:53.928Z"
   },
   {
    "duration": 12,
    "start_time": "2023-03-14T06:07:54.543Z"
   },
   {
    "duration": 4028,
    "start_time": "2023-03-14T06:07:55.192Z"
   },
   {
    "duration": 4079,
    "start_time": "2023-03-14T06:08:11.341Z"
   },
   {
    "duration": 4113,
    "start_time": "2023-03-14T06:08:16.474Z"
   },
   {
    "duration": 4017,
    "start_time": "2023-03-14T06:08:52.501Z"
   },
   {
    "duration": 4161,
    "start_time": "2023-03-14T06:09:07.518Z"
   },
   {
    "duration": 4184,
    "start_time": "2023-03-14T06:09:21.897Z"
   },
   {
    "duration": 1825,
    "start_time": "2023-03-14T06:10:45.317Z"
   },
   {
    "duration": 1943,
    "start_time": "2023-03-14T06:11:06.024Z"
   },
   {
    "duration": 50,
    "start_time": "2023-03-14T06:11:39.858Z"
   },
   {
    "duration": 10,
    "start_time": "2023-03-14T06:12:00.978Z"
   },
   {
    "duration": 11,
    "start_time": "2023-03-14T06:12:07.135Z"
   },
   {
    "duration": 9,
    "start_time": "2023-03-14T06:12:10.997Z"
   },
   {
    "duration": 54,
    "start_time": "2023-03-14T06:12:51.720Z"
   },
   {
    "duration": 273,
    "start_time": "2023-03-14T06:13:09.032Z"
   },
   {
    "duration": 774,
    "start_time": "2023-03-14T06:18:15.978Z"
   },
   {
    "duration": 812,
    "start_time": "2023-03-14T06:21:31.050Z"
   },
   {
    "duration": 4723,
    "start_time": "2023-03-14T06:21:38.619Z"
   },
   {
    "duration": 157,
    "start_time": "2023-03-14T06:23:04.561Z"
   },
   {
    "duration": 12,
    "start_time": "2023-03-14T06:23:22.295Z"
   },
   {
    "duration": 17,
    "start_time": "2023-03-14T06:28:43.829Z"
   },
   {
    "duration": 18,
    "start_time": "2023-03-14T06:29:24.313Z"
   },
   {
    "duration": 15,
    "start_time": "2023-03-14T06:33:22.356Z"
   },
   {
    "duration": 15,
    "start_time": "2023-03-14T06:34:06.447Z"
   },
   {
    "duration": 24,
    "start_time": "2023-03-14T06:41:45.702Z"
   },
   {
    "duration": 1231,
    "start_time": "2023-03-14T06:42:13.759Z"
   },
   {
    "duration": 758,
    "start_time": "2023-03-14T06:46:07.894Z"
   },
   {
    "duration": 12,
    "start_time": "2023-03-14T06:50:37.142Z"
   },
   {
    "duration": 12,
    "start_time": "2023-03-14T06:50:47.143Z"
   },
   {
    "duration": 228,
    "start_time": "2023-03-14T06:51:20.287Z"
   },
   {
    "duration": 25,
    "start_time": "2023-03-14T06:51:47.732Z"
   },
   {
    "duration": 14,
    "start_time": "2023-03-14T06:56:52.454Z"
   },
   {
    "duration": 68,
    "start_time": "2023-03-14T06:56:58.854Z"
   },
   {
    "duration": 7650,
    "start_time": "2023-03-14T06:57:57.240Z"
   },
   {
    "duration": 29960,
    "start_time": "2023-03-14T06:58:24.860Z"
   },
   {
    "duration": 8498,
    "start_time": "2023-03-14T07:00:45.807Z"
   },
   {
    "duration": 8117,
    "start_time": "2023-03-14T07:01:20.001Z"
   },
   {
    "duration": 3191,
    "start_time": "2023-03-14T07:03:24.072Z"
   },
   {
    "duration": 12,
    "start_time": "2023-03-14T07:06:04.113Z"
   },
   {
    "duration": 13,
    "start_time": "2023-03-14T07:06:25.938Z"
   },
   {
    "duration": 1688,
    "start_time": "2023-03-14T07:08:30.479Z"
   },
   {
    "duration": 1739,
    "start_time": "2023-03-14T07:09:17.176Z"
   },
   {
    "duration": 422,
    "start_time": "2023-03-14T07:17:27.143Z"
   },
   {
    "duration": 1789,
    "start_time": "2023-03-14T07:18:25.639Z"
   },
   {
    "duration": 4259,
    "start_time": "2023-03-14T07:18:58.040Z"
   },
   {
    "duration": 3011,
    "start_time": "2023-03-14T07:21:20.633Z"
   },
   {
    "duration": 584,
    "start_time": "2023-03-14T07:22:07.765Z"
   },
   {
    "duration": 3888,
    "start_time": "2023-03-14T07:23:09.963Z"
   },
   {
    "duration": 3053,
    "start_time": "2023-03-14T07:25:15.959Z"
   },
   {
    "duration": 2931,
    "start_time": "2023-03-14T07:25:30.565Z"
   },
   {
    "duration": 3956,
    "start_time": "2023-03-14T07:25:43.246Z"
   },
   {
    "duration": 3542,
    "start_time": "2023-03-14T07:25:57.704Z"
   },
   {
    "duration": 3185,
    "start_time": "2023-03-14T07:26:14.130Z"
   },
   {
    "duration": 4156,
    "start_time": "2023-03-14T07:26:51.187Z"
   },
   {
    "duration": 2,
    "start_time": "2023-03-14T07:27:25.407Z"
   },
   {
    "duration": 2,
    "start_time": "2023-03-14T07:27:44.715Z"
   },
   {
    "duration": 3015,
    "start_time": "2023-03-14T07:28:37.864Z"
   },
   {
    "duration": 1769,
    "start_time": "2023-03-14T07:28:51.493Z"
   },
   {
    "duration": 769,
    "start_time": "2023-03-14T07:29:41.840Z"
   },
   {
    "duration": 793,
    "start_time": "2023-03-14T07:34:38.433Z"
   },
   {
    "duration": 753,
    "start_time": "2023-03-14T07:34:50.291Z"
   },
   {
    "duration": 939,
    "start_time": "2023-03-14T07:35:03.144Z"
   },
   {
    "duration": 373,
    "start_time": "2023-03-14T07:39:03.136Z"
   },
   {
    "duration": 338,
    "start_time": "2023-03-14T07:39:16.025Z"
   },
   {
    "duration": 8,
    "start_time": "2023-03-14T07:44:23.805Z"
   },
   {
    "duration": 125,
    "start_time": "2023-03-14T07:45:44.879Z"
   },
   {
    "duration": 7,
    "start_time": "2023-03-14T07:47:11.040Z"
   },
   {
    "duration": 125,
    "start_time": "2023-03-14T07:47:50.410Z"
   },
   {
    "duration": 134,
    "start_time": "2023-03-14T07:49:24.137Z"
   },
   {
    "duration": 154,
    "start_time": "2023-03-14T07:50:13.540Z"
   },
   {
    "duration": 119,
    "start_time": "2023-03-14T07:50:26.391Z"
   },
   {
    "duration": 144,
    "start_time": "2023-03-14T07:51:16.869Z"
   },
   {
    "duration": 803,
    "start_time": "2023-03-14T07:53:46.607Z"
   },
   {
    "duration": 2498,
    "start_time": "2023-03-14T07:53:56.608Z"
   },
   {
    "duration": 12,
    "start_time": "2023-03-14T07:57:01.222Z"
   },
   {
    "duration": 121,
    "start_time": "2023-03-14T07:57:20.507Z"
   },
   {
    "duration": 708,
    "start_time": "2023-03-14T08:01:59.102Z"
   },
   {
    "duration": 2954,
    "start_time": "2023-03-14T08:09:32.500Z"
   },
   {
    "duration": 254,
    "start_time": "2023-03-14T08:09:35.456Z"
   },
   {
    "duration": 710,
    "start_time": "2023-03-14T08:09:35.711Z"
   },
   {
    "duration": 3,
    "start_time": "2023-03-14T08:09:36.423Z"
   },
   {
    "duration": 0,
    "start_time": "2023-03-14T08:09:36.472Z"
   },
   {
    "duration": 3010,
    "start_time": "2023-03-14T08:10:18.727Z"
   },
   {
    "duration": 679,
    "start_time": "2023-03-14T08:12:00.470Z"
   },
   {
    "duration": 2606,
    "start_time": "2023-03-14T08:12:11.967Z"
   },
   {
    "duration": 192,
    "start_time": "2023-03-14T08:13:39.422Z"
   },
   {
    "duration": 2651,
    "start_time": "2023-03-14T08:13:50.903Z"
   },
   {
    "duration": 15,
    "start_time": "2023-03-14T08:19:53.950Z"
   },
   {
    "duration": 19,
    "start_time": "2023-03-14T08:23:13.393Z"
   },
   {
    "duration": 16,
    "start_time": "2023-03-14T08:23:33.095Z"
   },
   {
    "duration": 16,
    "start_time": "2023-03-14T08:23:46.015Z"
   },
   {
    "duration": 24,
    "start_time": "2023-03-14T08:24:26.051Z"
   },
   {
    "duration": 21,
    "start_time": "2023-03-14T08:25:12.335Z"
   },
   {
    "duration": 284,
    "start_time": "2023-03-14T08:42:45.599Z"
   },
   {
    "duration": 299,
    "start_time": "2023-03-14T08:43:56.722Z"
   },
   {
    "duration": 302,
    "start_time": "2023-03-14T08:44:11.771Z"
   },
   {
    "duration": 344,
    "start_time": "2023-03-14T08:44:20.530Z"
   },
   {
    "duration": 346,
    "start_time": "2023-03-14T08:44:26.604Z"
   },
   {
    "duration": 289,
    "start_time": "2023-03-14T08:44:34.995Z"
   },
   {
    "duration": 346,
    "start_time": "2023-03-14T08:44:57.749Z"
   },
   {
    "duration": 285,
    "start_time": "2023-03-14T08:45:09.558Z"
   },
   {
    "duration": 303,
    "start_time": "2023-03-14T08:45:16.919Z"
   },
   {
    "duration": 298,
    "start_time": "2023-03-14T08:45:30.896Z"
   },
   {
    "duration": 303,
    "start_time": "2023-03-14T08:45:48.698Z"
   },
   {
    "duration": 306,
    "start_time": "2023-03-14T08:45:59.086Z"
   },
   {
    "duration": 298,
    "start_time": "2023-03-14T08:46:24.243Z"
   },
   {
    "duration": 53,
    "start_time": "2023-03-14T08:46:38.497Z"
   },
   {
    "duration": 3119,
    "start_time": "2023-03-14T08:46:43.334Z"
   },
   {
    "duration": 284,
    "start_time": "2023-03-14T08:47:10.088Z"
   },
   {
    "duration": 453,
    "start_time": "2023-03-14T08:47:43.348Z"
   },
   {
    "duration": 406,
    "start_time": "2023-03-14T08:47:51.947Z"
   },
   {
    "duration": 183,
    "start_time": "2023-03-14T08:50:40.740Z"
   },
   {
    "duration": 378,
    "start_time": "2023-03-14T08:50:55.350Z"
   },
   {
    "duration": 34,
    "start_time": "2023-03-14T08:53:16.735Z"
   },
   {
    "duration": 7,
    "start_time": "2023-03-14T08:54:02.072Z"
   },
   {
    "duration": 13,
    "start_time": "2023-03-14T09:04:47.623Z"
   },
   {
    "duration": 188,
    "start_time": "2023-03-14T09:05:16.065Z"
   },
   {
    "duration": 204,
    "start_time": "2023-03-14T09:05:56.141Z"
   },
   {
    "duration": 978,
    "start_time": "2023-03-14T09:07:20.706Z"
   },
   {
    "duration": 5,
    "start_time": "2023-03-14T09:07:34.454Z"
   },
   {
    "duration": 52,
    "start_time": "2023-03-14T09:08:54.538Z"
   },
   {
    "duration": 357,
    "start_time": "2023-03-14T09:09:00.125Z"
   },
   {
    "duration": 169,
    "start_time": "2023-03-14T09:09:50.494Z"
   },
   {
    "duration": 13,
    "start_time": "2023-03-14T09:10:15.392Z"
   },
   {
    "duration": 13,
    "start_time": "2023-03-14T09:14:34.415Z"
   },
   {
    "duration": 177,
    "start_time": "2023-03-14T09:17:30.157Z"
   },
   {
    "duration": 181,
    "start_time": "2023-03-14T09:17:51.586Z"
   },
   {
    "duration": 189,
    "start_time": "2023-03-14T09:18:06.223Z"
   },
   {
    "duration": 162,
    "start_time": "2023-03-14T09:31:44.120Z"
   },
   {
    "duration": 138,
    "start_time": "2023-03-14T09:32:13.339Z"
   },
   {
    "duration": 713,
    "start_time": "2023-03-14T09:37:46.269Z"
   },
   {
    "duration": 422,
    "start_time": "2023-03-14T09:37:57.394Z"
   },
   {
    "duration": 119,
    "start_time": "2023-03-14T09:40:13.033Z"
   },
   {
    "duration": 123,
    "start_time": "2023-03-14T09:48:50.506Z"
   },
   {
    "duration": 350,
    "start_time": "2023-03-14T09:50:10.840Z"
   },
   {
    "duration": 332,
    "start_time": "2023-03-14T09:50:49.899Z"
   },
   {
    "duration": 315,
    "start_time": "2023-03-14T10:00:36.028Z"
   },
   {
    "duration": 470,
    "start_time": "2023-03-14T10:08:39.250Z"
   },
   {
    "duration": 520,
    "start_time": "2023-03-14T10:08:47.734Z"
   },
   {
    "duration": 2851,
    "start_time": "2023-03-14T10:11:45.249Z"
   },
   {
    "duration": 1183,
    "start_time": "2023-03-14T10:12:00.717Z"
   },
   {
    "duration": 15,
    "start_time": "2023-03-14T10:18:10.644Z"
   },
   {
    "duration": 290,
    "start_time": "2023-03-14T10:20:00.399Z"
   },
   {
    "duration": 1157,
    "start_time": "2023-03-14T10:21:09.320Z"
   },
   {
    "duration": 302,
    "start_time": "2023-03-14T11:45:45.750Z"
   },
   {
    "duration": 179,
    "start_time": "2023-03-14T13:12:58.513Z"
   },
   {
    "duration": 179,
    "start_time": "2023-03-14T13:13:09.604Z"
   },
   {
    "duration": 179,
    "start_time": "2023-03-14T13:13:33.613Z"
   },
   {
    "duration": 12,
    "start_time": "2023-03-14T13:14:10.144Z"
   },
   {
    "duration": 202,
    "start_time": "2023-03-14T13:19:39.979Z"
   },
   {
    "duration": 16,
    "start_time": "2023-03-14T13:20:06.668Z"
   },
   {
    "duration": 198,
    "start_time": "2023-03-14T13:20:37.966Z"
   },
   {
    "duration": 17,
    "start_time": "2023-03-14T13:21:08.068Z"
   },
   {
    "duration": 219,
    "start_time": "2023-03-14T13:24:27.715Z"
   },
   {
    "duration": 214,
    "start_time": "2023-03-14T13:24:49.011Z"
   },
   {
    "duration": 307,
    "start_time": "2023-03-14T13:28:17.868Z"
   },
   {
    "duration": 266,
    "start_time": "2023-03-14T13:28:54.846Z"
   },
   {
    "duration": 239,
    "start_time": "2023-03-14T13:29:11.170Z"
   },
   {
    "duration": 249,
    "start_time": "2023-03-14T13:29:23.178Z"
   },
   {
    "duration": 205,
    "start_time": "2023-03-14T13:29:32.499Z"
   },
   {
    "duration": 215,
    "start_time": "2023-03-14T13:32:43.145Z"
   },
   {
    "duration": 205,
    "start_time": "2023-03-14T13:33:20.276Z"
   },
   {
    "duration": 194,
    "start_time": "2023-03-14T13:34:32.908Z"
   },
   {
    "duration": 33,
    "start_time": "2023-03-14T13:45:44.078Z"
   },
   {
    "duration": 306,
    "start_time": "2023-03-14T13:46:25.801Z"
   },
   {
    "duration": 306,
    "start_time": "2023-03-14T13:46:39.804Z"
   },
   {
    "duration": 34,
    "start_time": "2023-03-14T13:50:45.476Z"
   },
   {
    "duration": 32,
    "start_time": "2023-03-14T13:56:24.420Z"
   },
   {
    "duration": 34,
    "start_time": "2023-03-14T13:57:03.248Z"
   },
   {
    "duration": 27,
    "start_time": "2023-03-14T13:57:21.310Z"
   },
   {
    "duration": 202,
    "start_time": "2023-03-14T13:59:51.518Z"
   },
   {
    "duration": 22,
    "start_time": "2023-03-14T14:10:01.683Z"
   },
   {
    "duration": 18,
    "start_time": "2023-03-14T14:10:29.013Z"
   },
   {
    "duration": 19,
    "start_time": "2023-03-14T14:10:38.368Z"
   },
   {
    "duration": 828,
    "start_time": "2023-03-15T06:41:16.102Z"
   },
   {
    "duration": 102,
    "start_time": "2023-03-15T06:41:17.289Z"
   },
   {
    "duration": 30,
    "start_time": "2023-03-15T06:41:18.283Z"
   },
   {
    "duration": 18,
    "start_time": "2023-03-15T06:41:19.498Z"
   },
   {
    "duration": 3,
    "start_time": "2023-03-15T06:41:50.581Z"
   },
   {
    "duration": 14,
    "start_time": "2023-03-15T06:42:36.407Z"
   },
   {
    "duration": 11,
    "start_time": "2023-03-15T06:44:17.625Z"
   },
   {
    "duration": 55,
    "start_time": "2023-03-15T06:45:03.515Z"
   },
   {
    "duration": 97,
    "start_time": "2023-03-15T06:46:25.067Z"
   },
   {
    "duration": 11,
    "start_time": "2023-03-15T06:46:37.859Z"
   },
   {
    "duration": 10,
    "start_time": "2023-03-15T06:46:56.757Z"
   },
   {
    "duration": 22,
    "start_time": "2023-03-15T06:48:52.214Z"
   },
   {
    "duration": 21,
    "start_time": "2023-03-15T06:53:15.501Z"
   },
   {
    "duration": 3,
    "start_time": "2023-03-15T06:55:06.165Z"
   },
   {
    "duration": 9,
    "start_time": "2023-03-15T06:58:00.925Z"
   },
   {
    "duration": 4,
    "start_time": "2023-03-15T06:59:29.777Z"
   },
   {
    "duration": 8,
    "start_time": "2023-03-15T07:10:23.738Z"
   },
   {
    "duration": 9,
    "start_time": "2023-03-15T07:10:29.630Z"
   },
   {
    "duration": 11,
    "start_time": "2023-03-15T07:12:17.512Z"
   },
   {
    "duration": 9,
    "start_time": "2023-03-15T07:12:24.928Z"
   },
   {
    "duration": 9,
    "start_time": "2023-03-15T07:12:45.153Z"
   },
   {
    "duration": 10,
    "start_time": "2023-03-15T07:13:33.405Z"
   },
   {
    "duration": 10,
    "start_time": "2023-03-15T07:13:47.562Z"
   },
   {
    "duration": 11,
    "start_time": "2023-03-15T07:14:11.200Z"
   },
   {
    "duration": 9,
    "start_time": "2023-03-15T07:16:00.866Z"
   },
   {
    "duration": 9,
    "start_time": "2023-03-15T07:16:37.444Z"
   },
   {
    "duration": 16,
    "start_time": "2023-03-15T07:20:51.722Z"
   },
   {
    "duration": 16,
    "start_time": "2023-03-15T07:21:04.513Z"
   },
   {
    "duration": 23,
    "start_time": "2023-03-15T07:21:15.005Z"
   },
   {
    "duration": 7,
    "start_time": "2023-03-15T07:21:15.905Z"
   },
   {
    "duration": 7,
    "start_time": "2023-03-15T07:21:18.820Z"
   },
   {
    "duration": 10,
    "start_time": "2023-03-15T07:21:41.941Z"
   },
   {
    "duration": 8,
    "start_time": "2023-03-15T07:22:39.555Z"
   },
   {
    "duration": 14,
    "start_time": "2023-03-15T07:22:52.227Z"
   },
   {
    "duration": 12,
    "start_time": "2023-03-15T07:23:47.471Z"
   },
   {
    "duration": 7,
    "start_time": "2023-03-15T07:24:03.417Z"
   },
   {
    "duration": 15,
    "start_time": "2023-03-15T07:24:10.129Z"
   },
   {
    "duration": 13,
    "start_time": "2023-03-15T07:24:14.232Z"
   },
   {
    "duration": 15,
    "start_time": "2023-03-15T07:24:22.435Z"
   },
   {
    "duration": 15,
    "start_time": "2023-03-15T07:24:29.507Z"
   },
   {
    "duration": 4,
    "start_time": "2023-03-15T07:24:46.825Z"
   },
   {
    "duration": 57,
    "start_time": "2023-03-15T07:24:47.339Z"
   },
   {
    "duration": 21,
    "start_time": "2023-03-15T07:24:47.911Z"
   },
   {
    "duration": 14,
    "start_time": "2023-03-15T07:24:48.519Z"
   },
   {
    "duration": 4,
    "start_time": "2023-03-15T07:24:50.050Z"
   },
   {
    "duration": 10,
    "start_time": "2023-03-15T07:24:50.468Z"
   },
   {
    "duration": 17,
    "start_time": "2023-03-15T07:24:51.735Z"
   },
   {
    "duration": 29,
    "start_time": "2023-03-15T07:24:53.187Z"
   },
   {
    "duration": 6,
    "start_time": "2023-03-15T07:24:53.805Z"
   },
   {
    "duration": 14,
    "start_time": "2023-03-15T07:24:56.148Z"
   },
   {
    "duration": 5,
    "start_time": "2023-03-15T07:24:59.636Z"
   },
   {
    "duration": 5,
    "start_time": "2023-03-15T07:25:03.111Z"
   },
   {
    "duration": 14,
    "start_time": "2023-03-15T07:29:50.357Z"
   },
   {
    "duration": 14,
    "start_time": "2023-03-15T07:30:04.688Z"
   },
   {
    "duration": 4,
    "start_time": "2023-03-15T07:30:20.078Z"
   },
   {
    "duration": 15,
    "start_time": "2023-03-15T07:33:24.022Z"
   },
   {
    "duration": 5,
    "start_time": "2023-03-15T07:33:40.511Z"
   },
   {
    "duration": 4,
    "start_time": "2023-03-15T07:33:46.843Z"
   },
   {
    "duration": 7,
    "start_time": "2023-03-15T07:33:48.216Z"
   },
   {
    "duration": 8,
    "start_time": "2023-03-15T07:34:00.544Z"
   },
   {
    "duration": 9,
    "start_time": "2023-03-15T07:34:37.104Z"
   },
   {
    "duration": 5,
    "start_time": "2023-03-15T07:36:10.235Z"
   },
   {
    "duration": 8,
    "start_time": "2023-03-15T07:36:14.428Z"
   },
   {
    "duration": 3,
    "start_time": "2023-03-15T07:36:21.460Z"
   },
   {
    "duration": 51,
    "start_time": "2023-03-15T07:36:21.931Z"
   },
   {
    "duration": 20,
    "start_time": "2023-03-15T07:36:22.709Z"
   },
   {
    "duration": 14,
    "start_time": "2023-03-15T07:36:23.354Z"
   },
   {
    "duration": 3,
    "start_time": "2023-03-15T07:36:26.818Z"
   },
   {
    "duration": 9,
    "start_time": "2023-03-15T07:36:27.331Z"
   },
   {
    "duration": 16,
    "start_time": "2023-03-15T07:36:33.868Z"
   },
   {
    "duration": 21,
    "start_time": "2023-03-15T07:36:35.038Z"
   },
   {
    "duration": 6,
    "start_time": "2023-03-15T07:36:35.925Z"
   },
   {
    "duration": 7,
    "start_time": "2023-03-15T07:36:37.206Z"
   },
   {
    "duration": 8,
    "start_time": "2023-03-15T07:36:40.315Z"
   },
   {
    "duration": 5,
    "start_time": "2023-03-15T07:36:42.333Z"
   },
   {
    "duration": 4,
    "start_time": "2023-03-15T07:36:47.513Z"
   },
   {
    "duration": 8,
    "start_time": "2023-03-15T07:36:52.312Z"
   },
   {
    "duration": 7,
    "start_time": "2023-03-15T07:36:53.315Z"
   },
   {
    "duration": 9,
    "start_time": "2023-03-15T07:36:56.211Z"
   },
   {
    "duration": 13,
    "start_time": "2023-03-15T07:36:57.708Z"
   },
   {
    "duration": 5,
    "start_time": "2023-03-15T07:38:21.453Z"
   },
   {
    "duration": 6,
    "start_time": "2023-03-15T07:48:48.707Z"
   },
   {
    "duration": 14,
    "start_time": "2023-03-15T07:48:52.159Z"
   },
   {
    "duration": 4,
    "start_time": "2023-03-15T08:07:36.125Z"
   },
   {
    "duration": 10,
    "start_time": "2023-03-15T08:13:56.616Z"
   },
   {
    "duration": 12,
    "start_time": "2023-03-15T08:14:23.732Z"
   },
   {
    "duration": 8,
    "start_time": "2023-03-15T08:14:33.565Z"
   },
   {
    "duration": 13,
    "start_time": "2023-03-15T08:14:41.052Z"
   },
   {
    "duration": 10,
    "start_time": "2023-03-15T08:14:48.901Z"
   },
   {
    "duration": 234,
    "start_time": "2023-03-15T08:14:57.806Z"
   },
   {
    "duration": 15,
    "start_time": "2023-03-15T08:14:59.634Z"
   },
   {
    "duration": 1425,
    "start_time": "2023-03-15T08:15:00.231Z"
   },
   {
    "duration": 0,
    "start_time": "2023-03-15T08:15:01.658Z"
   },
   {
    "duration": 0,
    "start_time": "2023-03-15T08:15:01.659Z"
   },
   {
    "duration": 415,
    "start_time": "2023-03-15T08:15:05.006Z"
   },
   {
    "duration": 12,
    "start_time": "2023-03-15T08:15:23.064Z"
   },
   {
    "duration": 5,
    "start_time": "2023-03-15T08:15:26.064Z"
   },
   {
    "duration": 4,
    "start_time": "2023-03-15T08:15:27.071Z"
   },
   {
    "duration": 457,
    "start_time": "2023-03-15T08:15:29.631Z"
   },
   {
    "duration": 6,
    "start_time": "2023-03-15T08:15:30.374Z"
   },
   {
    "duration": 193,
    "start_time": "2023-03-15T08:38:04.772Z"
   },
   {
    "duration": 141,
    "start_time": "2023-03-15T08:38:07.707Z"
   },
   {
    "duration": 145,
    "start_time": "2023-03-15T08:38:13.407Z"
   },
   {
    "duration": 144,
    "start_time": "2023-03-15T08:39:54.026Z"
   },
   {
    "duration": 169,
    "start_time": "2023-03-15T08:40:10.816Z"
   },
   {
    "duration": 189,
    "start_time": "2023-03-15T08:49:14.617Z"
   },
   {
    "duration": 607,
    "start_time": "2023-03-15T08:49:22.107Z"
   },
   {
    "duration": 248,
    "start_time": "2023-03-15T08:49:33.830Z"
   },
   {
    "duration": 1928,
    "start_time": "2023-03-15T08:49:41.617Z"
   },
   {
    "duration": 12,
    "start_time": "2023-03-15T08:54:28.253Z"
   },
   {
    "duration": 17,
    "start_time": "2023-03-15T08:55:00.314Z"
   },
   {
    "duration": 15,
    "start_time": "2023-03-15T09:01:37.469Z"
   },
   {
    "duration": 532,
    "start_time": "2023-03-15T09:04:29.944Z"
   },
   {
    "duration": 385,
    "start_time": "2023-03-15T09:05:26.619Z"
   },
   {
    "duration": 11,
    "start_time": "2023-03-15T09:05:39.236Z"
   },
   {
    "duration": 17,
    "start_time": "2023-03-15T09:05:50.410Z"
   },
   {
    "duration": 15,
    "start_time": "2023-03-15T09:06:32.277Z"
   },
   {
    "duration": 20,
    "start_time": "2023-03-15T09:10:58.978Z"
   },
   {
    "duration": 24,
    "start_time": "2023-03-15T09:11:06.645Z"
   },
   {
    "duration": 17,
    "start_time": "2023-03-15T09:11:22.743Z"
   },
   {
    "duration": 89,
    "start_time": "2023-03-15T09:12:36.277Z"
   },
   {
    "duration": 17,
    "start_time": "2023-03-15T09:12:49.122Z"
   },
   {
    "duration": 16,
    "start_time": "2023-03-15T09:13:08.845Z"
   },
   {
    "duration": 27,
    "start_time": "2023-03-15T09:13:18.278Z"
   },
   {
    "duration": 18,
    "start_time": "2023-03-15T09:13:34.935Z"
   },
   {
    "duration": 17,
    "start_time": "2023-03-15T09:14:28.836Z"
   },
   {
    "duration": 16,
    "start_time": "2023-03-15T09:15:32.122Z"
   },
   {
    "duration": 24,
    "start_time": "2023-03-15T09:15:43.427Z"
   },
   {
    "duration": 25,
    "start_time": "2023-03-15T09:15:51.259Z"
   },
   {
    "duration": 17,
    "start_time": "2023-03-15T09:17:14.029Z"
   },
   {
    "duration": 20,
    "start_time": "2023-03-15T09:19:14.430Z"
   },
   {
    "duration": 19,
    "start_time": "2023-03-15T09:22:09.979Z"
   },
   {
    "duration": 16,
    "start_time": "2023-03-15T09:22:57.143Z"
   },
   {
    "duration": 19,
    "start_time": "2023-03-15T09:24:28.034Z"
   },
   {
    "duration": 17,
    "start_time": "2023-03-15T09:26:37.314Z"
   },
   {
    "duration": 17,
    "start_time": "2023-03-15T09:28:18.305Z"
   },
   {
    "duration": 13,
    "start_time": "2023-03-15T09:29:56.951Z"
   },
   {
    "duration": 10,
    "start_time": "2023-03-15T09:30:43.978Z"
   },
   {
    "duration": 13,
    "start_time": "2023-03-15T09:30:51.652Z"
   },
   {
    "duration": 14,
    "start_time": "2023-03-15T09:31:50.232Z"
   },
   {
    "duration": 1739,
    "start_time": "2023-03-15T09:58:29.167Z"
   },
   {
    "duration": 1751,
    "start_time": "2023-03-15T09:59:06.059Z"
   },
   {
    "duration": 16,
    "start_time": "2023-03-15T10:01:06.055Z"
   },
   {
    "duration": 336,
    "start_time": "2023-03-15T10:01:25.416Z"
   },
   {
    "duration": 44,
    "start_time": "2023-03-15T10:03:11.123Z"
   },
   {
    "duration": 30,
    "start_time": "2023-03-15T10:03:18.784Z"
   },
   {
    "duration": 46,
    "start_time": "2023-03-15T10:03:26.512Z"
   },
   {
    "duration": 19,
    "start_time": "2023-03-15T10:03:41.123Z"
   },
   {
    "duration": 191,
    "start_time": "2023-03-15T10:04:02.030Z"
   },
   {
    "duration": 19,
    "start_time": "2023-03-15T10:04:07.735Z"
   },
   {
    "duration": 213,
    "start_time": "2023-03-15T10:04:19.749Z"
   },
   {
    "duration": 25,
    "start_time": "2023-03-15T10:04:26.379Z"
   },
   {
    "duration": 4,
    "start_time": "2023-03-15T10:06:24.150Z"
   },
   {
    "duration": 303,
    "start_time": "2023-03-15T10:09:51.331Z"
   },
   {
    "duration": 12,
    "start_time": "2023-03-15T10:11:24.560Z"
   },
   {
    "duration": 16,
    "start_time": "2023-03-15T10:12:05.623Z"
   },
   {
    "duration": 255,
    "start_time": "2023-03-15T10:12:16.779Z"
   },
   {
    "duration": 329,
    "start_time": "2023-03-15T10:14:53.248Z"
   },
   {
    "duration": 308,
    "start_time": "2023-03-15T10:16:26.359Z"
   },
   {
    "duration": 284,
    "start_time": "2023-03-15T10:18:03.923Z"
   },
   {
    "duration": 18,
    "start_time": "2023-03-15T10:18:34.458Z"
   },
   {
    "duration": 27,
    "start_time": "2023-03-15T10:18:51.027Z"
   },
   {
    "duration": 35,
    "start_time": "2023-03-15T10:19:10.557Z"
   },
   {
    "duration": 18,
    "start_time": "2023-03-15T10:19:49.527Z"
   },
   {
    "duration": 17,
    "start_time": "2023-03-15T10:21:54.959Z"
   },
   {
    "duration": 20,
    "start_time": "2023-03-15T10:23:34.850Z"
   },
   {
    "duration": 9,
    "start_time": "2023-03-15T10:31:58.857Z"
   },
   {
    "duration": 9,
    "start_time": "2023-03-15T10:32:09.125Z"
   },
   {
    "duration": 834,
    "start_time": "2023-03-15T10:32:21.659Z"
   },
   {
    "duration": 15,
    "start_time": "2023-03-15T10:32:43.343Z"
   },
   {
    "duration": 1349,
    "start_time": "2023-03-15T10:35:57.427Z"
   },
   {
    "duration": 13,
    "start_time": "2023-03-15T10:36:16.186Z"
   },
   {
    "duration": 273,
    "start_time": "2023-03-15T10:36:28.351Z"
   },
   {
    "duration": 322,
    "start_time": "2023-03-15T10:37:13.628Z"
   },
   {
    "duration": 333,
    "start_time": "2023-03-15T10:38:27.449Z"
   },
   {
    "duration": 19,
    "start_time": "2023-03-15T15:28:21.153Z"
   },
   {
    "duration": 21,
    "start_time": "2023-03-15T15:30:24.638Z"
   },
   {
    "duration": 363,
    "start_time": "2023-03-15T15:35:15.413Z"
   },
   {
    "duration": 303,
    "start_time": "2023-03-15T15:35:55.501Z"
   },
   {
    "duration": 103,
    "start_time": "2023-03-15T16:11:16.953Z"
   },
   {
    "duration": 385,
    "start_time": "2023-03-15T16:11:28.745Z"
   },
   {
    "duration": 389,
    "start_time": "2023-03-15T16:11:38.754Z"
   },
   {
    "duration": 516,
    "start_time": "2023-03-15T16:11:55.196Z"
   },
   {
    "duration": 397,
    "start_time": "2023-03-15T16:12:56.536Z"
   },
   {
    "duration": 1446,
    "start_time": "2023-03-16T06:59:16.799Z"
   },
   {
    "duration": 105,
    "start_time": "2023-03-16T06:59:18.247Z"
   },
   {
    "duration": 26,
    "start_time": "2023-03-16T06:59:20.729Z"
   },
   {
    "duration": 15,
    "start_time": "2023-03-16T06:59:23.735Z"
   },
   {
    "duration": 4,
    "start_time": "2023-03-16T06:59:45.999Z"
   },
   {
    "duration": 12,
    "start_time": "2023-03-16T06:59:46.649Z"
   },
   {
    "duration": 65,
    "start_time": "2023-03-16T06:59:47.547Z"
   },
   {
    "duration": 7,
    "start_time": "2023-03-16T06:59:48.599Z"
   },
   {
    "duration": 7,
    "start_time": "2023-03-16T07:00:44.599Z"
   },
   {
    "duration": 8,
    "start_time": "2023-03-16T07:00:50.450Z"
   },
   {
    "duration": 7,
    "start_time": "2023-03-16T07:00:54.700Z"
   },
   {
    "duration": 5,
    "start_time": "2023-03-16T07:00:59.021Z"
   },
   {
    "duration": 7,
    "start_time": "2023-03-16T07:01:35.295Z"
   },
   {
    "duration": 8,
    "start_time": "2023-03-16T07:01:39.299Z"
   },
   {
    "duration": 5,
    "start_time": "2023-03-16T07:01:39.898Z"
   },
   {
    "duration": 7,
    "start_time": "2023-03-16T07:01:41.905Z"
   },
   {
    "duration": 14,
    "start_time": "2023-03-16T07:01:43.626Z"
   },
   {
    "duration": 15,
    "start_time": "2023-03-16T07:01:46.515Z"
   },
   {
    "duration": 230,
    "start_time": "2023-03-16T07:01:47.250Z"
   },
   {
    "duration": 15,
    "start_time": "2023-03-16T07:01:54.276Z"
   },
   {
    "duration": 11,
    "start_time": "2023-03-16T07:02:30.830Z"
   },
   {
    "duration": 5,
    "start_time": "2023-03-16T07:02:35.135Z"
   },
   {
    "duration": 4,
    "start_time": "2023-03-16T07:02:37.900Z"
   },
   {
    "duration": 400,
    "start_time": "2023-03-16T07:02:58.098Z"
   },
   {
    "duration": 217,
    "start_time": "2023-03-16T07:07:53.725Z"
   },
   {
    "duration": 210,
    "start_time": "2023-03-16T07:08:52.011Z"
   },
   {
    "duration": 245,
    "start_time": "2023-03-16T07:09:18.330Z"
   },
   {
    "duration": 111,
    "start_time": "2023-03-16T07:11:44.814Z"
   },
   {
    "duration": 2783,
    "start_time": "2023-03-16T07:11:57.948Z"
   },
   {
    "duration": 119,
    "start_time": "2023-03-16T07:14:34.327Z"
   },
   {
    "duration": 85,
    "start_time": "2023-03-16T07:15:34.811Z"
   },
   {
    "duration": 72,
    "start_time": "2023-03-16T07:15:45.199Z"
   },
   {
    "duration": 13,
    "start_time": "2023-03-16T07:15:59.423Z"
   },
   {
    "duration": 23,
    "start_time": "2023-03-16T07:19:55.903Z"
   },
   {
    "duration": 6,
    "start_time": "2023-03-16T07:20:51.331Z"
   },
   {
    "duration": 589,
    "start_time": "2023-03-16T07:22:19.823Z"
   },
   {
    "duration": 227,
    "start_time": "2023-03-16T07:23:50.438Z"
   },
   {
    "duration": 218,
    "start_time": "2023-03-16T07:25:05.592Z"
   },
   {
    "duration": 215,
    "start_time": "2023-03-16T07:25:58.040Z"
   },
   {
    "duration": 212,
    "start_time": "2023-03-16T07:27:35.403Z"
   },
   {
    "duration": 460,
    "start_time": "2023-03-16T07:30:52.113Z"
   },
   {
    "duration": 67,
    "start_time": "2023-03-16T07:30:55.095Z"
   },
   {
    "duration": 216,
    "start_time": "2023-03-16T07:31:08.592Z"
   },
   {
    "duration": 211,
    "start_time": "2023-03-16T07:31:21.092Z"
   },
   {
    "duration": 231,
    "start_time": "2023-03-16T07:31:28.033Z"
   },
   {
    "duration": 207,
    "start_time": "2023-03-16T07:31:32.811Z"
   },
   {
    "duration": 206,
    "start_time": "2023-03-16T07:32:01.270Z"
   },
   {
    "duration": 213,
    "start_time": "2023-03-16T07:32:16.892Z"
   },
   {
    "duration": 6,
    "start_time": "2023-03-16T07:41:43.796Z"
   },
   {
    "duration": 356,
    "start_time": "2023-03-16T07:45:07.505Z"
   },
   {
    "duration": 77,
    "start_time": "2023-03-16T07:45:38.215Z"
   },
   {
    "duration": 483,
    "start_time": "2023-03-16T07:45:56.003Z"
   },
   {
    "duration": 372,
    "start_time": "2023-03-16T07:47:12.271Z"
   },
   {
    "duration": 352,
    "start_time": "2023-03-16T07:47:19.607Z"
   },
   {
    "duration": 357,
    "start_time": "2023-03-16T07:47:28.575Z"
   },
   {
    "duration": 342,
    "start_time": "2023-03-16T07:47:35.145Z"
   },
   {
    "duration": 443,
    "start_time": "2023-03-16T07:47:46.724Z"
   },
   {
    "duration": 253,
    "start_time": "2023-03-16T07:53:40.048Z"
   },
   {
    "duration": 175,
    "start_time": "2023-03-16T07:54:48.702Z"
   },
   {
    "duration": 57,
    "start_time": "2023-03-16T08:15:47.783Z"
   },
   {
    "duration": 1200,
    "start_time": "2023-03-16T08:16:07.419Z"
   },
   {
    "duration": 53,
    "start_time": "2023-03-16T08:16:08.621Z"
   },
   {
    "duration": 28,
    "start_time": "2023-03-16T08:16:08.701Z"
   },
   {
    "duration": 16,
    "start_time": "2023-03-16T08:16:09.441Z"
   },
   {
    "duration": 3,
    "start_time": "2023-03-16T08:16:12.781Z"
   },
   {
    "duration": 10,
    "start_time": "2023-03-16T08:16:13.539Z"
   },
   {
    "duration": 58,
    "start_time": "2023-03-16T08:16:15.041Z"
   },
   {
    "duration": 8,
    "start_time": "2023-03-16T08:16:15.999Z"
   },
   {
    "duration": 6,
    "start_time": "2023-03-16T08:16:17.708Z"
   },
   {
    "duration": 8,
    "start_time": "2023-03-16T08:16:21.035Z"
   },
   {
    "duration": 6,
    "start_time": "2023-03-16T08:16:23.034Z"
   },
   {
    "duration": 5,
    "start_time": "2023-03-16T08:16:24.679Z"
   },
   {
    "duration": 7,
    "start_time": "2023-03-16T08:16:31.155Z"
   },
   {
    "duration": 7,
    "start_time": "2023-03-16T08:16:36.600Z"
   },
   {
    "duration": 6,
    "start_time": "2023-03-16T08:16:37.227Z"
   },
   {
    "duration": 7,
    "start_time": "2023-03-16T08:16:38.005Z"
   },
   {
    "duration": 14,
    "start_time": "2023-03-16T08:16:39.525Z"
   },
   {
    "duration": 15,
    "start_time": "2023-03-16T08:16:40.604Z"
   },
   {
    "duration": 247,
    "start_time": "2023-03-16T08:16:41.187Z"
   },
   {
    "duration": 12,
    "start_time": "2023-03-16T08:16:41.826Z"
   },
   {
    "duration": 5,
    "start_time": "2023-03-16T08:16:42.501Z"
   },
   {
    "duration": 5,
    "start_time": "2023-03-16T08:16:43.322Z"
   },
   {
    "duration": 401,
    "start_time": "2023-03-16T08:16:49.345Z"
   },
   {
    "duration": 76,
    "start_time": "2023-03-16T08:16:51.658Z"
   },
   {
    "duration": 342,
    "start_time": "2023-03-16T08:16:52.321Z"
   },
   {
    "duration": 222,
    "start_time": "2023-03-16T08:16:54.176Z"
   },
   {
    "duration": 227,
    "start_time": "2023-03-16T08:16:54.784Z"
   },
   {
    "duration": 254,
    "start_time": "2023-03-16T08:16:55.891Z"
   },
   {
    "duration": 293,
    "start_time": "2023-03-16T08:16:56.637Z"
   },
   {
    "duration": 215,
    "start_time": "2023-03-16T08:16:57.388Z"
   },
   {
    "duration": 227,
    "start_time": "2023-03-16T08:16:58.344Z"
   },
   {
    "duration": 6,
    "start_time": "2023-03-16T08:17:01.137Z"
   },
   {
    "duration": 348,
    "start_time": "2023-03-16T08:17:01.841Z"
   },
   {
    "duration": 207,
    "start_time": "2023-03-16T08:17:06.279Z"
   },
   {
    "duration": 180,
    "start_time": "2023-03-16T08:17:10.577Z"
   },
   {
    "duration": 295,
    "start_time": "2023-03-16T08:23:25.549Z"
   },
   {
    "duration": 302,
    "start_time": "2023-03-16T08:28:14.512Z"
   },
   {
    "duration": 408,
    "start_time": "2023-03-16T08:31:16.579Z"
   },
   {
    "duration": 295,
    "start_time": "2023-03-16T08:31:29.156Z"
   },
   {
    "duration": 224,
    "start_time": "2023-03-16T08:47:15.441Z"
   },
   {
    "duration": 81,
    "start_time": "2023-03-16T08:47:30.204Z"
   },
   {
    "duration": 20,
    "start_time": "2023-03-16T08:47:49.141Z"
   },
   {
    "duration": 3,
    "start_time": "2023-03-16T08:48:00.011Z"
   },
   {
    "duration": 51,
    "start_time": "2023-03-16T08:48:00.557Z"
   },
   {
    "duration": 20,
    "start_time": "2023-03-16T08:48:01.112Z"
   },
   {
    "duration": 13,
    "start_time": "2023-03-16T08:48:01.833Z"
   },
   {
    "duration": 4,
    "start_time": "2023-03-16T08:48:04.863Z"
   },
   {
    "duration": 10,
    "start_time": "2023-03-16T08:48:05.376Z"
   },
   {
    "duration": 19,
    "start_time": "2023-03-16T08:48:06.319Z"
   },
   {
    "duration": 7,
    "start_time": "2023-03-16T08:48:06.895Z"
   },
   {
    "duration": 6,
    "start_time": "2023-03-16T08:48:08.575Z"
   },
   {
    "duration": 7,
    "start_time": "2023-03-16T08:48:09.044Z"
   },
   {
    "duration": 6,
    "start_time": "2023-03-16T08:48:38.007Z"
   },
   {
    "duration": 4,
    "start_time": "2023-03-16T08:48:39.184Z"
   },
   {
    "duration": 7,
    "start_time": "2023-03-16T08:48:40.140Z"
   },
   {
    "duration": 8,
    "start_time": "2023-03-16T08:48:40.631Z"
   },
   {
    "duration": 6,
    "start_time": "2023-03-16T08:48:41.175Z"
   },
   {
    "duration": 5,
    "start_time": "2023-03-16T08:48:41.724Z"
   },
   {
    "duration": 13,
    "start_time": "2023-03-16T08:48:42.300Z"
   },
   {
    "duration": 13,
    "start_time": "2023-03-16T08:48:42.872Z"
   },
   {
    "duration": 241,
    "start_time": "2023-03-16T08:48:43.395Z"
   },
   {
    "duration": 350,
    "start_time": "2023-03-16T08:48:45.731Z"
   },
   {
    "duration": 315,
    "start_time": "2023-03-16T08:48:47.530Z"
   },
   {
    "duration": 228,
    "start_time": "2023-03-16T08:48:48.976Z"
   },
   {
    "duration": 229,
    "start_time": "2023-03-16T08:48:49.588Z"
   },
   {
    "duration": 310,
    "start_time": "2023-03-16T08:48:50.196Z"
   },
   {
    "duration": 210,
    "start_time": "2023-03-16T08:48:50.900Z"
   },
   {
    "duration": 211,
    "start_time": "2023-03-16T08:48:51.572Z"
   },
   {
    "duration": 200,
    "start_time": "2023-03-16T08:48:52.142Z"
   },
   {
    "duration": 20,
    "start_time": "2023-03-16T08:48:53.729Z"
   },
   {
    "duration": 301,
    "start_time": "2023-03-16T08:49:27.792Z"
   },
   {
    "duration": 155,
    "start_time": "2023-03-16T08:51:01.772Z"
   },
   {
    "duration": 158,
    "start_time": "2023-03-16T08:51:07.769Z"
   },
   {
    "duration": 153,
    "start_time": "2023-03-16T08:51:16.226Z"
   },
   {
    "duration": 191,
    "start_time": "2023-03-16T08:51:35.012Z"
   },
   {
    "duration": 185,
    "start_time": "2023-03-16T08:51:42.976Z"
   },
   {
    "duration": 286,
    "start_time": "2023-03-16T08:52:13.320Z"
   },
   {
    "duration": 204,
    "start_time": "2023-03-16T08:52:22.299Z"
   },
   {
    "duration": 199,
    "start_time": "2023-03-16T08:52:29.876Z"
   },
   {
    "duration": 203,
    "start_time": "2023-03-16T08:52:40.628Z"
   },
   {
    "duration": 205,
    "start_time": "2023-03-16T08:59:12.945Z"
   },
   {
    "duration": 195,
    "start_time": "2023-03-16T08:59:57.739Z"
   },
   {
    "duration": 290,
    "start_time": "2023-03-16T09:07:33.925Z"
   },
   {
    "duration": 12,
    "start_time": "2023-03-16T09:09:26.112Z"
   },
   {
    "duration": 35,
    "start_time": "2023-03-16T09:09:43.527Z"
   },
   {
    "duration": 36,
    "start_time": "2023-03-16T09:11:48.363Z"
   },
   {
    "duration": 19,
    "start_time": "2023-03-16T09:11:50.796Z"
   },
   {
    "duration": 16,
    "start_time": "2023-03-16T09:21:23.912Z"
   },
   {
    "duration": 15,
    "start_time": "2023-03-16T09:21:51.717Z"
   },
   {
    "duration": 18,
    "start_time": "2023-03-16T09:21:58.131Z"
   },
   {
    "duration": 16,
    "start_time": "2023-03-16T09:22:35.868Z"
   },
   {
    "duration": 15,
    "start_time": "2023-03-16T09:22:51.620Z"
   },
   {
    "duration": 21,
    "start_time": "2023-03-16T09:30:07.968Z"
   },
   {
    "duration": 26,
    "start_time": "2023-03-16T09:30:27.302Z"
   },
   {
    "duration": 29,
    "start_time": "2023-03-16T09:32:44.693Z"
   },
   {
    "duration": 99,
    "start_time": "2023-03-16T09:33:03.444Z"
   },
   {
    "duration": 18,
    "start_time": "2023-03-16T09:33:19.516Z"
   },
   {
    "duration": 323,
    "start_time": "2023-03-16T09:44:52.507Z"
   },
   {
    "duration": 361,
    "start_time": "2023-03-16T09:45:09.849Z"
   },
   {
    "duration": 13,
    "start_time": "2023-03-16T10:31:59.723Z"
   },
   {
    "duration": 228,
    "start_time": "2023-03-16T10:32:16.070Z"
   },
   {
    "duration": 207,
    "start_time": "2023-03-16T10:32:30.391Z"
   },
   {
    "duration": 308,
    "start_time": "2023-03-16T13:29:34.550Z"
   },
   {
    "duration": 26,
    "start_time": "2023-03-16T13:54:42.270Z"
   },
   {
    "duration": 177,
    "start_time": "2023-03-16T13:59:14.808Z"
   },
   {
    "duration": 16,
    "start_time": "2023-03-16T13:59:17.598Z"
   },
   {
    "duration": 14,
    "start_time": "2023-03-16T14:00:10.681Z"
   },
   {
    "duration": 15,
    "start_time": "2023-03-16T14:01:09.505Z"
   },
   {
    "duration": 15,
    "start_time": "2023-03-16T14:01:44.031Z"
   },
   {
    "duration": 254,
    "start_time": "2023-03-16T14:03:07.120Z"
   },
   {
    "duration": 3,
    "start_time": "2023-03-16T14:04:44.416Z"
   },
   {
    "duration": 46,
    "start_time": "2023-03-16T14:04:44.968Z"
   },
   {
    "duration": 25,
    "start_time": "2023-03-16T14:04:45.797Z"
   },
   {
    "duration": 16,
    "start_time": "2023-03-16T14:04:46.809Z"
   },
   {
    "duration": 4,
    "start_time": "2023-03-16T14:04:50.687Z"
   },
   {
    "duration": 12,
    "start_time": "2023-03-16T14:04:51.279Z"
   },
   {
    "duration": 21,
    "start_time": "2023-03-16T14:04:52.432Z"
   },
   {
    "duration": 9,
    "start_time": "2023-03-16T14:04:53.276Z"
   },
   {
    "duration": 12,
    "start_time": "2023-03-16T14:04:54.692Z"
   },
   {
    "duration": 5,
    "start_time": "2023-03-16T14:05:08.844Z"
   },
   {
    "duration": 6,
    "start_time": "2023-03-16T14:05:14.044Z"
   },
   {
    "duration": 6,
    "start_time": "2023-03-16T14:05:15.643Z"
   },
   {
    "duration": 6,
    "start_time": "2023-03-16T14:05:19.883Z"
   },
   {
    "duration": 5,
    "start_time": "2023-03-16T14:05:21.196Z"
   },
   {
    "duration": 7,
    "start_time": "2023-03-16T14:05:22.611Z"
   },
   {
    "duration": 8,
    "start_time": "2023-03-16T14:05:23.114Z"
   },
   {
    "duration": 5,
    "start_time": "2023-03-16T14:05:23.603Z"
   },
   {
    "duration": 5,
    "start_time": "2023-03-16T14:05:24.333Z"
   },
   {
    "duration": 14,
    "start_time": "2023-03-16T14:05:25.299Z"
   },
   {
    "duration": 13,
    "start_time": "2023-03-16T14:05:26.470Z"
   },
   {
    "duration": 239,
    "start_time": "2023-03-16T14:05:27.324Z"
   },
   {
    "duration": 360,
    "start_time": "2023-03-16T14:05:29.970Z"
   },
   {
    "duration": 333,
    "start_time": "2023-03-16T14:05:32.171Z"
   },
   {
    "duration": 208,
    "start_time": "2023-03-16T14:05:33.619Z"
   },
   {
    "duration": 219,
    "start_time": "2023-03-16T14:05:34.397Z"
   },
   {
    "duration": 277,
    "start_time": "2023-03-16T14:05:35.014Z"
   },
   {
    "duration": 205,
    "start_time": "2023-03-16T14:05:35.619Z"
   },
   {
    "duration": 239,
    "start_time": "2023-03-16T14:05:36.342Z"
   },
   {
    "duration": 203,
    "start_time": "2023-03-16T14:05:36.924Z"
   },
   {
    "duration": 310,
    "start_time": "2023-03-16T14:05:58.550Z"
   },
   {
    "duration": 306,
    "start_time": "2023-03-16T14:06:08.575Z"
   },
   {
    "duration": 6,
    "start_time": "2023-03-16T14:06:11.095Z"
   },
   {
    "duration": 353,
    "start_time": "2023-03-16T14:06:12.275Z"
   },
   {
    "duration": 164,
    "start_time": "2023-03-16T14:06:14.799Z"
   },
   {
    "duration": 250,
    "start_time": "2023-03-16T14:06:15.800Z"
   },
   {
    "duration": 18,
    "start_time": "2023-03-16T14:06:23.800Z"
   },
   {
    "duration": 289,
    "start_time": "2023-03-16T14:06:31.498Z"
   },
   {
    "duration": 295,
    "start_time": "2023-03-16T14:06:37.346Z"
   },
   {
    "duration": 41,
    "start_time": "2023-03-16T14:06:39.995Z"
   },
   {
    "duration": 82,
    "start_time": "2023-03-16T14:06:44.698Z"
   },
   {
    "duration": 183,
    "start_time": "2023-03-16T14:06:53.918Z"
   },
   {
    "duration": 16,
    "start_time": "2023-03-16T14:06:55.938Z"
   },
   {
    "duration": 20,
    "start_time": "2023-03-16T14:06:56.669Z"
   },
   {
    "duration": 14,
    "start_time": "2023-03-16T14:06:57.835Z"
   },
   {
    "duration": 15,
    "start_time": "2023-03-16T14:07:26.237Z"
   },
   {
    "duration": 10,
    "start_time": "2023-03-16T14:18:57.291Z"
   },
   {
    "duration": 9,
    "start_time": "2023-03-16T14:19:17.127Z"
   },
   {
    "duration": 11,
    "start_time": "2023-03-16T14:20:23.870Z"
   },
   {
    "duration": 12,
    "start_time": "2023-03-16T14:20:31.935Z"
   },
   {
    "duration": 202,
    "start_time": "2023-03-16T14:21:17.722Z"
   },
   {
    "duration": 196,
    "start_time": "2023-03-16T14:22:58.570Z"
   },
   {
    "duration": 196,
    "start_time": "2023-03-16T14:24:14.558Z"
   },
   {
    "duration": 407,
    "start_time": "2023-03-16T14:39:04.180Z"
   },
   {
    "duration": 30,
    "start_time": "2023-03-16T14:48:50.230Z"
   },
   {
    "duration": 29,
    "start_time": "2023-03-16T14:51:48.532Z"
   },
   {
    "duration": 28,
    "start_time": "2023-03-16T14:52:07.863Z"
   },
   {
    "duration": 26,
    "start_time": "2023-03-16T15:00:22.311Z"
   },
   {
    "duration": 29,
    "start_time": "2023-03-16T15:20:58.190Z"
   },
   {
    "duration": 16,
    "start_time": "2023-03-16T15:21:03.657Z"
   },
   {
    "duration": 25,
    "start_time": "2023-03-16T15:21:41.486Z"
   },
   {
    "duration": 12,
    "start_time": "2023-03-16T15:22:05.730Z"
   },
   {
    "duration": 24,
    "start_time": "2023-03-16T15:22:14.600Z"
   },
   {
    "duration": 114,
    "start_time": "2023-03-16T15:22:25.543Z"
   },
   {
    "duration": 9,
    "start_time": "2023-03-16T16:33:47.375Z"
   },
   {
    "duration": 8,
    "start_time": "2023-03-16T16:34:15.074Z"
   },
   {
    "duration": 10,
    "start_time": "2023-03-16T16:34:19.701Z"
   },
   {
    "duration": 22,
    "start_time": "2023-03-16T16:34:26.291Z"
   },
   {
    "duration": 18,
    "start_time": "2023-03-16T16:34:32.842Z"
   },
   {
    "duration": 11,
    "start_time": "2023-03-16T16:34:34.998Z"
   },
   {
    "duration": 853,
    "start_time": "2023-03-16T16:34:54.949Z"
   },
   {
    "duration": 10,
    "start_time": "2023-03-16T16:35:20.354Z"
   },
   {
    "duration": 147,
    "start_time": "2023-03-16T16:36:28.981Z"
   },
   {
    "duration": 1456,
    "start_time": "2023-03-16T16:40:20.248Z"
   },
   {
    "duration": 140,
    "start_time": "2023-03-16T16:40:38.081Z"
   },
   {
    "duration": 158,
    "start_time": "2023-03-16T16:41:19.132Z"
   },
   {
    "duration": 145,
    "start_time": "2023-03-16T16:41:28.077Z"
   },
   {
    "duration": 165,
    "start_time": "2023-03-16T17:05:31.337Z"
   },
   {
    "duration": 189,
    "start_time": "2023-03-16T17:15:46.002Z"
   },
   {
    "duration": 352,
    "start_time": "2023-03-16T17:16:33.360Z"
   },
   {
    "duration": 341,
    "start_time": "2023-03-16T17:17:13.314Z"
   },
   {
    "duration": 477,
    "start_time": "2023-03-16T17:17:22.873Z"
   },
   {
    "duration": 17,
    "start_time": "2023-03-16T17:30:30.505Z"
   },
   {
    "duration": 15,
    "start_time": "2023-03-16T17:31:37.655Z"
   },
   {
    "duration": 24,
    "start_time": "2023-03-16T17:31:53.601Z"
   },
   {
    "duration": 25,
    "start_time": "2023-03-16T17:32:10.452Z"
   },
   {
    "duration": 20,
    "start_time": "2023-03-16T17:32:47.086Z"
   },
   {
    "duration": 20,
    "start_time": "2023-03-16T17:33:17.422Z"
   },
   {
    "duration": 24,
    "start_time": "2023-03-16T17:33:31.504Z"
   },
   {
    "duration": 29,
    "start_time": "2023-03-16T17:33:42.130Z"
   },
   {
    "duration": 29,
    "start_time": "2023-03-16T17:34:06.160Z"
   },
   {
    "duration": 22,
    "start_time": "2023-03-16T17:38:10.408Z"
   },
   {
    "duration": 29,
    "start_time": "2023-03-16T17:38:17.719Z"
   },
   {
    "duration": 7,
    "start_time": "2023-03-16T17:40:55.277Z"
   },
   {
    "duration": 8,
    "start_time": "2023-03-16T17:42:34.335Z"
   },
   {
    "duration": 4,
    "start_time": "2023-03-16T17:42:54.054Z"
   },
   {
    "duration": 207,
    "start_time": "2023-03-16T18:25:55.904Z"
   },
   {
    "duration": 181,
    "start_time": "2023-03-16T18:26:25.985Z"
   },
   {
    "duration": 180,
    "start_time": "2023-03-16T18:26:31.759Z"
   },
   {
    "duration": 20,
    "start_time": "2023-03-16T18:31:18.899Z"
   },
   {
    "duration": 262,
    "start_time": "2023-03-16T18:31:36.169Z"
   },
   {
    "duration": 228,
    "start_time": "2023-03-16T18:33:30.531Z"
   },
   {
    "duration": 185,
    "start_time": "2023-03-16T18:33:38.948Z"
   },
   {
    "duration": 219,
    "start_time": "2023-03-16T18:33:45.292Z"
   },
   {
    "duration": 270,
    "start_time": "2023-03-16T18:33:51.573Z"
   },
   {
    "duration": 172,
    "start_time": "2023-03-16T18:35:47.630Z"
   },
   {
    "duration": 190,
    "start_time": "2023-03-16T18:37:20.094Z"
   },
   {
    "duration": 71,
    "start_time": "2023-03-16T18:44:41.184Z"
   },
   {
    "duration": 86,
    "start_time": "2023-03-16T18:44:48.729Z"
   },
   {
    "duration": 99,
    "start_time": "2023-03-16T18:44:56.994Z"
   },
   {
    "duration": 68,
    "start_time": "2023-03-16T18:45:10.702Z"
   },
   {
    "duration": 9,
    "start_time": "2023-03-16T18:45:39.484Z"
   },
   {
    "duration": 6,
    "start_time": "2023-03-16T18:45:49.376Z"
   },
   {
    "duration": 19,
    "start_time": "2023-03-16T18:48:17.177Z"
   },
   {
    "duration": 15,
    "start_time": "2023-03-16T18:48:23.748Z"
   },
   {
    "duration": 18,
    "start_time": "2023-03-16T18:48:37.997Z"
   },
   {
    "duration": 18,
    "start_time": "2023-03-16T18:48:59.453Z"
   },
   {
    "duration": 18,
    "start_time": "2023-03-16T18:50:03.270Z"
   },
   {
    "duration": 8,
    "start_time": "2023-03-16T18:50:12.414Z"
   },
   {
    "duration": 79,
    "start_time": "2023-03-16T18:50:49.816Z"
   },
   {
    "duration": 19,
    "start_time": "2023-03-16T18:50:53.921Z"
   },
   {
    "duration": 18,
    "start_time": "2023-03-16T18:51:28.646Z"
   },
   {
    "duration": 12,
    "start_time": "2023-03-16T18:52:43.480Z"
   },
   {
    "duration": 9,
    "start_time": "2023-03-16T18:53:00.948Z"
   },
   {
    "duration": 11,
    "start_time": "2023-03-16T18:53:11.945Z"
   },
   {
    "duration": 11,
    "start_time": "2023-03-16T18:55:30.119Z"
   },
   {
    "duration": 4,
    "start_time": "2023-03-16T20:48:36.317Z"
   },
   {
    "duration": 48,
    "start_time": "2023-03-16T20:48:37.037Z"
   },
   {
    "duration": 15,
    "start_time": "2023-03-16T20:48:38.005Z"
   },
   {
    "duration": 114,
    "start_time": "2023-03-16T20:48:40.426Z"
   },
   {
    "duration": 3,
    "start_time": "2023-03-16T20:48:53.703Z"
   },
   {
    "duration": 12,
    "start_time": "2023-03-16T20:48:56.384Z"
   },
   {
    "duration": 15,
    "start_time": "2023-03-16T20:49:00.884Z"
   },
   {
    "duration": 7,
    "start_time": "2023-03-16T20:49:02.008Z"
   },
   {
    "duration": 3,
    "start_time": "2023-03-16T20:51:33.573Z"
   },
   {
    "duration": 48,
    "start_time": "2023-03-16T20:51:34.140Z"
   },
   {
    "duration": 17,
    "start_time": "2023-03-16T20:51:34.720Z"
   },
   {
    "duration": 16,
    "start_time": "2023-03-16T20:51:35.404Z"
   },
   {
    "duration": 3,
    "start_time": "2023-03-16T20:51:37.572Z"
   },
   {
    "duration": 12,
    "start_time": "2023-03-16T20:51:40.935Z"
   },
   {
    "duration": 16,
    "start_time": "2023-03-16T20:51:43.398Z"
   },
   {
    "duration": 6,
    "start_time": "2023-03-16T20:51:44.102Z"
   },
   {
    "duration": 6,
    "start_time": "2023-03-16T20:51:53.231Z"
   },
   {
    "duration": 3,
    "start_time": "2023-03-16T20:53:17.237Z"
   },
   {
    "duration": 3,
    "start_time": "2023-03-16T20:53:57.611Z"
   },
   {
    "duration": 5,
    "start_time": "2023-03-16T20:54:17.410Z"
   },
   {
    "duration": 9,
    "start_time": "2023-03-16T20:54:32.036Z"
   },
   {
    "duration": 5,
    "start_time": "2023-03-16T20:54:43.880Z"
   },
   {
    "duration": 7,
    "start_time": "2023-03-16T20:56:13.637Z"
   },
   {
    "duration": 5,
    "start_time": "2023-03-16T20:56:41.716Z"
   },
   {
    "duration": 7,
    "start_time": "2023-03-16T20:58:44.095Z"
   },
   {
    "duration": 8,
    "start_time": "2023-03-16T20:58:47.200Z"
   },
   {
    "duration": 5,
    "start_time": "2023-03-16T20:58:52.646Z"
   },
   {
    "duration": 6,
    "start_time": "2023-03-16T20:58:56.736Z"
   },
   {
    "duration": 13,
    "start_time": "2023-03-16T20:58:59.752Z"
   },
   {
    "duration": 14,
    "start_time": "2023-03-16T20:59:03.412Z"
   },
   {
    "duration": 5,
    "start_time": "2023-03-16T20:59:50.284Z"
   },
   {
    "duration": 4,
    "start_time": "2023-03-16T21:04:41.126Z"
   },
   {
    "duration": 8,
    "start_time": "2023-03-16T21:04:41.804Z"
   },
   {
    "duration": 5,
    "start_time": "2023-03-16T21:04:42.644Z"
   },
   {
    "duration": 5,
    "start_time": "2023-03-16T21:04:44.902Z"
   },
   {
    "duration": 15,
    "start_time": "2023-03-16T21:04:45.485Z"
   },
   {
    "duration": 19,
    "start_time": "2023-03-16T21:04:46.101Z"
   },
   {
    "duration": 4,
    "start_time": "2023-03-16T21:04:46.807Z"
   },
   {
    "duration": 354,
    "start_time": "2023-03-16T21:05:12.456Z"
   },
   {
    "duration": 214,
    "start_time": "2023-03-16T21:17:36.044Z"
   },
   {
    "duration": 187,
    "start_time": "2023-03-16T21:19:21.269Z"
   },
   {
    "duration": 214,
    "start_time": "2023-03-16T21:19:38.391Z"
   },
   {
    "duration": 219,
    "start_time": "2023-03-16T21:19:44.022Z"
   },
   {
    "duration": 195,
    "start_time": "2023-03-16T21:19:57.112Z"
   },
   {
    "duration": 211,
    "start_time": "2023-03-16T21:20:03.896Z"
   },
   {
    "duration": 204,
    "start_time": "2023-03-16T21:20:09.559Z"
   },
   {
    "duration": 194,
    "start_time": "2023-03-16T21:20:22.112Z"
   },
   {
    "duration": 189,
    "start_time": "2023-03-16T21:23:13.609Z"
   },
   {
    "duration": 285,
    "start_time": "2023-03-16T21:24:02.137Z"
   },
   {
    "duration": 182,
    "start_time": "2023-03-16T21:24:03.714Z"
   },
   {
    "duration": 182,
    "start_time": "2023-03-16T21:24:08.395Z"
   },
   {
    "duration": 6,
    "start_time": "2023-03-16T21:24:41.606Z"
   },
   {
    "duration": 141,
    "start_time": "2023-03-16T21:29:01.838Z"
   },
   {
    "duration": 146,
    "start_time": "2023-03-16T21:33:52.417Z"
   },
   {
    "duration": 146,
    "start_time": "2023-03-16T21:33:54.123Z"
   },
   {
    "duration": 6,
    "start_time": "2023-03-16T21:37:16.371Z"
   },
   {
    "duration": 16,
    "start_time": "2023-03-16T21:37:21.330Z"
   },
   {
    "duration": 17,
    "start_time": "2023-03-16T21:37:30.814Z"
   },
   {
    "duration": 17,
    "start_time": "2023-03-16T21:37:48.852Z"
   },
   {
    "duration": 277,
    "start_time": "2023-03-16T21:39:10.084Z"
   },
   {
    "duration": 276,
    "start_time": "2023-03-16T21:39:27.409Z"
   },
   {
    "duration": 23,
    "start_time": "2023-03-16T21:44:09.763Z"
   },
   {
    "duration": 161,
    "start_time": "2023-03-16T21:52:03.410Z"
   },
   {
    "duration": 169,
    "start_time": "2023-03-16T21:52:11.754Z"
   },
   {
    "duration": 276,
    "start_time": "2023-03-16T21:52:16.826Z"
   },
   {
    "duration": 161,
    "start_time": "2023-03-16T21:52:21.611Z"
   },
   {
    "duration": 21,
    "start_time": "2023-03-16T21:58:13.037Z"
   },
   {
    "duration": 161,
    "start_time": "2023-03-16T21:59:27.218Z"
   },
   {
    "duration": 164,
    "start_time": "2023-03-16T21:59:47.575Z"
   },
   {
    "duration": 8,
    "start_time": "2023-03-16T21:59:48.404Z"
   },
   {
    "duration": 175,
    "start_time": "2023-03-16T21:59:49.886Z"
   },
   {
    "duration": 8,
    "start_time": "2023-03-16T22:00:00.116Z"
   },
   {
    "duration": 158,
    "start_time": "2023-03-16T22:00:13.795Z"
   },
   {
    "duration": 9,
    "start_time": "2023-03-16T22:00:16.573Z"
   },
   {
    "duration": 166,
    "start_time": "2023-03-16T22:00:25.372Z"
   },
   {
    "duration": 9,
    "start_time": "2023-03-16T22:00:32.935Z"
   },
   {
    "duration": 8,
    "start_time": "2023-03-16T22:00:41.953Z"
   },
   {
    "duration": 11,
    "start_time": "2023-03-16T22:00:58.920Z"
   },
   {
    "duration": 11,
    "start_time": "2023-03-16T22:01:20.662Z"
   },
   {
    "duration": 12,
    "start_time": "2023-03-16T22:01:40.294Z"
   },
   {
    "duration": 10,
    "start_time": "2023-03-16T22:02:27.837Z"
   },
   {
    "duration": 212,
    "start_time": "2023-03-16T22:06:03.262Z"
   },
   {
    "duration": 204,
    "start_time": "2023-03-16T22:06:45.580Z"
   },
   {
    "duration": 297,
    "start_time": "2023-03-16T22:07:43.177Z"
   },
   {
    "duration": 400,
    "start_time": "2023-03-16T22:07:50.825Z"
   },
   {
    "duration": 303,
    "start_time": "2023-03-16T22:07:58.809Z"
   },
   {
    "duration": 320,
    "start_time": "2023-03-16T22:08:03.890Z"
   },
   {
    "duration": 10,
    "start_time": "2023-03-16T22:08:37.293Z"
   },
   {
    "duration": 10,
    "start_time": "2023-03-16T22:08:57.418Z"
   },
   {
    "duration": 20,
    "start_time": "2023-03-16T22:11:46.905Z"
   },
   {
    "duration": 20,
    "start_time": "2023-03-16T22:12:12.771Z"
   },
   {
    "duration": 374,
    "start_time": "2023-03-16T22:14:18.558Z"
   },
   {
    "duration": 343,
    "start_time": "2023-03-16T22:14:25.390Z"
   },
   {
    "duration": 179,
    "start_time": "2023-03-16T22:16:33.495Z"
   },
   {
    "duration": 343,
    "start_time": "2023-03-16T22:16:44.611Z"
   },
   {
    "duration": 424,
    "start_time": "2023-03-16T22:17:34.348Z"
   },
   {
    "duration": 322,
    "start_time": "2023-03-16T22:17:42.353Z"
   },
   {
    "duration": 29,
    "start_time": "2023-03-16T22:18:21.392Z"
   },
   {
    "duration": 28,
    "start_time": "2023-03-16T22:19:29.080Z"
   },
   {
    "duration": 16,
    "start_time": "2023-03-16T22:45:16.128Z"
   },
   {
    "duration": 17,
    "start_time": "2023-03-16T22:45:24.077Z"
   },
   {
    "duration": 8,
    "start_time": "2023-03-16T22:46:19.626Z"
   },
   {
    "duration": 17,
    "start_time": "2023-03-16T22:46:33.230Z"
   },
   {
    "duration": 9,
    "start_time": "2023-03-16T22:46:35.256Z"
   },
   {
    "duration": 25,
    "start_time": "2023-03-16T22:47:57.578Z"
   },
   {
    "duration": 169,
    "start_time": "2023-03-16T22:48:15.450Z"
   },
   {
    "duration": 16,
    "start_time": "2023-03-16T22:55:23.290Z"
   },
   {
    "duration": 15,
    "start_time": "2023-03-16T22:56:00.179Z"
   },
   {
    "duration": 167,
    "start_time": "2023-03-16T22:56:08.531Z"
   },
   {
    "duration": 17,
    "start_time": "2023-03-16T23:00:09.534Z"
   },
   {
    "duration": 14,
    "start_time": "2023-03-16T23:00:34.853Z"
   },
   {
    "duration": 18,
    "start_time": "2023-03-16T23:00:44.189Z"
   },
   {
    "duration": 179,
    "start_time": "2023-03-16T23:03:57.518Z"
   },
   {
    "duration": 8,
    "start_time": "2023-03-16T23:05:53.615Z"
   },
   {
    "duration": 7,
    "start_time": "2023-03-16T23:05:57.839Z"
   },
   {
    "duration": 5,
    "start_time": "2023-03-16T23:05:59.213Z"
   },
   {
    "duration": 9,
    "start_time": "2023-03-16T23:13:04.799Z"
   },
   {
    "duration": 7,
    "start_time": "2023-03-16T23:13:52.640Z"
   },
   {
    "duration": 4,
    "start_time": "2023-03-16T23:14:18.871Z"
   },
   {
    "duration": 4,
    "start_time": "2023-03-16T23:14:33.537Z"
   },
   {
    "duration": 9,
    "start_time": "2023-03-16T23:18:06.859Z"
   },
   {
    "duration": 8,
    "start_time": "2023-03-16T23:18:32.115Z"
   },
   {
    "duration": 8,
    "start_time": "2023-03-16T23:21:32.091Z"
   },
   {
    "duration": 9,
    "start_time": "2023-03-16T23:21:48.178Z"
   },
   {
    "duration": 3,
    "start_time": "2023-03-17T00:03:21.718Z"
   },
   {
    "duration": 47,
    "start_time": "2023-03-17T00:03:22.006Z"
   },
   {
    "duration": 17,
    "start_time": "2023-03-17T00:03:22.241Z"
   },
   {
    "duration": 15,
    "start_time": "2023-03-17T00:03:22.778Z"
   },
   {
    "duration": 3,
    "start_time": "2023-03-17T00:03:24.340Z"
   },
   {
    "duration": 11,
    "start_time": "2023-03-17T00:03:24.924Z"
   },
   {
    "duration": 18,
    "start_time": "2023-03-17T00:03:25.735Z"
   },
   {
    "duration": 6,
    "start_time": "2023-03-17T00:03:27.295Z"
   },
   {
    "duration": 5,
    "start_time": "2023-03-17T00:03:28.948Z"
   },
   {
    "duration": 5,
    "start_time": "2023-03-17T00:03:29.541Z"
   },
   {
    "duration": 6,
    "start_time": "2023-03-17T00:03:30.325Z"
   },
   {
    "duration": 5,
    "start_time": "2023-03-17T00:03:32.716Z"
   },
   {
    "duration": 8,
    "start_time": "2023-03-17T00:03:34.428Z"
   },
   {
    "duration": 8,
    "start_time": "2023-03-17T00:03:38.197Z"
   },
   {
    "duration": 6,
    "start_time": "2023-03-17T00:03:49.551Z"
   },
   {
    "duration": 6,
    "start_time": "2023-03-17T00:03:50.206Z"
   },
   {
    "duration": 14,
    "start_time": "2023-03-17T00:03:51.378Z"
   },
   {
    "duration": 14,
    "start_time": "2023-03-17T00:03:52.055Z"
   },
   {
    "duration": 5,
    "start_time": "2023-03-17T00:03:54.861Z"
   },
   {
    "duration": 341,
    "start_time": "2023-03-17T00:03:59.657Z"
   },
   {
    "duration": 308,
    "start_time": "2023-03-17T00:04:02.241Z"
   },
   {
    "duration": 193,
    "start_time": "2023-03-17T00:04:03.543Z"
   },
   {
    "duration": 205,
    "start_time": "2023-03-17T00:04:04.409Z"
   },
   {
    "duration": 332,
    "start_time": "2023-03-17T00:04:06.146Z"
   },
   {
    "duration": 182,
    "start_time": "2023-03-17T00:04:07.441Z"
   },
   {
    "duration": 193,
    "start_time": "2023-03-17T00:04:08.642Z"
   },
   {
    "duration": 196,
    "start_time": "2023-03-17T00:04:13.611Z"
   },
   {
    "duration": 6,
    "start_time": "2023-03-17T00:04:23.305Z"
   },
   {
    "duration": 349,
    "start_time": "2023-03-17T00:04:30.382Z"
   },
   {
    "duration": 151,
    "start_time": "2023-03-17T00:04:58.683Z"
   },
   {
    "duration": 153,
    "start_time": "2023-03-17T00:04:59.749Z"
   },
   {
    "duration": 7,
    "start_time": "2023-03-17T00:05:30.662Z"
   },
   {
    "duration": 18,
    "start_time": "2023-03-17T00:06:25.298Z"
   },
   {
    "duration": 23,
    "start_time": "2023-03-17T00:07:36.213Z"
   },
   {
    "duration": 279,
    "start_time": "2023-03-17T00:08:00.548Z"
   },
   {
    "duration": 399,
    "start_time": "2023-03-17T00:08:05.282Z"
   },
   {
    "duration": 165,
    "start_time": "2023-03-17T00:08:45.701Z"
   },
   {
    "duration": 7,
    "start_time": "2023-03-17T00:08:49.080Z"
   },
   {
    "duration": 8,
    "start_time": "2023-03-17T00:08:56.463Z"
   },
   {
    "duration": 163,
    "start_time": "2023-03-17T00:09:02.963Z"
   },
   {
    "duration": 9,
    "start_time": "2023-03-17T00:09:04.874Z"
   },
   {
    "duration": 170,
    "start_time": "2023-03-17T00:09:10.880Z"
   },
   {
    "duration": 7,
    "start_time": "2023-03-17T00:09:12.818Z"
   },
   {
    "duration": 12,
    "start_time": "2023-03-17T00:09:15.593Z"
   },
   {
    "duration": 10,
    "start_time": "2023-03-17T00:09:37.690Z"
   },
   {
    "duration": 129,
    "start_time": "2023-03-17T00:10:05.620Z"
   },
   {
    "duration": 215,
    "start_time": "2023-03-17T00:10:17.422Z"
   },
   {
    "duration": 83,
    "start_time": "2023-03-17T00:10:34.489Z"
   },
   {
    "duration": 200,
    "start_time": "2023-03-17T00:10:44.592Z"
   },
   {
    "duration": 312,
    "start_time": "2023-03-17T00:10:58.532Z"
   },
   {
    "duration": 311,
    "start_time": "2023-03-17T00:11:05.390Z"
   },
   {
    "duration": 21,
    "start_time": "2023-03-17T00:11:10.589Z"
   },
   {
    "duration": 9,
    "start_time": "2023-03-17T00:11:19.597Z"
   },
   {
    "duration": 326,
    "start_time": "2023-03-17T00:12:13.807Z"
   },
   {
    "duration": 98,
    "start_time": "2023-03-17T00:12:16.714Z"
   },
   {
    "duration": 18,
    "start_time": "2023-03-17T00:15:48.234Z"
   },
   {
    "duration": 16,
    "start_time": "2023-03-17T00:15:53.790Z"
   },
   {
    "duration": 187,
    "start_time": "2023-03-17T00:15:58.353Z"
   },
   {
    "duration": 88,
    "start_time": "2023-03-17T00:16:02.159Z"
   },
   {
    "duration": 17,
    "start_time": "2023-03-17T00:16:10.458Z"
   },
   {
    "duration": 20,
    "start_time": "2023-03-17T00:16:12.410Z"
   },
   {
    "duration": 282,
    "start_time": "2023-03-17T00:16:16.982Z"
   },
   {
    "duration": 73,
    "start_time": "2023-03-17T00:16:18.236Z"
   },
   {
    "duration": 16,
    "start_time": "2023-03-17T00:16:46.527Z"
   },
   {
    "duration": 71,
    "start_time": "2023-03-17T00:16:47.958Z"
   },
   {
    "duration": 17,
    "start_time": "2023-03-17T00:16:59.237Z"
   },
   {
    "duration": 192,
    "start_time": "2023-03-17T00:17:01.030Z"
   },
   {
    "duration": 239,
    "start_time": "2023-03-17T00:17:11.882Z"
   },
   {
    "duration": 171,
    "start_time": "2023-03-17T00:17:22.610Z"
   },
   {
    "duration": 9,
    "start_time": "2023-03-17T00:21:50.310Z"
   },
   {
    "duration": 10,
    "start_time": "2023-03-17T00:21:50.836Z"
   },
   {
    "duration": 5,
    "start_time": "2023-03-17T00:21:51.310Z"
   },
   {
    "duration": 81,
    "start_time": "2023-03-17T00:21:51.790Z"
   },
   {
    "duration": 75,
    "start_time": "2023-03-17T00:21:52.282Z"
   },
   {
    "duration": 9,
    "start_time": "2023-03-17T00:21:52.756Z"
   },
   {
    "duration": 11,
    "start_time": "2023-03-17T00:22:04.437Z"
   },
   {
    "duration": 8,
    "start_time": "2023-03-17T00:22:05.231Z"
   },
   {
    "duration": 5,
    "start_time": "2023-03-17T00:22:07.189Z"
   },
   {
    "duration": 90,
    "start_time": "2023-03-17T00:22:14.439Z"
   },
   {
    "duration": 1298,
    "start_time": "2023-03-17T14:20:51.634Z"
   },
   {
    "duration": 194,
    "start_time": "2023-03-17T14:20:52.934Z"
   },
   {
    "duration": 18,
    "start_time": "2023-03-17T14:20:53.129Z"
   },
   {
    "duration": 12,
    "start_time": "2023-03-17T14:20:53.149Z"
   },
   {
    "duration": 3,
    "start_time": "2023-03-17T14:20:53.162Z"
   },
   {
    "duration": 14,
    "start_time": "2023-03-17T14:20:53.166Z"
   },
   {
    "duration": 65,
    "start_time": "2023-03-17T14:20:53.181Z"
   },
   {
    "duration": 6,
    "start_time": "2023-03-17T14:20:53.247Z"
   },
   {
    "duration": 8,
    "start_time": "2023-03-17T14:20:53.255Z"
   },
   {
    "duration": 31,
    "start_time": "2023-03-17T14:20:53.265Z"
   },
   {
    "duration": 11,
    "start_time": "2023-03-17T14:20:53.298Z"
   },
   {
    "duration": 14,
    "start_time": "2023-03-17T14:20:53.310Z"
   },
   {
    "duration": 23,
    "start_time": "2023-03-17T14:20:53.326Z"
   },
   {
    "duration": 17,
    "start_time": "2023-03-17T14:20:53.351Z"
   },
   {
    "duration": 10,
    "start_time": "2023-03-17T14:20:53.370Z"
   },
   {
    "duration": 24,
    "start_time": "2023-03-17T14:20:53.381Z"
   },
   {
    "duration": 13,
    "start_time": "2023-03-17T14:20:53.407Z"
   },
   {
    "duration": 13,
    "start_time": "2023-03-17T14:20:53.421Z"
   },
   {
    "duration": 4,
    "start_time": "2023-03-17T14:20:53.435Z"
   },
   {
    "duration": 362,
    "start_time": "2023-03-17T14:20:53.440Z"
   },
   {
    "duration": 299,
    "start_time": "2023-03-17T14:20:53.803Z"
   },
   {
    "duration": 189,
    "start_time": "2023-03-17T14:20:54.103Z"
   },
   {
    "duration": 187,
    "start_time": "2023-03-17T14:20:54.293Z"
   },
   {
    "duration": 203,
    "start_time": "2023-03-17T14:20:54.481Z"
   },
   {
    "duration": 249,
    "start_time": "2023-03-17T14:20:54.685Z"
   },
   {
    "duration": 169,
    "start_time": "2023-03-17T14:20:54.935Z"
   },
   {
    "duration": 169,
    "start_time": "2023-03-17T14:20:55.105Z"
   },
   {
    "duration": 5,
    "start_time": "2023-03-17T14:20:55.278Z"
   },
   {
    "duration": 313,
    "start_time": "2023-03-17T14:20:55.284Z"
   },
   {
    "duration": 135,
    "start_time": "2023-03-17T14:20:55.598Z"
   },
   {
    "duration": 155,
    "start_time": "2023-03-17T14:20:55.734Z"
   },
   {
    "duration": 5,
    "start_time": "2023-03-17T14:20:55.891Z"
   },
   {
    "duration": 27,
    "start_time": "2023-03-17T14:20:55.897Z"
   },
   {
    "duration": 266,
    "start_time": "2023-03-17T14:20:55.925Z"
   },
   {
    "duration": 275,
    "start_time": "2023-03-17T14:20:56.193Z"
   },
   {
    "duration": 228,
    "start_time": "2023-03-17T14:20:56.469Z"
   },
   {
    "duration": 7,
    "start_time": "2023-03-17T14:20:56.698Z"
   },
   {
    "duration": 162,
    "start_time": "2023-03-17T14:20:56.706Z"
   },
   {
    "duration": 7,
    "start_time": "2023-03-17T14:20:56.870Z"
   },
   {
    "duration": 13,
    "start_time": "2023-03-17T14:20:56.878Z"
   },
   {
    "duration": 9,
    "start_time": "2023-03-17T14:20:56.892Z"
   },
   {
    "duration": 198,
    "start_time": "2023-03-17T14:20:56.903Z"
   },
   {
    "duration": 186,
    "start_time": "2023-03-17T14:20:57.103Z"
   },
   {
    "duration": 294,
    "start_time": "2023-03-17T14:20:57.290Z"
   },
   {
    "duration": 295,
    "start_time": "2023-03-17T14:20:57.586Z"
   },
   {
    "duration": 21,
    "start_time": "2023-03-17T14:20:57.883Z"
   },
   {
    "duration": 20,
    "start_time": "2023-03-17T14:20:57.906Z"
   },
   {
    "duration": 315,
    "start_time": "2023-03-17T14:20:57.927Z"
   },
   {
    "duration": 97,
    "start_time": "2023-03-17T14:20:58.244Z"
   },
   {
    "duration": 0,
    "start_time": "2023-03-17T14:20:58.342Z"
   },
   {
    "duration": 0,
    "start_time": "2023-03-17T14:20:58.343Z"
   },
   {
    "duration": 0,
    "start_time": "2023-03-17T14:20:58.344Z"
   },
   {
    "duration": 0,
    "start_time": "2023-03-17T14:20:58.345Z"
   },
   {
    "duration": 0,
    "start_time": "2023-03-17T14:20:58.346Z"
   },
   {
    "duration": 0,
    "start_time": "2023-03-17T14:20:58.348Z"
   },
   {
    "duration": 0,
    "start_time": "2023-03-17T14:20:58.349Z"
   },
   {
    "duration": 0,
    "start_time": "2023-03-17T14:20:58.349Z"
   },
   {
    "duration": 0,
    "start_time": "2023-03-17T14:20:58.350Z"
   },
   {
    "duration": 0,
    "start_time": "2023-03-17T14:20:58.351Z"
   },
   {
    "duration": 0,
    "start_time": "2023-03-17T14:20:58.352Z"
   },
   {
    "duration": 0,
    "start_time": "2023-03-17T14:20:58.353Z"
   },
   {
    "duration": 0,
    "start_time": "2023-03-17T14:20:58.354Z"
   },
   {
    "duration": 0,
    "start_time": "2023-03-17T14:20:58.355Z"
   },
   {
    "duration": 0,
    "start_time": "2023-03-17T14:20:58.356Z"
   },
   {
    "duration": 0,
    "start_time": "2023-03-17T14:20:58.357Z"
   },
   {
    "duration": 0,
    "start_time": "2023-03-17T14:20:58.357Z"
   },
   {
    "duration": 0,
    "start_time": "2023-03-17T14:20:58.358Z"
   },
   {
    "duration": 15,
    "start_time": "2023-03-17T14:30:52.410Z"
   },
   {
    "duration": 17,
    "start_time": "2023-03-17T14:30:53.293Z"
   },
   {
    "duration": 99,
    "start_time": "2023-03-17T14:30:59.220Z"
   },
   {
    "duration": 985,
    "start_time": "2023-03-17T14:33:07.789Z"
   },
   {
    "duration": 46,
    "start_time": "2023-03-17T14:33:08.776Z"
   },
   {
    "duration": 17,
    "start_time": "2023-03-17T14:33:08.823Z"
   },
   {
    "duration": 17,
    "start_time": "2023-03-17T14:33:08.842Z"
   },
   {
    "duration": 2,
    "start_time": "2023-03-17T14:33:08.860Z"
   },
   {
    "duration": 18,
    "start_time": "2023-03-17T14:33:08.863Z"
   },
   {
    "duration": 46,
    "start_time": "2023-03-17T14:33:08.882Z"
   },
   {
    "duration": 5,
    "start_time": "2023-03-17T14:33:08.930Z"
   },
   {
    "duration": 5,
    "start_time": "2023-03-17T14:33:08.936Z"
   },
   {
    "duration": 7,
    "start_time": "2023-03-17T14:33:08.943Z"
   },
   {
    "duration": 21,
    "start_time": "2023-03-17T14:33:08.951Z"
   },
   {
    "duration": 17,
    "start_time": "2023-03-17T14:33:08.974Z"
   },
   {
    "duration": 10,
    "start_time": "2023-03-17T14:33:08.992Z"
   },
   {
    "duration": 14,
    "start_time": "2023-03-17T14:33:09.004Z"
   },
   {
    "duration": 6,
    "start_time": "2023-03-17T14:33:09.019Z"
   },
   {
    "duration": 10,
    "start_time": "2023-03-17T14:33:09.027Z"
   },
   {
    "duration": 33,
    "start_time": "2023-03-17T14:33:09.038Z"
   },
   {
    "duration": 12,
    "start_time": "2023-03-17T14:33:09.073Z"
   },
   {
    "duration": 4,
    "start_time": "2023-03-17T14:33:09.087Z"
   },
   {
    "duration": 317,
    "start_time": "2023-03-17T14:33:09.093Z"
   },
   {
    "duration": 272,
    "start_time": "2023-03-17T14:33:09.412Z"
   },
   {
    "duration": 174,
    "start_time": "2023-03-17T14:33:09.686Z"
   },
   {
    "duration": 184,
    "start_time": "2023-03-17T14:33:09.862Z"
   },
   {
    "duration": 172,
    "start_time": "2023-03-17T14:33:10.047Z"
   },
   {
    "duration": 240,
    "start_time": "2023-03-17T14:33:10.220Z"
   },
   {
    "duration": 157,
    "start_time": "2023-03-17T14:33:10.461Z"
   },
   {
    "duration": 152,
    "start_time": "2023-03-17T14:33:10.623Z"
   },
   {
    "duration": 5,
    "start_time": "2023-03-17T14:33:10.778Z"
   },
   {
    "duration": 295,
    "start_time": "2023-03-17T14:33:10.785Z"
   },
   {
    "duration": 126,
    "start_time": "2023-03-17T14:33:11.082Z"
   },
   {
    "duration": 143,
    "start_time": "2023-03-17T14:33:11.209Z"
   },
   {
    "duration": 5,
    "start_time": "2023-03-17T14:33:11.354Z"
   },
   {
    "duration": 16,
    "start_time": "2023-03-17T14:33:11.360Z"
   },
   {
    "duration": 251,
    "start_time": "2023-03-17T14:33:11.377Z"
   },
   {
    "duration": 245,
    "start_time": "2023-03-17T14:33:11.629Z"
   },
   {
    "duration": 217,
    "start_time": "2023-03-17T14:33:11.875Z"
   },
   {
    "duration": 7,
    "start_time": "2023-03-17T14:33:12.093Z"
   },
   {
    "duration": 169,
    "start_time": "2023-03-17T14:33:12.101Z"
   },
   {
    "duration": 8,
    "start_time": "2023-03-17T14:33:12.272Z"
   },
   {
    "duration": 60,
    "start_time": "2023-03-17T14:33:12.281Z"
   },
   {
    "duration": 28,
    "start_time": "2023-03-17T14:33:12.342Z"
   },
   {
    "duration": 250,
    "start_time": "2023-03-17T14:33:12.371Z"
   },
   {
    "duration": 172,
    "start_time": "2023-03-17T14:33:12.624Z"
   },
   {
    "duration": 254,
    "start_time": "2023-03-17T14:33:12.798Z"
   },
   {
    "duration": 287,
    "start_time": "2023-03-17T14:33:13.053Z"
   },
   {
    "duration": 17,
    "start_time": "2023-03-17T14:33:13.342Z"
   },
   {
    "duration": 11,
    "start_time": "2023-03-17T14:33:13.360Z"
   },
   {
    "duration": 298,
    "start_time": "2023-03-17T14:33:13.372Z"
   },
   {
    "duration": 15,
    "start_time": "2023-03-17T14:33:13.672Z"
   },
   {
    "duration": 14,
    "start_time": "2023-03-17T14:33:13.688Z"
   },
   {
    "duration": 92,
    "start_time": "2023-03-17T14:33:13.703Z"
   },
   {
    "duration": 0,
    "start_time": "2023-03-17T14:33:13.797Z"
   },
   {
    "duration": 0,
    "start_time": "2023-03-17T14:33:13.799Z"
   },
   {
    "duration": 0,
    "start_time": "2023-03-17T14:33:13.800Z"
   },
   {
    "duration": 0,
    "start_time": "2023-03-17T14:33:13.801Z"
   },
   {
    "duration": 0,
    "start_time": "2023-03-17T14:33:13.803Z"
   },
   {
    "duration": 0,
    "start_time": "2023-03-17T14:33:13.804Z"
   },
   {
    "duration": 0,
    "start_time": "2023-03-17T14:33:13.805Z"
   },
   {
    "duration": 0,
    "start_time": "2023-03-17T14:33:13.807Z"
   },
   {
    "duration": 0,
    "start_time": "2023-03-17T14:33:13.824Z"
   },
   {
    "duration": 0,
    "start_time": "2023-03-17T14:33:13.825Z"
   },
   {
    "duration": 0,
    "start_time": "2023-03-17T14:33:13.826Z"
   },
   {
    "duration": 0,
    "start_time": "2023-03-17T14:33:13.828Z"
   },
   {
    "duration": 0,
    "start_time": "2023-03-17T14:33:13.829Z"
   },
   {
    "duration": 0,
    "start_time": "2023-03-17T14:33:13.830Z"
   },
   {
    "duration": 0,
    "start_time": "2023-03-17T14:33:13.831Z"
   },
   {
    "duration": 64,
    "start_time": "2023-03-18T16:49:51.828Z"
   },
   {
    "duration": 1384,
    "start_time": "2023-03-18T16:49:58.746Z"
   },
   {
    "duration": 554,
    "start_time": "2023-03-18T16:50:00.132Z"
   },
   {
    "duration": 27,
    "start_time": "2023-03-18T16:50:00.688Z"
   },
   {
    "duration": 53,
    "start_time": "2023-03-18T16:50:00.716Z"
   },
   {
    "duration": 4,
    "start_time": "2023-03-18T16:50:01.740Z"
   },
   {
    "duration": 20,
    "start_time": "2023-03-18T16:50:02.652Z"
   },
   {
    "duration": 60,
    "start_time": "2023-03-18T16:50:03.344Z"
   },
   {
    "duration": 18,
    "start_time": "2023-03-18T16:50:04.384Z"
   },
   {
    "duration": 8,
    "start_time": "2023-03-18T16:50:05.455Z"
   },
   {
    "duration": 9,
    "start_time": "2023-03-18T16:50:05.867Z"
   },
   {
    "duration": 8,
    "start_time": "2023-03-18T16:50:06.350Z"
   },
   {
    "duration": 13,
    "start_time": "2023-03-18T16:50:07.360Z"
   },
   {
    "duration": 7,
    "start_time": "2023-03-18T16:50:08.792Z"
   },
   {
    "duration": 7,
    "start_time": "2023-03-18T16:50:09.236Z"
   },
   {
    "duration": 11,
    "start_time": "2023-03-18T16:50:09.561Z"
   },
   {
    "duration": 6,
    "start_time": "2023-03-18T16:50:09.992Z"
   },
   {
    "duration": 13,
    "start_time": "2023-03-18T16:50:10.432Z"
   },
   {
    "duration": 14,
    "start_time": "2023-03-18T16:50:10.924Z"
   },
   {
    "duration": 5,
    "start_time": "2023-03-18T16:50:11.635Z"
   },
   {
    "duration": 418,
    "start_time": "2023-03-18T16:50:14.235Z"
   },
   {
    "duration": 325,
    "start_time": "2023-03-18T16:50:51.293Z"
   },
   {
    "duration": 370,
    "start_time": "2023-03-18T16:51:24.788Z"
   },
   {
    "duration": 410,
    "start_time": "2023-03-18T16:52:53.279Z"
   },
   {
    "duration": 4,
    "start_time": "2023-03-18T16:58:33.549Z"
   },
   {
    "duration": 49,
    "start_time": "2023-03-18T16:59:05.579Z"
   },
   {
    "duration": 4,
    "start_time": "2023-03-18T16:59:54.167Z"
   },
   {
    "duration": 65,
    "start_time": "2023-03-18T17:00:55.521Z"
   },
   {
    "duration": 545,
    "start_time": "2023-03-18T17:01:12.186Z"
   },
   {
    "duration": 14,
    "start_time": "2023-03-18T17:05:08.874Z"
   },
   {
    "duration": 1354,
    "start_time": "2023-03-18T17:05:22.951Z"
   },
   {
    "duration": 1464,
    "start_time": "2023-03-18T17:06:55.342Z"
   },
   {
    "duration": 11,
    "start_time": "2023-03-18T17:10:37.246Z"
   },
   {
    "duration": 7,
    "start_time": "2023-03-18T17:10:42.446Z"
   },
   {
    "duration": 454,
    "start_time": "2023-03-18T17:10:44.115Z"
   },
   {
    "duration": 155,
    "start_time": "2023-03-18T17:11:50.827Z"
   },
   {
    "duration": 1543,
    "start_time": "2023-03-18T17:12:53.923Z"
   },
   {
    "duration": 290,
    "start_time": "2023-03-18T17:14:26.633Z"
   },
   {
    "duration": 227,
    "start_time": "2023-03-18T17:18:12.083Z"
   },
   {
    "duration": 1611,
    "start_time": "2023-03-18T17:23:16.138Z"
   },
   {
    "duration": 1626,
    "start_time": "2023-03-18T17:23:39.822Z"
   },
   {
    "duration": 1550,
    "start_time": "2023-03-18T17:24:15.057Z"
   },
   {
    "duration": 381,
    "start_time": "2023-03-18T17:24:45.646Z"
   },
   {
    "duration": 1540,
    "start_time": "2023-03-18T17:25:17.255Z"
   },
   {
    "duration": 334,
    "start_time": "2023-03-18T17:25:26.118Z"
   },
   {
    "duration": 1656,
    "start_time": "2023-03-18T17:27:47.353Z"
   },
   {
    "duration": 169,
    "start_time": "2023-03-18T17:29:28.940Z"
   },
   {
    "duration": 7,
    "start_time": "2023-03-18T17:29:40.616Z"
   },
   {
    "duration": 19,
    "start_time": "2023-03-18T17:29:42.188Z"
   },
   {
    "duration": 323,
    "start_time": "2023-03-18T17:29:46.327Z"
   },
   {
    "duration": 321,
    "start_time": "2023-03-18T17:30:51.853Z"
   },
   {
    "duration": 352,
    "start_time": "2023-03-18T17:37:04.152Z"
   },
   {
    "duration": 391,
    "start_time": "2023-03-18T17:37:41.200Z"
   },
   {
    "duration": 304,
    "start_time": "2023-03-18T17:38:09.304Z"
   },
   {
    "duration": 189,
    "start_time": "2023-03-18T17:38:53.537Z"
   },
   {
    "duration": 184,
    "start_time": "2023-03-18T17:39:40.020Z"
   },
   {
    "duration": 214,
    "start_time": "2023-03-18T17:40:28.250Z"
   },
   {
    "duration": 297,
    "start_time": "2023-03-18T17:41:23.897Z"
   },
   {
    "duration": 16,
    "start_time": "2023-03-18T17:41:43.711Z"
   },
   {
    "duration": 218,
    "start_time": "2023-03-18T17:41:53.329Z"
   },
   {
    "duration": 242,
    "start_time": "2023-03-18T17:43:06.213Z"
   },
   {
    "duration": 455,
    "start_time": "2023-03-18T17:45:45.401Z"
   },
   {
    "duration": 358,
    "start_time": "2023-03-18T17:47:22.410Z"
   },
   {
    "duration": 409,
    "start_time": "2023-03-18T17:49:21.819Z"
   },
   {
    "duration": 395,
    "start_time": "2023-03-18T17:50:47.220Z"
   },
   {
    "duration": 349,
    "start_time": "2023-03-18T17:51:02.329Z"
   },
   {
    "duration": 387,
    "start_time": "2023-03-18T17:51:14.905Z"
   },
   {
    "duration": 297,
    "start_time": "2023-03-18T17:51:22.514Z"
   },
   {
    "duration": 419,
    "start_time": "2023-03-18T17:52:46.301Z"
   },
   {
    "duration": 22,
    "start_time": "2023-03-18T17:52:58.561Z"
   },
   {
    "duration": 26,
    "start_time": "2023-03-18T17:53:45.203Z"
   },
   {
    "duration": 18,
    "start_time": "2023-03-18T17:53:56.700Z"
   },
   {
    "duration": 22,
    "start_time": "2023-03-18T17:55:00.295Z"
   },
   {
    "duration": 27,
    "start_time": "2023-03-18T17:55:11.544Z"
   },
   {
    "duration": 25,
    "start_time": "2023-03-18T17:57:01.457Z"
   },
   {
    "duration": 856,
    "start_time": "2023-03-18T17:58:03.901Z"
   },
   {
    "duration": 25,
    "start_time": "2023-03-18T17:58:26.159Z"
   },
   {
    "duration": 20,
    "start_time": "2023-03-18T17:58:38.939Z"
   },
   {
    "duration": 18,
    "start_time": "2023-03-18T18:00:41.003Z"
   },
   {
    "duration": 29,
    "start_time": "2023-03-18T18:01:12.352Z"
   },
   {
    "duration": 27,
    "start_time": "2023-03-18T18:01:13.916Z"
   },
   {
    "duration": 11,
    "start_time": "2023-03-18T18:01:47.488Z"
   },
   {
    "duration": 215,
    "start_time": "2023-03-18T18:02:06.709Z"
   },
   {
    "duration": 921,
    "start_time": "2023-03-18T18:02:52.217Z"
   },
   {
    "duration": 292,
    "start_time": "2023-03-18T18:03:17.689Z"
   },
   {
    "duration": 21,
    "start_time": "2023-03-18T18:04:11.150Z"
   },
   {
    "duration": 792,
    "start_time": "2023-03-18T18:04:15.378Z"
   },
   {
    "duration": 21,
    "start_time": "2023-03-18T18:04:27.168Z"
   },
   {
    "duration": 745,
    "start_time": "2023-03-18T18:04:33.032Z"
   },
   {
    "duration": 203,
    "start_time": "2023-03-18T18:04:38.386Z"
   },
   {
    "duration": 191,
    "start_time": "2023-03-18T18:07:50.613Z"
   },
   {
    "duration": 192,
    "start_time": "2023-03-18T18:08:01.448Z"
   },
   {
    "duration": 141,
    "start_time": "2023-03-18T18:10:08.842Z"
   },
   {
    "duration": 179,
    "start_time": "2023-03-18T18:10:21.044Z"
   },
   {
    "duration": 192,
    "start_time": "2023-03-18T18:12:01.186Z"
   },
   {
    "duration": 20,
    "start_time": "2023-03-18T18:12:52.299Z"
   },
   {
    "duration": 17,
    "start_time": "2023-03-18T18:13:02.519Z"
   },
   {
    "duration": 188,
    "start_time": "2023-03-18T18:13:28.959Z"
   },
   {
    "duration": 800,
    "start_time": "2023-03-18T18:14:38.332Z"
   },
   {
    "duration": 19,
    "start_time": "2023-03-18T18:14:51.957Z"
   },
   {
    "duration": 42,
    "start_time": "2023-03-18T18:16:45.102Z"
   },
   {
    "duration": 19,
    "start_time": "2023-03-18T18:17:06.079Z"
   },
   {
    "duration": 52,
    "start_time": "2023-03-18T18:18:17.506Z"
   },
   {
    "duration": 13,
    "start_time": "2023-03-18T18:18:26.709Z"
   },
   {
    "duration": 21,
    "start_time": "2023-03-18T18:18:42.435Z"
   },
   {
    "duration": 18,
    "start_time": "2023-03-18T18:18:56.366Z"
   },
   {
    "duration": 188,
    "start_time": "2023-03-18T18:19:00.766Z"
   },
   {
    "duration": 19,
    "start_time": "2023-03-18T18:19:05.968Z"
   },
   {
    "duration": 17,
    "start_time": "2023-03-18T18:19:29.506Z"
   },
   {
    "duration": 806,
    "start_time": "2023-03-18T18:20:28.505Z"
   },
   {
    "duration": 194,
    "start_time": "2023-03-18T18:20:44.375Z"
   },
   {
    "duration": 20,
    "start_time": "2023-03-18T18:23:04.504Z"
   },
   {
    "duration": 24,
    "start_time": "2023-03-18T18:23:26.556Z"
   },
   {
    "duration": 22,
    "start_time": "2023-03-18T18:24:34.351Z"
   },
   {
    "duration": 22,
    "start_time": "2023-03-18T18:25:01.812Z"
   },
   {
    "duration": 186,
    "start_time": "2023-03-18T18:26:20.053Z"
   },
   {
    "duration": 23,
    "start_time": "2023-03-18T20:01:43.929Z"
   },
   {
    "duration": 1214,
    "start_time": "2023-03-18T20:03:31.072Z"
   },
   {
    "duration": 63,
    "start_time": "2023-03-18T20:03:32.288Z"
   },
   {
    "duration": 34,
    "start_time": "2023-03-18T20:03:32.354Z"
   },
   {
    "duration": 15,
    "start_time": "2023-03-18T20:03:32.391Z"
   },
   {
    "duration": 3,
    "start_time": "2023-03-18T20:03:32.409Z"
   },
   {
    "duration": 16,
    "start_time": "2023-03-18T20:03:32.414Z"
   },
   {
    "duration": 81,
    "start_time": "2023-03-18T20:03:32.431Z"
   },
   {
    "duration": 7,
    "start_time": "2023-03-18T20:03:32.514Z"
   },
   {
    "duration": 6,
    "start_time": "2023-03-18T20:03:32.522Z"
   },
   {
    "duration": 6,
    "start_time": "2023-03-18T20:03:32.531Z"
   },
   {
    "duration": 25,
    "start_time": "2023-03-18T20:03:32.538Z"
   },
   {
    "duration": 6,
    "start_time": "2023-03-18T20:03:32.565Z"
   },
   {
    "duration": 14,
    "start_time": "2023-03-18T20:03:32.573Z"
   },
   {
    "duration": 15,
    "start_time": "2023-03-18T20:03:32.589Z"
   },
   {
    "duration": 8,
    "start_time": "2023-03-18T20:03:32.605Z"
   },
   {
    "duration": 9,
    "start_time": "2023-03-18T20:03:32.615Z"
   },
   {
    "duration": 38,
    "start_time": "2023-03-18T20:03:32.626Z"
   },
   {
    "duration": 13,
    "start_time": "2023-03-18T20:03:32.666Z"
   },
   {
    "duration": 5,
    "start_time": "2023-03-18T20:03:32.681Z"
   },
   {
    "duration": 385,
    "start_time": "2023-03-18T20:03:32.688Z"
   },
   {
    "duration": 357,
    "start_time": "2023-03-18T20:03:33.074Z"
   },
   {
    "duration": 1541,
    "start_time": "2023-03-18T20:03:33.432Z"
   },
   {
    "duration": 8,
    "start_time": "2023-03-18T20:03:34.975Z"
   },
   {
    "duration": 402,
    "start_time": "2023-03-18T20:03:34.985Z"
   },
   {
    "duration": 329,
    "start_time": "2023-03-18T20:03:35.389Z"
   },
   {
    "duration": 6,
    "start_time": "2023-03-18T20:03:35.721Z"
   },
   {
    "duration": 18,
    "start_time": "2023-03-18T20:03:35.728Z"
   },
   {
    "duration": 311,
    "start_time": "2023-03-18T20:03:35.764Z"
   },
   {
    "duration": 425,
    "start_time": "2023-03-18T20:03:36.077Z"
   },
   {
    "duration": 200,
    "start_time": "2023-03-18T20:03:36.503Z"
   },
   {
    "duration": 8,
    "start_time": "2023-03-18T20:03:36.705Z"
   },
   {
    "duration": 196,
    "start_time": "2023-03-18T20:03:36.715Z"
   },
   {
    "duration": 8,
    "start_time": "2023-03-18T20:03:36.913Z"
   },
   {
    "duration": 14,
    "start_time": "2023-03-18T20:03:36.923Z"
   },
   {
    "duration": 33,
    "start_time": "2023-03-18T20:03:36.939Z"
   },
   {
    "duration": 241,
    "start_time": "2023-03-18T20:03:36.974Z"
   },
   {
    "duration": 237,
    "start_time": "2023-03-18T20:03:37.217Z"
   },
   {
    "duration": 354,
    "start_time": "2023-03-18T20:03:37.456Z"
   },
   {
    "duration": 363,
    "start_time": "2023-03-18T20:03:37.812Z"
   },
   {
    "duration": 21,
    "start_time": "2023-03-18T20:03:38.177Z"
   },
   {
    "duration": 11,
    "start_time": "2023-03-18T20:03:38.200Z"
   },
   {
    "duration": 403,
    "start_time": "2023-03-18T20:03:38.213Z"
   },
   {
    "duration": 18,
    "start_time": "2023-03-18T20:03:38.617Z"
   },
   {
    "duration": 19,
    "start_time": "2023-03-18T20:03:38.636Z"
   },
   {
    "duration": 291,
    "start_time": "2023-03-18T20:03:38.657Z"
   },
   {
    "duration": 29,
    "start_time": "2023-03-18T20:03:38.950Z"
   },
   {
    "duration": 21,
    "start_time": "2023-03-18T20:03:38.980Z"
   },
   {
    "duration": 21,
    "start_time": "2023-03-18T20:03:39.003Z"
   },
   {
    "duration": 227,
    "start_time": "2023-03-18T20:03:39.026Z"
   },
   {
    "duration": 40,
    "start_time": "2023-03-18T20:03:39.254Z"
   },
   {
    "duration": 0,
    "start_time": "2023-03-18T20:03:39.296Z"
   },
   {
    "duration": 0,
    "start_time": "2023-03-18T20:03:39.297Z"
   },
   {
    "duration": 0,
    "start_time": "2023-03-18T20:03:39.298Z"
   },
   {
    "duration": 0,
    "start_time": "2023-03-18T20:03:39.299Z"
   },
   {
    "duration": 0,
    "start_time": "2023-03-18T20:03:39.300Z"
   },
   {
    "duration": 0,
    "start_time": "2023-03-18T20:03:39.301Z"
   },
   {
    "duration": 0,
    "start_time": "2023-03-18T20:03:39.303Z"
   },
   {
    "duration": 0,
    "start_time": "2023-03-18T20:03:39.304Z"
   },
   {
    "duration": 0,
    "start_time": "2023-03-18T20:03:39.306Z"
   },
   {
    "duration": 0,
    "start_time": "2023-03-18T20:03:39.307Z"
   },
   {
    "duration": 0,
    "start_time": "2023-03-18T20:03:39.308Z"
   },
   {
    "duration": 22,
    "start_time": "2023-03-18T20:05:05.811Z"
   },
   {
    "duration": 16,
    "start_time": "2023-03-18T20:05:49.628Z"
   },
   {
    "duration": 21,
    "start_time": "2023-03-18T20:06:53.290Z"
   },
   {
    "duration": 17,
    "start_time": "2023-03-18T20:07:40.790Z"
   },
   {
    "duration": 10,
    "start_time": "2023-03-18T20:08:13.072Z"
   },
   {
    "duration": 6,
    "start_time": "2023-03-18T20:09:13.549Z"
   },
   {
    "duration": 96,
    "start_time": "2023-03-18T20:10:00.801Z"
   },
   {
    "duration": 16,
    "start_time": "2023-03-18T20:10:10.288Z"
   },
   {
    "duration": 10,
    "start_time": "2023-03-18T20:10:32.107Z"
   },
   {
    "duration": 10,
    "start_time": "2023-03-18T20:10:51.372Z"
   },
   {
    "duration": 19,
    "start_time": "2023-03-18T20:11:31.409Z"
   },
   {
    "duration": 15,
    "start_time": "2023-03-18T20:12:04.523Z"
   },
   {
    "duration": 183,
    "start_time": "2023-03-18T20:12:09.053Z"
   },
   {
    "duration": 46,
    "start_time": "2023-03-18T20:56:00.290Z"
   },
   {
    "duration": 165,
    "start_time": "2023-03-18T20:56:13.601Z"
   },
   {
    "duration": 155,
    "start_time": "2023-03-18T20:57:40.984Z"
   },
   {
    "duration": 395,
    "start_time": "2023-03-18T20:58:08.305Z"
   },
   {
    "duration": 6,
    "start_time": "2023-03-18T21:10:27.592Z"
   },
   {
    "duration": 4,
    "start_time": "2023-03-18T21:10:52.094Z"
   },
   {
    "duration": 11,
    "start_time": "2023-03-18T21:11:05.809Z"
   },
   {
    "duration": 423,
    "start_time": "2023-03-18T21:11:36.289Z"
   },
   {
    "duration": 421,
    "start_time": "2023-03-18T21:13:36.500Z"
   },
   {
    "duration": 575,
    "start_time": "2023-03-18T21:14:13.431Z"
   },
   {
    "duration": 472,
    "start_time": "2023-03-18T21:18:33.836Z"
   },
   {
    "duration": 420,
    "start_time": "2023-03-18T21:20:14.509Z"
   },
   {
    "duration": 48,
    "start_time": "2023-03-18T21:22:27.232Z"
   },
   {
    "duration": 468,
    "start_time": "2023-03-18T21:22:37.551Z"
   },
   {
    "duration": 387,
    "start_time": "2023-03-18T21:22:58.465Z"
   },
   {
    "duration": 487,
    "start_time": "2023-03-18T21:23:16.714Z"
   },
   {
    "duration": 182,
    "start_time": "2023-03-18T21:24:21.054Z"
   },
   {
    "duration": 46,
    "start_time": "2023-03-18T21:31:52.741Z"
   },
   {
    "duration": 18,
    "start_time": "2023-03-18T21:32:01.069Z"
   },
   {
    "duration": 27,
    "start_time": "2023-03-18T21:32:07.997Z"
   },
   {
    "duration": 25,
    "start_time": "2023-03-18T21:32:22.502Z"
   },
   {
    "duration": 38,
    "start_time": "2023-03-18T21:33:17.786Z"
   },
   {
    "duration": 50,
    "start_time": "2023-03-18T21:41:42.739Z"
   },
   {
    "duration": 45,
    "start_time": "2023-03-18T21:41:52.194Z"
   },
   {
    "duration": 384,
    "start_time": "2023-03-18T21:42:01.153Z"
   },
   {
    "duration": 168,
    "start_time": "2023-03-18T21:42:21.990Z"
   },
   {
    "duration": 199,
    "start_time": "2023-03-18T21:42:47.528Z"
   },
   {
    "duration": 133,
    "start_time": "2023-03-18T21:43:56.383Z"
   },
   {
    "duration": 562,
    "start_time": "2023-03-18T21:44:13.285Z"
   },
   {
    "duration": 60,
    "start_time": "2023-03-18T21:44:55.115Z"
   },
   {
    "duration": 52,
    "start_time": "2023-03-18T21:45:05.397Z"
   },
   {
    "duration": 136,
    "start_time": "2023-03-18T21:45:16.477Z"
   },
   {
    "duration": 930,
    "start_time": "2023-03-18T21:45:25.209Z"
   },
   {
    "duration": 654,
    "start_time": "2023-03-18T21:45:41.086Z"
   },
   {
    "duration": 565,
    "start_time": "2023-03-18T21:46:19.114Z"
   },
   {
    "duration": 614,
    "start_time": "2023-03-18T21:46:32.180Z"
   },
   {
    "duration": 524,
    "start_time": "2023-03-18T21:47:07.023Z"
   },
   {
    "duration": 570,
    "start_time": "2023-03-18T21:47:45.408Z"
   },
   {
    "duration": 542,
    "start_time": "2023-03-18T21:47:55.450Z"
   },
   {
    "duration": 700,
    "start_time": "2023-03-18T21:48:54.102Z"
   },
   {
    "duration": 519,
    "start_time": "2023-03-18T21:48:59.903Z"
   },
   {
    "duration": 647,
    "start_time": "2023-03-18T21:50:05.880Z"
   },
   {
    "duration": 613,
    "start_time": "2023-03-18T22:18:01.037Z"
   },
   {
    "duration": 22,
    "start_time": "2023-03-18T22:23:26.541Z"
   },
   {
    "duration": 58,
    "start_time": "2023-03-18T22:24:06.114Z"
   },
   {
    "duration": 41,
    "start_time": "2023-03-18T22:24:22.596Z"
   },
   {
    "duration": 567,
    "start_time": "2023-03-18T22:26:23.749Z"
   },
   {
    "duration": 820,
    "start_time": "2023-03-18T22:26:57.295Z"
   },
   {
    "duration": 19,
    "start_time": "2023-03-18T22:37:50.714Z"
   },
   {
    "duration": 30,
    "start_time": "2023-03-18T22:38:01.459Z"
   },
   {
    "duration": 703,
    "start_time": "2023-03-18T22:41:40.013Z"
   },
   {
    "duration": 526,
    "start_time": "2023-03-18T22:43:41.806Z"
   },
   {
    "duration": 186,
    "start_time": "2023-03-18T22:48:08.034Z"
   },
   {
    "duration": 1228,
    "start_time": "2023-03-18T22:58:02.497Z"
   },
   {
    "duration": 62,
    "start_time": "2023-03-18T22:58:03.727Z"
   },
   {
    "duration": 20,
    "start_time": "2023-03-18T22:58:03.791Z"
   },
   {
    "duration": 16,
    "start_time": "2023-03-18T22:58:03.813Z"
   },
   {
    "duration": 4,
    "start_time": "2023-03-18T22:58:03.831Z"
   },
   {
    "duration": 43,
    "start_time": "2023-03-18T22:58:03.836Z"
   },
   {
    "duration": 83,
    "start_time": "2023-03-18T22:58:03.888Z"
   },
   {
    "duration": 11,
    "start_time": "2023-03-18T22:58:03.974Z"
   },
   {
    "duration": 18,
    "start_time": "2023-03-18T22:58:03.987Z"
   },
   {
    "duration": 11,
    "start_time": "2023-03-18T22:58:04.009Z"
   },
   {
    "duration": 13,
    "start_time": "2023-03-18T22:58:04.023Z"
   },
   {
    "duration": 32,
    "start_time": "2023-03-18T22:58:04.038Z"
   },
   {
    "duration": 13,
    "start_time": "2023-03-18T22:58:04.072Z"
   },
   {
    "duration": 11,
    "start_time": "2023-03-18T22:58:04.088Z"
   },
   {
    "duration": 7,
    "start_time": "2023-03-18T22:58:04.102Z"
   },
   {
    "duration": 9,
    "start_time": "2023-03-18T22:58:04.111Z"
   },
   {
    "duration": 59,
    "start_time": "2023-03-18T22:58:04.122Z"
   },
   {
    "duration": 26,
    "start_time": "2023-03-18T22:58:04.187Z"
   },
   {
    "duration": 6,
    "start_time": "2023-03-18T22:58:04.216Z"
   },
   {
    "duration": 474,
    "start_time": "2023-03-18T22:58:04.224Z"
   },
   {
    "duration": 412,
    "start_time": "2023-03-18T22:58:04.700Z"
   },
   {
    "duration": 1710,
    "start_time": "2023-03-18T22:58:05.114Z"
   },
   {
    "duration": 8,
    "start_time": "2023-03-18T22:58:06.827Z"
   },
   {
    "duration": 428,
    "start_time": "2023-03-18T22:58:06.837Z"
   },
   {
    "duration": 347,
    "start_time": "2023-03-18T22:58:07.268Z"
   },
   {
    "duration": 9,
    "start_time": "2023-03-18T22:58:07.618Z"
   },
   {
    "duration": 39,
    "start_time": "2023-03-18T22:58:07.629Z"
   },
   {
    "duration": 342,
    "start_time": "2023-03-18T22:58:07.671Z"
   },
   {
    "duration": 480,
    "start_time": "2023-03-18T22:58:08.015Z"
   },
   {
    "duration": 181,
    "start_time": "2023-03-18T22:58:08.497Z"
   },
   {
    "duration": 10,
    "start_time": "2023-03-18T22:58:08.681Z"
   },
   {
    "duration": 184,
    "start_time": "2023-03-18T22:58:08.693Z"
   },
   {
    "duration": 12,
    "start_time": "2023-03-18T22:58:08.878Z"
   },
   {
    "duration": 17,
    "start_time": "2023-03-18T22:58:08.892Z"
   },
   {
    "duration": 17,
    "start_time": "2023-03-18T22:58:08.912Z"
   },
   {
    "duration": 299,
    "start_time": "2023-03-18T22:58:08.931Z"
   },
   {
    "duration": 261,
    "start_time": "2023-03-18T22:58:09.231Z"
   },
   {
    "duration": 338,
    "start_time": "2023-03-18T22:58:09.493Z"
   },
   {
    "duration": 368,
    "start_time": "2023-03-18T22:58:09.833Z"
   },
   {
    "duration": 21,
    "start_time": "2023-03-18T22:58:10.203Z"
   },
   {
    "duration": 42,
    "start_time": "2023-03-18T22:58:10.225Z"
   },
   {
    "duration": 470,
    "start_time": "2023-03-18T22:58:10.270Z"
   },
   {
    "duration": 708,
    "start_time": "2023-03-18T22:58:10.741Z"
   },
   {
    "duration": 559,
    "start_time": "2023-03-18T22:58:11.450Z"
   },
   {
    "duration": 198,
    "start_time": "2023-03-18T22:58:12.011Z"
   },
   {
    "duration": 9,
    "start_time": "2023-03-18T22:58:12.211Z"
   },
   {
    "duration": 11,
    "start_time": "2023-03-18T22:58:12.222Z"
   },
   {
    "duration": 5,
    "start_time": "2023-03-18T22:58:12.235Z"
   },
   {
    "duration": 17,
    "start_time": "2023-03-18T22:58:12.263Z"
   },
   {
    "duration": 17,
    "start_time": "2023-03-18T22:58:12.283Z"
   },
   {
    "duration": 5,
    "start_time": "2023-03-18T22:58:12.303Z"
   },
   {
    "duration": 3,
    "start_time": "2023-03-18T22:58:54.605Z"
   },
   {
    "duration": 47,
    "start_time": "2023-03-18T22:58:55.014Z"
   },
   {
    "duration": 17,
    "start_time": "2023-03-18T22:58:55.695Z"
   },
   {
    "duration": 23,
    "start_time": "2023-03-18T22:58:56.265Z"
   },
   {
    "duration": 4,
    "start_time": "2023-03-18T22:58:58.534Z"
   },
   {
    "duration": 11,
    "start_time": "2023-03-18T22:58:59.686Z"
   },
   {
    "duration": 17,
    "start_time": "2023-03-18T22:58:59.983Z"
   },
   {
    "duration": 7,
    "start_time": "2023-03-18T22:59:00.433Z"
   },
   {
    "duration": 6,
    "start_time": "2023-03-18T22:59:01.239Z"
   },
   {
    "duration": 6,
    "start_time": "2023-03-18T22:59:01.583Z"
   },
   {
    "duration": 8,
    "start_time": "2023-03-18T22:59:02.039Z"
   },
   {
    "duration": 7,
    "start_time": "2023-03-18T22:59:03.455Z"
   },
   {
    "duration": 11,
    "start_time": "2023-03-18T22:59:13.537Z"
   },
   {
    "duration": 10,
    "start_time": "2023-03-18T22:59:14.034Z"
   },
   {
    "duration": 6,
    "start_time": "2023-03-18T22:59:14.514Z"
   },
   {
    "duration": 8,
    "start_time": "2023-03-18T22:59:15.072Z"
   },
   {
    "duration": 17,
    "start_time": "2023-03-18T22:59:15.383Z"
   },
   {
    "duration": 16,
    "start_time": "2023-03-18T22:59:15.881Z"
   },
   {
    "duration": 5,
    "start_time": "2023-03-18T22:59:16.297Z"
   },
   {
    "duration": 405,
    "start_time": "2023-03-18T22:59:18.961Z"
   },
   {
    "duration": 67,
    "start_time": "2023-03-18T22:59:49.444Z"
   },
   {
    "duration": 45,
    "start_time": "2023-03-18T23:01:14.250Z"
   },
   {
    "duration": 62,
    "start_time": "2023-03-18T23:01:19.122Z"
   },
   {
    "duration": 42,
    "start_time": "2023-03-18T23:01:57.457Z"
   },
   {
    "duration": 44,
    "start_time": "2023-03-18T23:02:19.801Z"
   },
   {
    "duration": 59,
    "start_time": "2023-03-18T23:02:26.889Z"
   },
   {
    "duration": 1160,
    "start_time": "2023-03-18T23:02:40.920Z"
   },
   {
    "duration": 53,
    "start_time": "2023-03-18T23:02:42.082Z"
   },
   {
    "duration": 20,
    "start_time": "2023-03-18T23:02:42.136Z"
   },
   {
    "duration": 23,
    "start_time": "2023-03-18T23:02:42.157Z"
   },
   {
    "duration": 4,
    "start_time": "2023-03-18T23:02:42.183Z"
   },
   {
    "duration": 11,
    "start_time": "2023-03-18T23:02:42.189Z"
   },
   {
    "duration": 69,
    "start_time": "2023-03-18T23:02:42.202Z"
   },
   {
    "duration": 10,
    "start_time": "2023-03-18T23:02:42.273Z"
   },
   {
    "duration": 5,
    "start_time": "2023-03-18T23:02:42.286Z"
   },
   {
    "duration": 5,
    "start_time": "2023-03-18T23:02:42.294Z"
   },
   {
    "duration": 7,
    "start_time": "2023-03-18T23:02:42.300Z"
   },
   {
    "duration": 6,
    "start_time": "2023-03-18T23:02:42.309Z"
   },
   {
    "duration": 47,
    "start_time": "2023-03-18T23:02:42.316Z"
   },
   {
    "duration": 11,
    "start_time": "2023-03-18T23:02:42.366Z"
   },
   {
    "duration": 7,
    "start_time": "2023-03-18T23:02:42.379Z"
   },
   {
    "duration": 5,
    "start_time": "2023-03-18T23:02:42.388Z"
   },
   {
    "duration": 19,
    "start_time": "2023-03-18T23:02:42.395Z"
   },
   {
    "duration": 14,
    "start_time": "2023-03-18T23:02:42.416Z"
   },
   {
    "duration": 34,
    "start_time": "2023-03-18T23:02:42.432Z"
   },
   {
    "duration": 445,
    "start_time": "2023-03-18T23:02:42.469Z"
   },
   {
    "duration": 362,
    "start_time": "2023-03-18T23:02:42.916Z"
   },
   {
    "duration": 1647,
    "start_time": "2023-03-18T23:02:43.280Z"
   },
   {
    "duration": 49,
    "start_time": "2023-03-18T23:02:44.928Z"
   },
   {
    "duration": 0,
    "start_time": "2023-03-18T23:02:44.980Z"
   },
   {
    "duration": 0,
    "start_time": "2023-03-18T23:02:44.983Z"
   },
   {
    "duration": 0,
    "start_time": "2023-03-18T23:02:44.984Z"
   },
   {
    "duration": 0,
    "start_time": "2023-03-18T23:02:44.986Z"
   },
   {
    "duration": 0,
    "start_time": "2023-03-18T23:02:44.987Z"
   },
   {
    "duration": 0,
    "start_time": "2023-03-18T23:02:44.989Z"
   },
   {
    "duration": 0,
    "start_time": "2023-03-18T23:02:44.990Z"
   },
   {
    "duration": 0,
    "start_time": "2023-03-18T23:02:44.992Z"
   },
   {
    "duration": 0,
    "start_time": "2023-03-18T23:02:44.993Z"
   },
   {
    "duration": 0,
    "start_time": "2023-03-18T23:02:44.994Z"
   },
   {
    "duration": 0,
    "start_time": "2023-03-18T23:02:44.995Z"
   },
   {
    "duration": 0,
    "start_time": "2023-03-18T23:02:44.997Z"
   },
   {
    "duration": 0,
    "start_time": "2023-03-18T23:02:44.998Z"
   },
   {
    "duration": 0,
    "start_time": "2023-03-18T23:02:44.999Z"
   },
   {
    "duration": 0,
    "start_time": "2023-03-18T23:02:45.000Z"
   },
   {
    "duration": 0,
    "start_time": "2023-03-18T23:02:45.001Z"
   },
   {
    "duration": 0,
    "start_time": "2023-03-18T23:02:45.002Z"
   },
   {
    "duration": 0,
    "start_time": "2023-03-18T23:02:45.004Z"
   },
   {
    "duration": 0,
    "start_time": "2023-03-18T23:02:45.005Z"
   },
   {
    "duration": 0,
    "start_time": "2023-03-18T23:02:45.006Z"
   },
   {
    "duration": 0,
    "start_time": "2023-03-18T23:02:45.007Z"
   },
   {
    "duration": 0,
    "start_time": "2023-03-18T23:02:45.008Z"
   },
   {
    "duration": 0,
    "start_time": "2023-03-18T23:02:45.009Z"
   },
   {
    "duration": 0,
    "start_time": "2023-03-18T23:02:45.011Z"
   },
   {
    "duration": 0,
    "start_time": "2023-03-18T23:02:45.012Z"
   },
   {
    "duration": 0,
    "start_time": "2023-03-18T23:02:45.013Z"
   },
   {
    "duration": 0,
    "start_time": "2023-03-18T23:02:45.014Z"
   },
   {
    "duration": 0,
    "start_time": "2023-03-18T23:02:45.015Z"
   },
   {
    "duration": 0,
    "start_time": "2023-03-18T23:02:45.016Z"
   },
   {
    "duration": 44,
    "start_time": "2023-03-18T23:04:01.727Z"
   },
   {
    "duration": 52,
    "start_time": "2023-03-18T23:04:21.633Z"
   },
   {
    "duration": 46,
    "start_time": "2023-03-18T23:04:45.436Z"
   },
   {
    "duration": 43,
    "start_time": "2023-03-18T23:04:52.043Z"
   },
   {
    "duration": 105,
    "start_time": "2023-03-18T23:05:55.721Z"
   },
   {
    "duration": 1405,
    "start_time": "2023-03-18T23:06:09.307Z"
   },
   {
    "duration": 6,
    "start_time": "2023-03-18T23:06:15.543Z"
   },
   {
    "duration": 491,
    "start_time": "2023-03-18T23:06:16.115Z"
   },
   {
    "duration": 299,
    "start_time": "2023-03-18T23:06:19.321Z"
   },
   {
    "duration": 6,
    "start_time": "2023-03-18T23:06:24.806Z"
   },
   {
    "duration": 22,
    "start_time": "2023-03-18T23:06:25.755Z"
   },
   {
    "duration": 308,
    "start_time": "2023-03-18T23:06:27.513Z"
   },
   {
    "duration": 354,
    "start_time": "2023-03-18T23:06:28.956Z"
   },
   {
    "duration": 178,
    "start_time": "2023-03-18T23:06:31.419Z"
   },
   {
    "duration": 8,
    "start_time": "2023-03-18T23:06:32.914Z"
   },
   {
    "duration": 191,
    "start_time": "2023-03-18T23:06:33.515Z"
   },
   {
    "duration": 10,
    "start_time": "2023-03-18T23:06:34.002Z"
   },
   {
    "duration": 11,
    "start_time": "2023-03-18T23:06:34.588Z"
   },
   {
    "duration": 11,
    "start_time": "2023-03-18T23:06:35.099Z"
   },
   {
    "duration": 197,
    "start_time": "2023-03-18T23:06:37.212Z"
   },
   {
    "duration": 308,
    "start_time": "2023-03-18T23:06:39.899Z"
   },
   {
    "duration": 313,
    "start_time": "2023-03-18T23:06:42.036Z"
   },
   {
    "duration": 314,
    "start_time": "2023-03-18T23:06:44.131Z"
   },
   {
    "duration": 22,
    "start_time": "2023-03-18T23:06:44.740Z"
   },
   {
    "duration": 10,
    "start_time": "2023-03-18T23:06:45.807Z"
   },
   {
    "duration": 415,
    "start_time": "2023-03-18T23:06:47.821Z"
   },
   {
    "duration": 483,
    "start_time": "2023-03-18T23:06:51.341Z"
   },
   {
    "duration": 485,
    "start_time": "2023-03-18T23:06:58.757Z"
   },
   {
    "duration": 257,
    "start_time": "2023-03-18T23:07:17.414Z"
   },
   {
    "duration": 5,
    "start_time": "2023-03-18T23:08:16.251Z"
   },
   {
    "duration": 404,
    "start_time": "2023-03-18T23:08:16.619Z"
   },
   {
    "duration": 295,
    "start_time": "2023-03-18T23:08:17.818Z"
   },
   {
    "duration": 8,
    "start_time": "2023-03-18T23:08:20.111Z"
   },
   {
    "duration": 20,
    "start_time": "2023-03-18T23:08:21.251Z"
   },
   {
    "duration": 319,
    "start_time": "2023-03-18T23:08:23.612Z"
   },
   {
    "duration": 324,
    "start_time": "2023-03-18T23:08:24.311Z"
   },
   {
    "duration": 175,
    "start_time": "2023-03-18T23:08:27.131Z"
   },
   {
    "duration": 9,
    "start_time": "2023-03-18T23:08:28.207Z"
   },
   {
    "duration": 178,
    "start_time": "2023-03-18T23:08:28.811Z"
   },
   {
    "duration": 9,
    "start_time": "2023-03-18T23:08:29.586Z"
   },
   {
    "duration": 12,
    "start_time": "2023-03-18T23:08:30.286Z"
   },
   {
    "duration": 12,
    "start_time": "2023-03-18T23:08:31.036Z"
   },
   {
    "duration": 333,
    "start_time": "2023-03-18T23:08:33.524Z"
   },
   {
    "duration": 225,
    "start_time": "2023-03-18T23:08:36.125Z"
   },
   {
    "duration": 298,
    "start_time": "2023-03-18T23:08:41.925Z"
   },
   {
    "duration": 361,
    "start_time": "2023-03-18T23:08:42.564Z"
   },
   {
    "duration": 25,
    "start_time": "2023-03-18T23:08:43.703Z"
   },
   {
    "duration": 10,
    "start_time": "2023-03-18T23:08:49.499Z"
   },
   {
    "duration": 377,
    "start_time": "2023-03-18T23:08:56.351Z"
   },
   {
    "duration": 541,
    "start_time": "2023-03-18T23:09:01.060Z"
   },
   {
    "duration": 678,
    "start_time": "2023-03-18T23:09:06.664Z"
   },
   {
    "duration": 182,
    "start_time": "2023-03-18T23:09:38.403Z"
   },
   {
    "duration": 177,
    "start_time": "2023-03-18T23:11:50.108Z"
   },
   {
    "duration": 9,
    "start_time": "2023-03-18T23:14:09.455Z"
   },
   {
    "duration": 9,
    "start_time": "2023-03-18T23:14:11.871Z"
   },
   {
    "duration": 5,
    "start_time": "2023-03-18T23:14:12.664Z"
   },
   {
    "duration": 9,
    "start_time": "2023-03-18T23:14:14.471Z"
   },
   {
    "duration": 9,
    "start_time": "2023-03-18T23:14:15.017Z"
   },
   {
    "duration": 5,
    "start_time": "2023-03-18T23:14:15.703Z"
   },
   {
    "duration": 479,
    "start_time": "2023-03-18T23:15:23.108Z"
   },
   {
    "duration": 505,
    "start_time": "2023-03-18T23:15:24.853Z"
   },
   {
    "duration": 173,
    "start_time": "2023-03-18T23:15:37.515Z"
   },
   {
    "duration": 10,
    "start_time": "2023-03-18T23:15:41.046Z"
   },
   {
    "duration": 9,
    "start_time": "2023-03-18T23:15:41.607Z"
   },
   {
    "duration": 5,
    "start_time": "2023-03-18T23:15:42.119Z"
   },
   {
    "duration": 12,
    "start_time": "2023-03-18T23:15:43.926Z"
   },
   {
    "duration": 9,
    "start_time": "2023-03-18T23:15:44.455Z"
   },
   {
    "duration": 5,
    "start_time": "2023-03-18T23:15:45.033Z"
   },
   {
    "duration": 1132,
    "start_time": "2023-03-18T23:16:17.851Z"
   },
   {
    "duration": 56,
    "start_time": "2023-03-18T23:16:18.985Z"
   },
   {
    "duration": 21,
    "start_time": "2023-03-18T23:16:19.043Z"
   },
   {
    "duration": 16,
    "start_time": "2023-03-18T23:16:19.067Z"
   },
   {
    "duration": 3,
    "start_time": "2023-03-18T23:16:19.085Z"
   },
   {
    "duration": 19,
    "start_time": "2023-03-18T23:16:19.090Z"
   },
   {
    "duration": 55,
    "start_time": "2023-03-18T23:16:19.111Z"
   },
   {
    "duration": 6,
    "start_time": "2023-03-18T23:16:19.168Z"
   },
   {
    "duration": 6,
    "start_time": "2023-03-18T23:16:19.176Z"
   },
   {
    "duration": 5,
    "start_time": "2023-03-18T23:16:19.184Z"
   },
   {
    "duration": 8,
    "start_time": "2023-03-18T23:16:19.191Z"
   },
   {
    "duration": 5,
    "start_time": "2023-03-18T23:16:19.200Z"
   },
   {
    "duration": 10,
    "start_time": "2023-03-18T23:16:19.207Z"
   },
   {
    "duration": 12,
    "start_time": "2023-03-18T23:16:19.218Z"
   },
   {
    "duration": 5,
    "start_time": "2023-03-18T23:16:19.261Z"
   },
   {
    "duration": 7,
    "start_time": "2023-03-18T23:16:19.268Z"
   },
   {
    "duration": 19,
    "start_time": "2023-03-18T23:16:19.276Z"
   },
   {
    "duration": 13,
    "start_time": "2023-03-18T23:16:19.297Z"
   },
   {
    "duration": 4,
    "start_time": "2023-03-18T23:16:19.312Z"
   },
   {
    "duration": 396,
    "start_time": "2023-03-18T23:16:19.317Z"
   },
   {
    "duration": 326,
    "start_time": "2023-03-18T23:16:19.714Z"
   },
   {
    "duration": 1418,
    "start_time": "2023-03-18T23:16:20.042Z"
   },
   {
    "duration": 6,
    "start_time": "2023-03-18T23:16:21.462Z"
   },
   {
    "duration": 371,
    "start_time": "2023-03-18T23:16:21.470Z"
   },
   {
    "duration": 308,
    "start_time": "2023-03-18T23:16:21.843Z"
   },
   {
    "duration": 12,
    "start_time": "2023-03-18T23:16:22.153Z"
   },
   {
    "duration": 21,
    "start_time": "2023-03-18T23:16:22.166Z"
   },
   {
    "duration": 323,
    "start_time": "2023-03-18T23:16:22.190Z"
   },
   {
    "duration": 416,
    "start_time": "2023-03-18T23:16:22.515Z"
   },
   {
    "duration": 186,
    "start_time": "2023-03-18T23:16:22.932Z"
   },
   {
    "duration": 9,
    "start_time": "2023-03-18T23:16:23.120Z"
   },
   {
    "duration": 208,
    "start_time": "2023-03-18T23:16:23.131Z"
   },
   {
    "duration": 8,
    "start_time": "2023-03-18T23:16:23.341Z"
   },
   {
    "duration": 18,
    "start_time": "2023-03-18T23:16:23.351Z"
   },
   {
    "duration": 11,
    "start_time": "2023-03-18T23:16:23.371Z"
   },
   {
    "duration": 243,
    "start_time": "2023-03-18T23:16:23.383Z"
   },
   {
    "duration": 201,
    "start_time": "2023-03-18T23:16:23.627Z"
   },
   {
    "duration": 367,
    "start_time": "2023-03-18T23:16:23.830Z"
   },
   {
    "duration": 328,
    "start_time": "2023-03-18T23:16:24.199Z"
   },
   {
    "duration": 21,
    "start_time": "2023-03-18T23:16:24.528Z"
   },
   {
    "duration": 10,
    "start_time": "2023-03-18T23:16:24.562Z"
   },
   {
    "duration": 366,
    "start_time": "2023-03-18T23:16:24.574Z"
   },
   {
    "duration": 610,
    "start_time": "2023-03-18T23:16:24.941Z"
   },
   {
    "duration": 467,
    "start_time": "2023-03-18T23:16:25.553Z"
   },
   {
    "duration": 190,
    "start_time": "2023-03-18T23:16:26.021Z"
   },
   {
    "duration": 9,
    "start_time": "2023-03-18T23:16:26.212Z"
   },
   {
    "duration": 18,
    "start_time": "2023-03-18T23:16:26.223Z"
   },
   {
    "duration": 5,
    "start_time": "2023-03-18T23:16:26.243Z"
   },
   {
    "duration": 19,
    "start_time": "2023-03-18T23:16:26.249Z"
   },
   {
    "duration": 14,
    "start_time": "2023-03-18T23:16:26.269Z"
   },
   {
    "duration": 9,
    "start_time": "2023-03-18T23:16:26.284Z"
   },
   {
    "duration": 457,
    "start_time": "2023-03-18T23:19:03.288Z"
   },
   {
    "duration": 170,
    "start_time": "2023-03-18T23:19:07.511Z"
   },
   {
    "duration": 8,
    "start_time": "2023-03-18T23:19:09.736Z"
   },
   {
    "duration": 9,
    "start_time": "2023-03-18T23:19:10.120Z"
   },
   {
    "duration": 5,
    "start_time": "2023-03-18T23:19:10.600Z"
   },
   {
    "duration": 9,
    "start_time": "2023-03-18T23:19:12.024Z"
   },
   {
    "duration": 9,
    "start_time": "2023-03-18T23:19:12.248Z"
   },
   {
    "duration": 5,
    "start_time": "2023-03-18T23:19:12.571Z"
   },
   {
    "duration": 1538,
    "start_time": "2023-03-19T05:59:11.465Z"
   },
   {
    "duration": 169,
    "start_time": "2023-03-19T05:59:13.006Z"
   },
   {
    "duration": 22,
    "start_time": "2023-03-19T05:59:13.176Z"
   },
   {
    "duration": 22,
    "start_time": "2023-03-19T05:59:13.201Z"
   },
   {
    "duration": 4,
    "start_time": "2023-03-19T05:59:13.225Z"
   },
   {
    "duration": 38,
    "start_time": "2023-03-19T05:59:13.231Z"
   },
   {
    "duration": 87,
    "start_time": "2023-03-19T05:59:13.272Z"
   },
   {
    "duration": 15,
    "start_time": "2023-03-19T05:59:13.361Z"
   },
   {
    "duration": 20,
    "start_time": "2023-03-19T05:59:13.380Z"
   },
   {
    "duration": 10,
    "start_time": "2023-03-19T05:59:13.403Z"
   },
   {
    "duration": 7,
    "start_time": "2023-03-19T05:59:13.414Z"
   },
   {
    "duration": 18,
    "start_time": "2023-03-19T05:59:13.423Z"
   },
   {
    "duration": 40,
    "start_time": "2023-03-19T05:59:13.443Z"
   },
   {
    "duration": 10,
    "start_time": "2023-03-19T05:59:13.485Z"
   },
   {
    "duration": 12,
    "start_time": "2023-03-19T05:59:13.497Z"
   },
   {
    "duration": 16,
    "start_time": "2023-03-19T05:59:13.510Z"
   },
   {
    "duration": 61,
    "start_time": "2023-03-19T05:59:13.528Z"
   },
   {
    "duration": 17,
    "start_time": "2023-03-19T05:59:13.591Z"
   },
   {
    "duration": 5,
    "start_time": "2023-03-19T05:59:13.609Z"
   },
   {
    "duration": 496,
    "start_time": "2023-03-19T05:59:13.615Z"
   },
   {
    "duration": 405,
    "start_time": "2023-03-19T05:59:14.113Z"
   },
   {
    "duration": 1693,
    "start_time": "2023-03-19T05:59:14.520Z"
   },
   {
    "duration": 7,
    "start_time": "2023-03-19T05:59:16.214Z"
   },
   {
    "duration": 470,
    "start_time": "2023-03-19T05:59:16.223Z"
   },
   {
    "duration": 428,
    "start_time": "2023-03-19T05:59:16.695Z"
   },
   {
    "duration": 11,
    "start_time": "2023-03-19T05:59:17.125Z"
   },
   {
    "duration": 80,
    "start_time": "2023-03-19T05:59:17.138Z"
   },
   {
    "duration": 382,
    "start_time": "2023-03-19T05:59:17.222Z"
   },
   {
    "duration": 477,
    "start_time": "2023-03-19T05:59:17.606Z"
   },
   {
    "duration": 213,
    "start_time": "2023-03-19T05:59:18.087Z"
   },
   {
    "duration": 9,
    "start_time": "2023-03-19T05:59:18.302Z"
   },
   {
    "duration": 224,
    "start_time": "2023-03-19T05:59:18.313Z"
   },
   {
    "duration": 9,
    "start_time": "2023-03-19T05:59:18.539Z"
   },
   {
    "duration": 43,
    "start_time": "2023-03-19T05:59:18.550Z"
   },
   {
    "duration": 13,
    "start_time": "2023-03-19T05:59:18.595Z"
   },
   {
    "duration": 279,
    "start_time": "2023-03-19T05:59:18.609Z"
   },
   {
    "duration": 249,
    "start_time": "2023-03-19T05:59:18.890Z"
   },
   {
    "duration": 386,
    "start_time": "2023-03-19T05:59:19.141Z"
   },
   {
    "duration": 393,
    "start_time": "2023-03-19T05:59:19.529Z"
   },
   {
    "duration": 30,
    "start_time": "2023-03-19T05:59:19.925Z"
   },
   {
    "duration": 36,
    "start_time": "2023-03-19T05:59:19.957Z"
   },
   {
    "duration": 482,
    "start_time": "2023-03-19T05:59:19.995Z"
   },
   {
    "duration": 712,
    "start_time": "2023-03-19T05:59:20.479Z"
   },
   {
    "duration": 650,
    "start_time": "2023-03-19T05:59:21.194Z"
   },
   {
    "duration": 250,
    "start_time": "2023-03-19T05:59:21.846Z"
   },
   {
    "duration": 10,
    "start_time": "2023-03-19T05:59:22.098Z"
   },
   {
    "duration": 102,
    "start_time": "2023-03-19T05:59:22.110Z"
   },
   {
    "duration": 14,
    "start_time": "2023-03-19T05:59:22.215Z"
   },
   {
    "duration": 29,
    "start_time": "2023-03-19T05:59:22.231Z"
   },
   {
    "duration": 52,
    "start_time": "2023-03-19T05:59:22.262Z"
   },
   {
    "duration": 6,
    "start_time": "2023-03-19T05:59:22.316Z"
   },
   {
    "duration": 1449,
    "start_time": "2023-03-19T06:07:05.332Z"
   },
   {
    "duration": 70,
    "start_time": "2023-03-19T06:07:06.786Z"
   },
   {
    "duration": 33,
    "start_time": "2023-03-19T06:07:06.858Z"
   },
   {
    "duration": 29,
    "start_time": "2023-03-19T06:07:06.895Z"
   },
   {
    "duration": 53,
    "start_time": "2023-03-19T06:07:06.927Z"
   },
   {
    "duration": 42,
    "start_time": "2023-03-19T06:07:06.983Z"
   },
   {
    "duration": 124,
    "start_time": "2023-03-19T06:07:07.028Z"
   },
   {
    "duration": 28,
    "start_time": "2023-03-19T06:07:07.154Z"
   },
   {
    "duration": 17,
    "start_time": "2023-03-19T06:07:07.184Z"
   },
   {
    "duration": 49,
    "start_time": "2023-03-19T06:07:07.203Z"
   },
   {
    "duration": 36,
    "start_time": "2023-03-19T06:07:07.257Z"
   },
   {
    "duration": 29,
    "start_time": "2023-03-19T06:07:07.295Z"
   },
   {
    "duration": 68,
    "start_time": "2023-03-19T06:07:07.326Z"
   },
   {
    "duration": 21,
    "start_time": "2023-03-19T06:07:07.397Z"
   },
   {
    "duration": 59,
    "start_time": "2023-03-19T06:07:07.419Z"
   },
   {
    "duration": 14,
    "start_time": "2023-03-19T06:07:07.480Z"
   },
   {
    "duration": 46,
    "start_time": "2023-03-19T06:07:07.495Z"
   },
   {
    "duration": 55,
    "start_time": "2023-03-19T06:07:07.547Z"
   },
   {
    "duration": 10,
    "start_time": "2023-03-19T06:07:07.604Z"
   },
   {
    "duration": 542,
    "start_time": "2023-03-19T06:07:07.616Z"
   },
   {
    "duration": 405,
    "start_time": "2023-03-19T06:07:08.162Z"
   },
   {
    "duration": 1676,
    "start_time": "2023-03-19T06:07:08.571Z"
   },
   {
    "duration": 8,
    "start_time": "2023-03-19T06:07:10.252Z"
   },
   {
    "duration": 435,
    "start_time": "2023-03-19T06:07:10.262Z"
   },
   {
    "duration": 400,
    "start_time": "2023-03-19T06:07:10.699Z"
   },
   {
    "duration": 7,
    "start_time": "2023-03-19T06:07:11.101Z"
   },
   {
    "duration": 30,
    "start_time": "2023-03-19T06:07:11.110Z"
   },
   {
    "duration": 431,
    "start_time": "2023-03-19T06:07:11.145Z"
   },
   {
    "duration": 441,
    "start_time": "2023-03-19T06:07:11.580Z"
   },
   {
    "duration": 278,
    "start_time": "2023-03-19T06:07:12.023Z"
   },
   {
    "duration": 8,
    "start_time": "2023-03-19T06:07:12.303Z"
   },
   {
    "duration": 210,
    "start_time": "2023-03-19T06:07:12.313Z"
   },
   {
    "duration": 10,
    "start_time": "2023-03-19T06:07:12.525Z"
   },
   {
    "duration": 70,
    "start_time": "2023-03-19T06:07:12.536Z"
   },
   {
    "duration": 11,
    "start_time": "2023-03-19T06:07:12.608Z"
   },
   {
    "duration": 294,
    "start_time": "2023-03-19T06:07:12.621Z"
   },
   {
    "duration": 299,
    "start_time": "2023-03-19T06:07:12.918Z"
   },
   {
    "duration": 413,
    "start_time": "2023-03-19T06:07:13.219Z"
   },
   {
    "duration": 392,
    "start_time": "2023-03-19T06:07:13.636Z"
   },
   {
    "duration": 44,
    "start_time": "2023-03-19T06:07:14.033Z"
   },
   {
    "duration": 42,
    "start_time": "2023-03-19T06:07:14.094Z"
   },
   {
    "duration": 519,
    "start_time": "2023-03-19T06:07:14.138Z"
   },
   {
    "duration": 689,
    "start_time": "2023-03-19T06:07:14.670Z"
   },
   {
    "duration": 573,
    "start_time": "2023-03-19T06:07:15.363Z"
   },
   {
    "duration": 241,
    "start_time": "2023-03-19T06:07:15.937Z"
   },
   {
    "duration": 10,
    "start_time": "2023-03-19T06:07:16.182Z"
   },
   {
    "duration": 9,
    "start_time": "2023-03-19T06:07:16.194Z"
   },
   {
    "duration": 19,
    "start_time": "2023-03-19T06:07:16.205Z"
   },
   {
    "duration": 40,
    "start_time": "2023-03-19T06:07:16.242Z"
   },
   {
    "duration": 14,
    "start_time": "2023-03-19T06:07:16.284Z"
   },
   {
    "duration": 11,
    "start_time": "2023-03-19T06:07:16.300Z"
   },
   {
    "duration": 1294,
    "start_time": "2023-09-12T09:06:06.640Z"
   },
   {
    "duration": 181,
    "start_time": "2023-09-12T09:06:08.576Z"
   },
   {
    "duration": 17,
    "start_time": "2023-09-12T09:06:10.370Z"
   },
   {
    "duration": 14,
    "start_time": "2023-09-12T09:06:11.070Z"
   },
   {
    "duration": 3,
    "start_time": "2023-09-12T09:06:25.273Z"
   },
   {
    "duration": 10,
    "start_time": "2023-09-12T09:06:30.856Z"
   },
   {
    "duration": 49,
    "start_time": "2023-09-12T09:06:35.488Z"
   },
   {
    "duration": 7,
    "start_time": "2023-09-12T09:06:47.192Z"
   },
   {
    "duration": 5,
    "start_time": "2023-09-12T09:06:48.969Z"
   },
   {
    "duration": 5,
    "start_time": "2023-09-12T09:06:59.038Z"
   },
   {
    "duration": 5,
    "start_time": "2023-09-12T09:06:59.801Z"
   },
   {
    "duration": 4,
    "start_time": "2023-09-12T09:07:15.726Z"
   },
   {
    "duration": 7,
    "start_time": "2023-09-12T09:07:53.495Z"
   },
   {
    "duration": 7,
    "start_time": "2023-09-12T09:07:54.752Z"
   },
   {
    "duration": 5,
    "start_time": "2023-09-12T09:08:03.304Z"
   },
   {
    "duration": 5,
    "start_time": "2023-09-12T09:08:06.872Z"
   },
   {
    "duration": 12,
    "start_time": "2023-09-12T09:08:07.536Z"
   },
   {
    "duration": 13,
    "start_time": "2023-09-12T09:08:08.304Z"
   },
   {
    "duration": 95,
    "start_time": "2023-09-12T09:08:52.671Z"
   },
   {
    "duration": 5,
    "start_time": "2023-09-12T09:08:58.375Z"
   },
   {
    "duration": 363,
    "start_time": "2023-09-12T09:09:00.848Z"
   },
   {
    "duration": 302,
    "start_time": "2023-09-12T09:09:27.790Z"
   },
   {
    "duration": 1287,
    "start_time": "2023-09-12T09:09:54.375Z"
   },
   {
    "duration": 6,
    "start_time": "2023-09-12T09:10:27.872Z"
   },
   {
    "duration": 358,
    "start_time": "2023-09-12T09:10:30.455Z"
   },
   {
    "duration": 311,
    "start_time": "2023-09-12T09:10:40.542Z"
   },
   {
    "duration": 6,
    "start_time": "2023-09-12T09:10:56.213Z"
   },
   {
    "duration": 16,
    "start_time": "2023-09-12T09:11:02.471Z"
   },
   {
    "duration": 15,
    "start_time": "2023-09-12T09:11:25.895Z"
   },
   {
    "duration": 263,
    "start_time": "2023-09-12T09:11:41.759Z"
   },
   {
    "duration": 338,
    "start_time": "2023-09-12T09:11:43.527Z"
   },
   {
    "duration": 167,
    "start_time": "2023-09-12T09:11:52.054Z"
   },
   {
    "duration": 7,
    "start_time": "2023-09-12T09:12:00.681Z"
   },
   {
    "duration": 158,
    "start_time": "2023-09-12T09:12:03.045Z"
   },
   {
    "duration": 8,
    "start_time": "2023-09-12T09:12:06.383Z"
   },
   {
    "duration": 187,
    "start_time": "2023-09-12T09:12:33.519Z"
   },
   {
    "duration": 187,
    "start_time": "2023-09-12T09:12:42.159Z"
   },
   {
    "duration": 275,
    "start_time": "2023-09-12T09:12:58.273Z"
   },
   {
    "duration": 312,
    "start_time": "2023-09-12T09:12:59.356Z"
   },
   {
    "duration": 20,
    "start_time": "2023-09-12T09:13:01.103Z"
   },
   {
    "duration": 9,
    "start_time": "2023-09-12T09:13:07.949Z"
   },
   {
    "duration": 320,
    "start_time": "2023-09-12T09:13:44.829Z"
   },
   {
    "duration": 501,
    "start_time": "2023-09-12T09:14:06.222Z"
   },
   {
    "duration": 324,
    "start_time": "2023-09-12T09:22:12.467Z"
   },
   {
    "duration": 426,
    "start_time": "2023-09-12T09:23:05.848Z"
   },
   {
    "duration": 125,
    "start_time": "2023-09-12T09:30:50.356Z"
   },
   {
    "duration": 425,
    "start_time": "2023-09-12T09:31:10.151Z"
   },
   {
    "duration": 1274,
    "start_time": "2023-09-13T07:07:19.780Z"
   },
   {
    "duration": 100,
    "start_time": "2023-09-13T07:07:23.289Z"
   },
   {
    "duration": 19,
    "start_time": "2023-09-13T07:07:23.985Z"
   },
   {
    "duration": 15,
    "start_time": "2023-09-13T07:07:24.506Z"
   },
   {
    "duration": 3,
    "start_time": "2023-09-13T07:07:25.831Z"
   },
   {
    "duration": 10,
    "start_time": "2023-09-13T07:07:26.279Z"
   },
   {
    "duration": 52,
    "start_time": "2023-09-13T07:07:28.545Z"
   },
   {
    "duration": 7,
    "start_time": "2023-09-13T07:07:28.936Z"
   },
   {
    "duration": 5,
    "start_time": "2023-09-13T07:07:29.751Z"
   },
   {
    "duration": 5,
    "start_time": "2023-09-13T07:07:29.993Z"
   },
   {
    "duration": 5,
    "start_time": "2023-09-13T07:07:30.248Z"
   },
   {
    "duration": 5,
    "start_time": "2023-09-13T07:07:30.927Z"
   },
   {
    "duration": 6,
    "start_time": "2023-09-13T07:07:31.408Z"
   },
   {
    "duration": 6,
    "start_time": "2023-09-13T07:07:31.626Z"
   },
   {
    "duration": 5,
    "start_time": "2023-09-13T07:07:31.841Z"
   },
   {
    "duration": 7,
    "start_time": "2023-09-13T07:07:32.072Z"
   },
   {
    "duration": 13,
    "start_time": "2023-09-13T07:07:32.271Z"
   },
   {
    "duration": 20,
    "start_time": "2023-09-13T07:07:32.488Z"
   },
   {
    "duration": 5,
    "start_time": "2023-09-13T07:07:32.694Z"
   },
   {
    "duration": 370,
    "start_time": "2023-09-13T07:07:34.719Z"
   },
   {
    "duration": 303,
    "start_time": "2023-09-13T07:07:35.575Z"
   },
   {
    "duration": 1288,
    "start_time": "2023-09-13T07:07:36.242Z"
   },
   {
    "duration": 6,
    "start_time": "2023-09-13T07:07:37.532Z"
   },
   {
    "duration": 351,
    "start_time": "2023-09-13T07:07:37.539Z"
   },
   {
    "duration": 281,
    "start_time": "2023-09-13T07:07:38.289Z"
   },
   {
    "duration": 6,
    "start_time": "2023-09-13T07:07:40.926Z"
   },
   {
    "duration": 19,
    "start_time": "2023-09-13T07:07:41.305Z"
   },
   {
    "duration": 275,
    "start_time": "2023-09-13T07:07:45.743Z"
   },
   {
    "duration": 394,
    "start_time": "2023-09-13T07:07:46.224Z"
   },
   {
    "duration": 154,
    "start_time": "2023-09-13T07:07:48.271Z"
   },
   {
    "duration": 8,
    "start_time": "2023-09-13T07:07:49.046Z"
   },
   {
    "duration": 153,
    "start_time": "2023-09-13T07:07:49.583Z"
   },
   {
    "duration": 8,
    "start_time": "2023-09-13T07:07:50.391Z"
   },
   {
    "duration": 11,
    "start_time": "2023-09-13T07:07:51.151Z"
   },
   {
    "duration": 10,
    "start_time": "2023-09-13T07:07:51.815Z"
   },
   {
    "duration": 190,
    "start_time": "2023-09-13T07:07:53.431Z"
   },
   {
    "duration": 187,
    "start_time": "2023-09-13T07:07:54.375Z"
   },
   {
    "duration": 296,
    "start_time": "2023-09-13T07:07:55.727Z"
   },
   {
    "duration": 302,
    "start_time": "2023-09-13T07:07:56.215Z"
   },
   {
    "duration": 18,
    "start_time": "2023-09-13T07:07:56.736Z"
   },
   {
    "duration": 9,
    "start_time": "2023-09-13T07:07:57.295Z"
   },
   {
    "duration": 321,
    "start_time": "2023-09-13T07:07:59.495Z"
   },
   {
    "duration": 500,
    "start_time": "2023-09-13T07:08:01.062Z"
   },
   {
    "duration": 406,
    "start_time": "2023-09-13T07:08:01.873Z"
   },
   {
    "duration": 8,
    "start_time": "2023-09-13T07:10:05.583Z"
   },
   {
    "duration": 13,
    "start_time": "2023-09-13T07:10:47.256Z"
   },
   {
    "duration": 91,
    "start_time": "2023-09-13T07:12:00.568Z"
   },
   {
    "duration": 14,
    "start_time": "2023-09-13T07:12:19.071Z"
   },
   {
    "duration": 70,
    "start_time": "2023-09-13T07:17:13.495Z"
   },
   {
    "duration": 19,
    "start_time": "2023-09-13T07:17:19.614Z"
   },
   {
    "duration": 13,
    "start_time": "2023-09-13T07:17:34.423Z"
   },
   {
    "duration": 15,
    "start_time": "2023-09-13T07:19:30.367Z"
   },
   {
    "duration": 11,
    "start_time": "2023-09-13T07:19:43.142Z"
   },
   {
    "duration": 9,
    "start_time": "2023-09-13T07:20:07.624Z"
   },
   {
    "duration": 4,
    "start_time": "2023-09-13T07:20:18.154Z"
   },
   {
    "duration": 10,
    "start_time": "2023-09-13T07:20:40.638Z"
   },
   {
    "duration": 3,
    "start_time": "2023-09-13T07:20:41.414Z"
   },
   {
    "duration": 12,
    "start_time": "2023-09-13T07:24:10.133Z"
   },
   {
    "duration": 347,
    "start_time": "2023-09-13T07:25:55.861Z"
   },
   {
    "duration": 9,
    "start_time": "2023-09-13T07:26:15.485Z"
   },
   {
    "duration": 3,
    "start_time": "2023-09-13T07:26:16.101Z"
   },
   {
    "duration": 329,
    "start_time": "2023-09-13T07:26:16.782Z"
   },
   {
    "duration": 10,
    "start_time": "2023-09-13T07:29:20.987Z"
   },
   {
    "duration": 3,
    "start_time": "2023-09-13T07:29:22.580Z"
   },
   {
    "duration": 12,
    "start_time": "2023-09-13T07:29:44.653Z"
   },
   {
    "duration": 3,
    "start_time": "2023-09-13T07:29:55.775Z"
   },
   {
    "duration": 3,
    "start_time": "2023-09-13T07:30:01.190Z"
   },
   {
    "duration": 6,
    "start_time": "2023-09-13T07:30:03.948Z"
   },
   {
    "duration": 8,
    "start_time": "2023-09-13T07:30:29.531Z"
   },
   {
    "duration": 9,
    "start_time": "2023-09-13T07:30:46.388Z"
   },
   {
    "duration": 3,
    "start_time": "2023-09-13T07:30:47.475Z"
   },
   {
    "duration": 4,
    "start_time": "2023-09-13T07:30:48.779Z"
   },
   {
    "duration": 2,
    "start_time": "2023-09-13T07:30:50.836Z"
   },
   {
    "duration": 8,
    "start_time": "2023-09-13T07:31:09.188Z"
   },
   {
    "duration": 5,
    "start_time": "2023-09-13T07:31:27.627Z"
   },
   {
    "duration": 8,
    "start_time": "2023-09-13T07:31:29.476Z"
   },
   {
    "duration": 328,
    "start_time": "2023-09-13T07:36:27.866Z"
   },
   {
    "duration": 341,
    "start_time": "2023-09-13T07:38:59.940Z"
   },
   {
    "duration": 317,
    "start_time": "2023-09-13T07:42:22.492Z"
   },
   {
    "duration": 20,
    "start_time": "2023-09-13T07:43:19.276Z"
   },
   {
    "duration": 812,
    "start_time": "2023-09-13T07:43:31.603Z"
   },
   {
    "duration": 599,
    "start_time": "2023-09-13T07:43:48.549Z"
   },
   {
    "duration": 25,
    "start_time": "2023-09-13T07:44:00.750Z"
   },
   {
    "duration": 19,
    "start_time": "2023-09-13T07:44:03.634Z"
   },
   {
    "duration": 425,
    "start_time": "2023-09-13T07:45:25.018Z"
   },
   {
    "duration": 321,
    "start_time": "2023-09-13T07:45:46.658Z"
   },
   {
    "duration": 21,
    "start_time": "2023-09-13T07:46:43.129Z"
   },
   {
    "duration": 353,
    "start_time": "2023-09-13T07:47:01.747Z"
   },
   {
    "duration": 326,
    "start_time": "2023-09-13T07:47:53.823Z"
   },
   {
    "duration": 330,
    "start_time": "2023-09-13T07:49:18.740Z"
   },
   {
    "duration": 3,
    "start_time": "2023-09-13T08:00:54.320Z"
   },
   {
    "duration": 50,
    "start_time": "2023-09-13T08:00:55.371Z"
   },
   {
    "duration": 20,
    "start_time": "2023-09-13T08:00:56.216Z"
   },
   {
    "duration": 17,
    "start_time": "2023-09-13T08:00:56.989Z"
   },
   {
    "duration": 4,
    "start_time": "2023-09-13T08:00:58.619Z"
   },
   {
    "duration": 13,
    "start_time": "2023-09-13T08:00:58.853Z"
   },
   {
    "duration": 21,
    "start_time": "2023-09-13T08:00:59.085Z"
   },
   {
    "duration": 7,
    "start_time": "2023-09-13T08:00:59.374Z"
   },
   {
    "duration": 6,
    "start_time": "2023-09-13T08:00:59.820Z"
   },
   {
    "duration": 6,
    "start_time": "2023-09-13T08:01:00.070Z"
   },
   {
    "duration": 6,
    "start_time": "2023-09-13T08:01:00.285Z"
   },
   {
    "duration": 5,
    "start_time": "2023-09-13T08:01:01.404Z"
   },
   {
    "duration": 7,
    "start_time": "2023-09-13T08:01:02.037Z"
   },
   {
    "duration": 9,
    "start_time": "2023-09-13T08:01:02.366Z"
   },
   {
    "duration": 6,
    "start_time": "2023-09-13T08:01:02.790Z"
   },
   {
    "duration": 6,
    "start_time": "2023-09-13T08:01:03.269Z"
   },
   {
    "duration": 14,
    "start_time": "2023-09-13T08:01:03.718Z"
   },
   {
    "duration": 15,
    "start_time": "2023-09-13T08:01:04.285Z"
   },
   {
    "duration": 5,
    "start_time": "2023-09-13T08:01:04.717Z"
   },
   {
    "duration": 487,
    "start_time": "2023-09-13T08:01:05.941Z"
   },
   {
    "duration": 415,
    "start_time": "2023-09-13T08:01:06.869Z"
   },
   {
    "duration": 1322,
    "start_time": "2023-09-13T08:01:07.621Z"
   },
   {
    "duration": 11,
    "start_time": "2023-09-13T08:01:08.944Z"
   },
   {
    "duration": 371,
    "start_time": "2023-09-13T08:01:09.430Z"
   },
   {
    "duration": 385,
    "start_time": "2023-09-13T08:01:11.830Z"
   },
   {
    "duration": 5,
    "start_time": "2023-09-13T08:01:15.358Z"
   },
   {
    "duration": 20,
    "start_time": "2023-09-13T08:01:16.047Z"
   },
   {
    "duration": 293,
    "start_time": "2023-09-13T08:01:18.166Z"
   },
   {
    "duration": 289,
    "start_time": "2023-09-13T08:01:18.783Z"
   },
   {
    "duration": 167,
    "start_time": "2023-09-13T08:01:21.932Z"
   },
   {
    "duration": 9,
    "start_time": "2023-09-13T08:01:22.414Z"
   },
   {
    "duration": 175,
    "start_time": "2023-09-13T08:01:22.989Z"
   },
   {
    "duration": 8,
    "start_time": "2023-09-13T08:01:23.501Z"
   },
   {
    "duration": 12,
    "start_time": "2023-09-13T08:01:24.206Z"
   },
   {
    "duration": 12,
    "start_time": "2023-09-13T08:01:24.805Z"
   },
   {
    "duration": 235,
    "start_time": "2023-09-13T08:01:26.257Z"
   },
   {
    "duration": 202,
    "start_time": "2023-09-13T08:01:27.284Z"
   },
   {
    "duration": 399,
    "start_time": "2023-09-13T08:01:29.030Z"
   },
   {
    "duration": 334,
    "start_time": "2023-09-13T08:01:29.598Z"
   },
   {
    "duration": 20,
    "start_time": "2023-09-13T08:01:30.271Z"
   },
   {
    "duration": 10,
    "start_time": "2023-09-13T08:01:30.950Z"
   },
   {
    "duration": 354,
    "start_time": "2023-09-13T08:01:51.750Z"
   },
   {
    "duration": 471,
    "start_time": "2023-09-13T08:01:55.789Z"
   },
   {
    "duration": 78,
    "start_time": "2023-09-13T08:02:23.884Z"
   },
   {
    "duration": 463,
    "start_time": "2023-09-13T08:02:30.837Z"
   },
   {
    "duration": 169,
    "start_time": "2023-09-13T08:02:38.813Z"
   },
   {
    "duration": 8,
    "start_time": "2023-09-13T08:02:43.621Z"
   },
   {
    "duration": 10,
    "start_time": "2023-09-13T08:02:44.460Z"
   },
   {
    "duration": 3,
    "start_time": "2023-09-13T08:05:24.254Z"
   },
   {
    "duration": 50,
    "start_time": "2023-09-13T08:05:24.756Z"
   },
   {
    "duration": 15,
    "start_time": "2023-09-13T08:05:25.029Z"
   },
   {
    "duration": 13,
    "start_time": "2023-09-13T08:05:25.277Z"
   },
   {
    "duration": 4,
    "start_time": "2023-09-13T08:05:26.086Z"
   },
   {
    "duration": 15,
    "start_time": "2023-09-13T08:05:26.302Z"
   },
   {
    "duration": 17,
    "start_time": "2023-09-13T08:05:26.508Z"
   },
   {
    "duration": 8,
    "start_time": "2023-09-13T08:05:26.724Z"
   },
   {
    "duration": 6,
    "start_time": "2023-09-13T08:05:27.164Z"
   },
   {
    "duration": 6,
    "start_time": "2023-09-13T08:05:27.364Z"
   },
   {
    "duration": 5,
    "start_time": "2023-09-13T08:05:27.588Z"
   },
   {
    "duration": 6,
    "start_time": "2023-09-13T08:05:28.021Z"
   },
   {
    "duration": 8,
    "start_time": "2023-09-13T08:05:28.420Z"
   },
   {
    "duration": 6,
    "start_time": "2023-09-13T08:05:28.621Z"
   },
   {
    "duration": 5,
    "start_time": "2023-09-13T08:05:28.829Z"
   },
   {
    "duration": 6,
    "start_time": "2023-09-13T08:05:29.037Z"
   },
   {
    "duration": 13,
    "start_time": "2023-09-13T08:05:29.244Z"
   },
   {
    "duration": 13,
    "start_time": "2023-09-13T08:05:29.460Z"
   },
   {
    "duration": 6,
    "start_time": "2023-09-13T08:05:29.653Z"
   },
   {
    "duration": 442,
    "start_time": "2023-09-13T08:05:30.509Z"
   },
   {
    "duration": 317,
    "start_time": "2023-09-13T08:05:31.118Z"
   },
   {
    "duration": 1314,
    "start_time": "2023-09-13T08:05:31.580Z"
   },
   {
    "duration": 7,
    "start_time": "2023-09-13T08:05:32.895Z"
   },
   {
    "duration": 457,
    "start_time": "2023-09-13T08:05:32.904Z"
   },
   {
    "duration": 298,
    "start_time": "2023-09-13T08:05:33.363Z"
   },
   {
    "duration": 6,
    "start_time": "2023-09-13T08:05:33.663Z"
   },
   {
    "duration": 22,
    "start_time": "2023-09-13T08:05:33.829Z"
   },
   {
    "duration": 311,
    "start_time": "2023-09-13T08:05:34.508Z"
   },
   {
    "duration": 305,
    "start_time": "2023-09-13T08:05:34.820Z"
   },
   {
    "duration": 175,
    "start_time": "2023-09-13T08:05:35.341Z"
   },
   {
    "duration": 8,
    "start_time": "2023-09-13T08:05:35.717Z"
   },
   {
    "duration": 209,
    "start_time": "2023-09-13T08:05:35.908Z"
   },
   {
    "duration": 11,
    "start_time": "2023-09-13T08:05:36.125Z"
   },
   {
    "duration": 12,
    "start_time": "2023-09-13T08:05:36.332Z"
   },
   {
    "duration": 11,
    "start_time": "2023-09-13T08:05:36.556Z"
   },
   {
    "duration": 203,
    "start_time": "2023-09-13T08:05:37.236Z"
   },
   {
    "duration": 192,
    "start_time": "2023-09-13T08:05:37.885Z"
   },
   {
    "duration": 422,
    "start_time": "2023-09-13T08:05:38.621Z"
   },
   {
    "duration": 326,
    "start_time": "2023-09-13T08:05:39.049Z"
   },
   {
    "duration": 19,
    "start_time": "2023-09-13T08:05:39.377Z"
   },
   {
    "duration": 10,
    "start_time": "2023-09-13T08:05:39.398Z"
   },
   {
    "duration": 328,
    "start_time": "2023-09-13T08:05:39.939Z"
   },
   {
    "duration": 399,
    "start_time": "2023-09-13T08:05:42.333Z"
   },
   {
    "duration": 529,
    "start_time": "2023-09-13T08:05:45.885Z"
   },
   {
    "duration": 170,
    "start_time": "2023-09-13T08:05:48.516Z"
   },
   {
    "duration": 5,
    "start_time": "2023-09-13T08:06:35.103Z"
   },
   {
    "duration": 8,
    "start_time": "2023-09-13T08:07:56.487Z"
   },
   {
    "duration": 16,
    "start_time": "2023-09-13T08:08:01.076Z"
   },
   {
    "duration": 14,
    "start_time": "2023-09-13T08:09:06.180Z"
   },
   {
    "duration": 14,
    "start_time": "2023-09-13T08:09:13.812Z"
   },
   {
    "duration": 19,
    "start_time": "2023-09-13T08:09:35.942Z"
   },
   {
    "duration": 3,
    "start_time": "2023-09-13T08:10:08.596Z"
   },
   {
    "duration": 49,
    "start_time": "2023-09-13T08:10:09.212Z"
   },
   {
    "duration": 16,
    "start_time": "2023-09-13T08:10:09.677Z"
   },
   {
    "duration": 14,
    "start_time": "2023-09-13T08:10:10.173Z"
   },
   {
    "duration": 4,
    "start_time": "2023-09-13T08:10:10.988Z"
   },
   {
    "duration": 10,
    "start_time": "2023-09-13T08:10:11.203Z"
   },
   {
    "duration": 15,
    "start_time": "2023-09-13T08:10:11.420Z"
   },
   {
    "duration": 6,
    "start_time": "2023-09-13T08:10:11.612Z"
   },
   {
    "duration": 6,
    "start_time": "2023-09-13T08:10:12.010Z"
   },
   {
    "duration": 5,
    "start_time": "2023-09-13T08:10:12.212Z"
   },
   {
    "duration": 5,
    "start_time": "2023-09-13T08:10:12.451Z"
   },
   {
    "duration": 5,
    "start_time": "2023-09-13T08:10:12.856Z"
   },
   {
    "duration": 6,
    "start_time": "2023-09-13T08:10:13.229Z"
   },
   {
    "duration": 8,
    "start_time": "2023-09-13T08:10:13.411Z"
   },
   {
    "duration": 5,
    "start_time": "2023-09-13T08:10:13.604Z"
   },
   {
    "duration": 8,
    "start_time": "2023-09-13T08:10:13.796Z"
   },
   {
    "duration": 16,
    "start_time": "2023-09-13T08:10:13.988Z"
   },
   {
    "duration": 15,
    "start_time": "2023-09-13T08:10:14.187Z"
   },
   {
    "duration": 7,
    "start_time": "2023-09-13T08:10:14.387Z"
   },
   {
    "duration": 428,
    "start_time": "2023-09-13T08:10:15.371Z"
   },
   {
    "duration": 381,
    "start_time": "2023-09-13T08:10:15.987Z"
   },
   {
    "duration": 1231,
    "start_time": "2023-09-13T08:10:17.174Z"
   },
   {
    "duration": 6,
    "start_time": "2023-09-13T08:10:18.407Z"
   },
   {
    "duration": 428,
    "start_time": "2023-09-13T08:10:18.414Z"
   },
   {
    "duration": 290,
    "start_time": "2023-09-13T08:10:18.989Z"
   },
   {
    "duration": 6,
    "start_time": "2023-09-13T08:10:19.350Z"
   },
   {
    "duration": 17,
    "start_time": "2023-09-13T08:10:19.541Z"
   },
   {
    "duration": 280,
    "start_time": "2023-09-13T08:10:20.187Z"
   },
   {
    "duration": 295,
    "start_time": "2023-09-13T08:10:20.469Z"
   },
   {
    "duration": 162,
    "start_time": "2023-09-13T08:10:21.187Z"
   },
   {
    "duration": 10,
    "start_time": "2023-09-13T08:10:21.387Z"
   },
   {
    "duration": 168,
    "start_time": "2023-09-13T08:10:21.619Z"
   },
   {
    "duration": 7,
    "start_time": "2023-09-13T08:10:21.820Z"
   },
   {
    "duration": 10,
    "start_time": "2023-09-13T08:10:22.056Z"
   },
   {
    "duration": 11,
    "start_time": "2023-09-13T08:10:22.267Z"
   },
   {
    "duration": 192,
    "start_time": "2023-09-13T08:10:23.124Z"
   },
   {
    "duration": 280,
    "start_time": "2023-09-13T08:10:23.572Z"
   },
   {
    "duration": 302,
    "start_time": "2023-09-13T08:10:24.220Z"
   },
   {
    "duration": 330,
    "start_time": "2023-09-13T08:10:24.525Z"
   },
   {
    "duration": 21,
    "start_time": "2023-09-13T08:10:24.857Z"
   },
   {
    "duration": 9,
    "start_time": "2023-09-13T08:10:24.880Z"
   },
   {
    "duration": 311,
    "start_time": "2023-09-13T08:10:25.244Z"
   },
   {
    "duration": 430,
    "start_time": "2023-09-13T08:10:28.947Z"
   },
   {
    "duration": 480,
    "start_time": "2023-09-13T08:10:30.915Z"
   },
   {
    "duration": 254,
    "start_time": "2023-09-13T08:10:37.220Z"
   },
   {
    "duration": 9,
    "start_time": "2023-09-13T08:10:46.218Z"
   },
   {
    "duration": 21,
    "start_time": "2023-09-13T08:10:49.589Z"
   },
   {
    "duration": 10,
    "start_time": "2023-09-13T08:11:24.982Z"
   },
   {
    "duration": 9,
    "start_time": "2023-09-13T08:11:25.908Z"
   },
   {
    "duration": 5,
    "start_time": "2023-09-13T08:11:29.316Z"
   },
   {
    "duration": 5,
    "start_time": "2023-09-13T08:11:40.877Z"
   },
   {
    "duration": 8,
    "start_time": "2023-09-13T08:12:18.197Z"
   },
   {
    "duration": 8,
    "start_time": "2023-09-13T08:12:18.956Z"
   },
   {
    "duration": 5,
    "start_time": "2023-09-13T08:12:20.876Z"
   }
  ],
  "kernelspec": {
   "display_name": "Python 3 (ipykernel)",
   "language": "python",
   "name": "python3"
  },
  "language_info": {
   "codemirror_mode": {
    "name": "ipython",
    "version": 3
   },
   "file_extension": ".py",
   "mimetype": "text/x-python",
   "name": "python",
   "nbconvert_exporter": "python",
   "pygments_lexer": "ipython3",
   "version": "3.9.5"
  },
  "toc": {
   "base_numbering": 1,
   "nav_menu": {},
   "number_sections": true,
   "sideBar": true,
   "skip_h1_title": true,
   "title_cell": "Table of Contents",
   "title_sidebar": "Contents",
   "toc_cell": false,
   "toc_position": {},
   "toc_section_display": true,
   "toc_window_display": false
  }
 },
 "nbformat": 4,
 "nbformat_minor": 2
}
